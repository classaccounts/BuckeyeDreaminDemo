{
 "cells": [
  {
   "cell_type": "markdown",
   "id": "af4b8b00",
   "metadata": {},
   "source": [
    "# Simple Data Manipulation"
   ]
  },
  {
   "cell_type": "markdown",
   "id": "9646257c",
   "metadata": {},
   "source": [
    "This notebook may not tell a story like the others, but it stands as a powerful demonstration of what's possible.\n",
    "\n",
    "It's more like a catalog of data operation we can use to solve our toughest data problems"
   ]
  },
  {
   "cell_type": "markdown",
   "id": "877b93a4",
   "metadata": {},
   "source": [
    "### Imports"
   ]
  },
  {
   "cell_type": "code",
   "execution_count": 24,
   "id": "f08cdb31",
   "metadata": {},
   "outputs": [],
   "source": [
    "import pandas as pd\n",
    "import json\n",
    "from fuzzywuzzy import process"
   ]
  },
  {
   "cell_type": "markdown",
   "id": "a63395ff",
   "metadata": {},
   "source": [
    "## Loading Data"
   ]
  },
  {
   "cell_type": "markdown",
   "id": "1278cfd1",
   "metadata": {},
   "source": [
    "The container for all our data is the DataFrame, a Python object designed to hold tabular data. You can think of it like a table, an Excel sheet, or a matrix that makes it easy to manipulate data within Python\n",
    "\n",
    "It can handle more than two dimensions when working with deep learning models or multi-dimensional datasets, such as cubed financial data or time-series with multiple variables.\n",
    "\n",
    "Let's load some data!"
   ]
  },
  {
   "cell_type": "code",
   "execution_count": 25,
   "id": "62244200",
   "metadata": {},
   "outputs": [],
   "source": [
    "df_accounts = pd.read_csv('../datasets/accounts.csv') #you can specify delimeter, encoding and other parameters in the read_csv function.\n",
    "df_contacts = pd.read_csv('../datasets/contacts.csv')\n",
    "df_accounts_excel = pd.read_excel('../datasets/accounts_excel.xlsx', sheet_name='Sheet1') "
   ]
  },
  {
   "cell_type": "markdown",
   "id": "2a2858fd",
   "metadata": {},
   "source": [
    "## Inspect"
   ]
  },
  {
   "cell_type": "markdown",
   "id": "ee0f6bf6",
   "metadata": {},
   "source": [
    "We're going to explore different ways of slicing and dicing data in pandas. This is just the tip of the iceberg. In a programmatic environment, how you manipulate the data is limited only by your imagination."
   ]
  },
  {
   "cell_type": "markdown",
   "id": "b0a3991f",
   "metadata": {},
   "source": [
    "Let's count some rows. This code counts the total number of Account and Contact records in the data, then displays those counts along with a summary of how many values are present in each Account field."
   ]
  },
  {
   "cell_type": "code",
   "execution_count": 26,
   "id": "cce72a4b",
   "metadata": {
    "vscode": {
     "languageId": "javascript"
    }
   },
   "outputs": [
    {
     "data": {
      "text/html": [
       "<div>\n",
       "<style scoped>\n",
       "    .dataframe tbody tr th:only-of-type {\n",
       "        vertical-align: middle;\n",
       "    }\n",
       "\n",
       "    .dataframe tbody tr th {\n",
       "        vertical-align: top;\n",
       "    }\n",
       "\n",
       "    .dataframe thead th {\n",
       "        text-align: right;\n",
       "    }\n",
       "</style>\n",
       "<table border=\"1\" class=\"dataframe\">\n",
       "  <thead>\n",
       "    <tr style=\"text-align: right;\">\n",
       "      <th></th>\n",
       "      <th>Accounts</th>\n",
       "      <th>Contacts</th>\n",
       "    </tr>\n",
       "  </thead>\n",
       "  <tbody>\n",
       "    <tr>\n",
       "      <th>0</th>\n",
       "      <td>21</td>\n",
       "      <td>100</td>\n",
       "    </tr>\n",
       "  </tbody>\n",
       "</table>\n",
       "</div>"
      ],
      "text/plain": [
       "   Accounts  Contacts\n",
       "0        21       100"
      ]
     },
     "metadata": {},
     "output_type": "display_data"
    },
    {
     "data": {
      "text/plain": [
       "AccountName     21\n",
       "Industry        21\n",
       "Type            21\n",
       "Rating          21\n",
       "BillingCity     21\n",
       "BillingState    21\n",
       "Website         21\n",
       "Phone           21\n",
       "dtype: int64"
      ]
     },
     "metadata": {},
     "output_type": "display_data"
    }
   ],
   "source": [
    "row_counts = pd.DataFrame({\n",
    "    'Accounts': [df_accounts.shape[0]],\n",
    "    'Contacts': [df_contacts.shape[0]]\n",
    "})\n",
    "display(row_counts)\n",
    "display(df_accounts.count())"
   ]
  },
  {
   "cell_type": "markdown",
   "id": "9172a97f",
   "metadata": {},
   "source": [
    "This block displays descriptive statistics for numerical columns in df_contacts, shows 2 random sample rows from df_contacts, and displays the first 3 rows of df_accounts."
   ]
  },
  {
   "cell_type": "code",
   "execution_count": 27,
   "id": "eea4d81d",
   "metadata": {},
   "outputs": [
    {
     "data": {
      "text/html": [
       "<div>\n",
       "<style scoped>\n",
       "    .dataframe tbody tr th:only-of-type {\n",
       "        vertical-align: middle;\n",
       "    }\n",
       "\n",
       "    .dataframe tbody tr th {\n",
       "        vertical-align: top;\n",
       "    }\n",
       "\n",
       "    .dataframe thead th {\n",
       "        text-align: right;\n",
       "    }\n",
       "</style>\n",
       "<table border=\"1\" class=\"dataframe\">\n",
       "  <thead>\n",
       "    <tr style=\"text-align: right;\">\n",
       "      <th></th>\n",
       "      <th>FirstName</th>\n",
       "      <th>LastName</th>\n",
       "      <th>Email</th>\n",
       "      <th>Phone</th>\n",
       "      <th>MobilePhone</th>\n",
       "      <th>AccountName</th>\n",
       "      <th>Title</th>\n",
       "      <th>MailingCity</th>\n",
       "      <th>MailingState</th>\n",
       "      <th>LeadSource</th>\n",
       "    </tr>\n",
       "  </thead>\n",
       "  <tbody>\n",
       "    <tr>\n",
       "      <th>count</th>\n",
       "      <td>100</td>\n",
       "      <td>100</td>\n",
       "      <td>100</td>\n",
       "      <td>100</td>\n",
       "      <td>100</td>\n",
       "      <td>100</td>\n",
       "      <td>100</td>\n",
       "      <td>100</td>\n",
       "      <td>100</td>\n",
       "      <td>100</td>\n",
       "    </tr>\n",
       "    <tr>\n",
       "      <th>unique</th>\n",
       "      <td>10</td>\n",
       "      <td>10</td>\n",
       "      <td>96</td>\n",
       "      <td>100</td>\n",
       "      <td>100</td>\n",
       "      <td>20</td>\n",
       "      <td>10</td>\n",
       "      <td>10</td>\n",
       "      <td>9</td>\n",
       "      <td>6</td>\n",
       "    </tr>\n",
       "    <tr>\n",
       "      <th>top</th>\n",
       "      <td>Liam</td>\n",
       "      <td>Smith</td>\n",
       "      <td>user12@mailservice.org</td>\n",
       "      <td>555-813-6931</td>\n",
       "      <td>555-553-8435</td>\n",
       "      <td>Startup Inc</td>\n",
       "      <td>CEO</td>\n",
       "      <td>Miami</td>\n",
       "      <td>CA</td>\n",
       "      <td>Trade Show</td>\n",
       "    </tr>\n",
       "    <tr>\n",
       "      <th>freq</th>\n",
       "      <td>15</td>\n",
       "      <td>14</td>\n",
       "      <td>3</td>\n",
       "      <td>1</td>\n",
       "      <td>1</td>\n",
       "      <td>10</td>\n",
       "      <td>13</td>\n",
       "      <td>16</td>\n",
       "      <td>23</td>\n",
       "      <td>21</td>\n",
       "    </tr>\n",
       "  </tbody>\n",
       "</table>\n",
       "</div>"
      ],
      "text/plain": [
       "       FirstName LastName                   Email         Phone   MobilePhone  \\\n",
       "count        100      100                     100           100           100   \n",
       "unique        10       10                      96           100           100   \n",
       "top         Liam    Smith  user12@mailservice.org  555-813-6931  555-553-8435   \n",
       "freq          15       14                       3             1             1   \n",
       "\n",
       "        AccountName Title MailingCity MailingState  LeadSource  \n",
       "count           100   100         100          100         100  \n",
       "unique           20    10          10            9           6  \n",
       "top     Startup Inc   CEO       Miami           CA  Trade Show  \n",
       "freq             10    13          16           23          21  "
      ]
     },
     "metadata": {},
     "output_type": "display_data"
    },
    {
     "data": {
      "text/html": [
       "<div>\n",
       "<style scoped>\n",
       "    .dataframe tbody tr th:only-of-type {\n",
       "        vertical-align: middle;\n",
       "    }\n",
       "\n",
       "    .dataframe tbody tr th {\n",
       "        vertical-align: top;\n",
       "    }\n",
       "\n",
       "    .dataframe thead th {\n",
       "        text-align: right;\n",
       "    }\n",
       "</style>\n",
       "<table border=\"1\" class=\"dataframe\">\n",
       "  <thead>\n",
       "    <tr style=\"text-align: right;\">\n",
       "      <th></th>\n",
       "      <th>FirstName</th>\n",
       "      <th>LastName</th>\n",
       "      <th>Email</th>\n",
       "      <th>Phone</th>\n",
       "      <th>MobilePhone</th>\n",
       "      <th>AccountName</th>\n",
       "      <th>Title</th>\n",
       "      <th>MailingCity</th>\n",
       "      <th>MailingState</th>\n",
       "      <th>LeadSource</th>\n",
       "    </tr>\n",
       "  </thead>\n",
       "  <tbody>\n",
       "    <tr>\n",
       "      <th>60</th>\n",
       "      <td>Aisha</td>\n",
       "      <td>Ramirez</td>\n",
       "      <td>user60@businessmail.org</td>\n",
       "      <td>555-109-1845</td>\n",
       "      <td>555-449-5114</td>\n",
       "      <td>NextPhase Digital</td>\n",
       "      <td>VP of Sales</td>\n",
       "      <td>Los Angeles</td>\n",
       "      <td>WA</td>\n",
       "      <td>Email Campaign</td>\n",
       "    </tr>\n",
       "    <tr>\n",
       "      <th>23</th>\n",
       "      <td>Liam</td>\n",
       "      <td>Khan</td>\n",
       "      <td>user23@businessmail.co</td>\n",
       "      <td>555-529-4717</td>\n",
       "      <td>555-817-9422</td>\n",
       "      <td>Startup Inc</td>\n",
       "      <td>CEO</td>\n",
       "      <td>Los Angeles</td>\n",
       "      <td>FL</td>\n",
       "      <td>Advertisement</td>\n",
       "    </tr>\n",
       "  </tbody>\n",
       "</table>\n",
       "</div>"
      ],
      "text/plain": [
       "   FirstName LastName                    Email         Phone   MobilePhone  \\\n",
       "60     Aisha  Ramirez  user60@businessmail.org  555-109-1845  555-449-5114   \n",
       "23      Liam     Khan   user23@businessmail.co  555-529-4717  555-817-9422   \n",
       "\n",
       "          AccountName        Title  MailingCity MailingState      LeadSource  \n",
       "60  NextPhase Digital  VP of Sales  Los Angeles           WA  Email Campaign  \n",
       "23        Startup Inc          CEO  Los Angeles           FL   Advertisement  "
      ]
     },
     "metadata": {},
     "output_type": "display_data"
    },
    {
     "data": {
      "text/html": [
       "<div>\n",
       "<style scoped>\n",
       "    .dataframe tbody tr th:only-of-type {\n",
       "        vertical-align: middle;\n",
       "    }\n",
       "\n",
       "    .dataframe tbody tr th {\n",
       "        vertical-align: top;\n",
       "    }\n",
       "\n",
       "    .dataframe thead th {\n",
       "        text-align: right;\n",
       "    }\n",
       "</style>\n",
       "<table border=\"1\" class=\"dataframe\">\n",
       "  <thead>\n",
       "    <tr style=\"text-align: right;\">\n",
       "      <th></th>\n",
       "      <th>AccountName</th>\n",
       "      <th>Industry</th>\n",
       "      <th>Type</th>\n",
       "      <th>Rating</th>\n",
       "      <th>BillingCity</th>\n",
       "      <th>BillingState</th>\n",
       "      <th>Website</th>\n",
       "      <th>Phone</th>\n",
       "    </tr>\n",
       "  </thead>\n",
       "  <tbody>\n",
       "    <tr>\n",
       "      <th>0</th>\n",
       "      <td>Blue Ocean Tech</td>\n",
       "      <td>Healthcare</td>\n",
       "      <td>Vendor</td>\n",
       "      <td>Hot</td>\n",
       "      <td>San Francisco</td>\n",
       "      <td>WA</td>\n",
       "      <td>www.blueoceantech.com</td>\n",
       "      <td>555-410-9237</td>\n",
       "    </tr>\n",
       "    <tr>\n",
       "      <th>1</th>\n",
       "      <td>Acme Corp</td>\n",
       "      <td>Manufacturing</td>\n",
       "      <td>Partner</td>\n",
       "      <td>Warm</td>\n",
       "      <td>Los Angeles</td>\n",
       "      <td>CO</td>\n",
       "      <td>www.acmecorp.com</td>\n",
       "      <td>555-141-7084</td>\n",
       "    </tr>\n",
       "    <tr>\n",
       "      <th>2</th>\n",
       "      <td>Tech Solutions</td>\n",
       "      <td>Technology</td>\n",
       "      <td>Vendor</td>\n",
       "      <td>Hot</td>\n",
       "      <td>Miami</td>\n",
       "      <td>FL</td>\n",
       "      <td>www.techsolutions.com</td>\n",
       "      <td>555-624-8599</td>\n",
       "    </tr>\n",
       "  </tbody>\n",
       "</table>\n",
       "</div>"
      ],
      "text/plain": [
       "       AccountName       Industry     Type Rating    BillingCity BillingState  \\\n",
       "0  Blue Ocean Tech     Healthcare   Vendor    Hot  San Francisco           WA   \n",
       "1        Acme Corp  Manufacturing  Partner   Warm    Los Angeles           CO   \n",
       "2   Tech Solutions     Technology   Vendor    Hot          Miami           FL   \n",
       "\n",
       "                 Website         Phone  \n",
       "0  www.blueoceantech.com  555-410-9237  \n",
       "1       www.acmecorp.com  555-141-7084  \n",
       "2  www.techsolutions.com  555-624-8599  "
      ]
     },
     "metadata": {},
     "output_type": "display_data"
    }
   ],
   "source": [
    "display(df_contacts.describe()) # Descriptive statistics for numerical columns\n",
    "display(df_contacts.sample(2)) #get some sample data, specify the number of rows you want to sample\n",
    "display(df_accounts.head(3)) #get the first 3 rows of the dataframe, you can alos get the last by using tail()"
   ]
  },
  {
   "cell_type": "markdown",
   "id": "8ea360cf",
   "metadata": {},
   "source": [
    "The code block filters the df_accounts DataFrame to include only rows where the 'Type' column is 'Vendor', assigns the result to the vendors DataFrame, and displays the first five rows."
   ]
  },
  {
   "cell_type": "code",
   "execution_count": 28,
   "id": "7a982349",
   "metadata": {},
   "outputs": [
    {
     "data": {
      "text/html": [
       "<div>\n",
       "<style scoped>\n",
       "    .dataframe tbody tr th:only-of-type {\n",
       "        vertical-align: middle;\n",
       "    }\n",
       "\n",
       "    .dataframe tbody tr th {\n",
       "        vertical-align: top;\n",
       "    }\n",
       "\n",
       "    .dataframe thead th {\n",
       "        text-align: right;\n",
       "    }\n",
       "</style>\n",
       "<table border=\"1\" class=\"dataframe\">\n",
       "  <thead>\n",
       "    <tr style=\"text-align: right;\">\n",
       "      <th></th>\n",
       "      <th>AccountName</th>\n",
       "      <th>Industry</th>\n",
       "      <th>Type</th>\n",
       "      <th>Rating</th>\n",
       "      <th>BillingCity</th>\n",
       "      <th>BillingState</th>\n",
       "      <th>Website</th>\n",
       "      <th>Phone</th>\n",
       "    </tr>\n",
       "  </thead>\n",
       "  <tbody>\n",
       "    <tr>\n",
       "      <th>0</th>\n",
       "      <td>Blue Ocean Tech</td>\n",
       "      <td>Healthcare</td>\n",
       "      <td>Vendor</td>\n",
       "      <td>Hot</td>\n",
       "      <td>San Francisco</td>\n",
       "      <td>WA</td>\n",
       "      <td>www.blueoceantech.com</td>\n",
       "      <td>555-410-9237</td>\n",
       "    </tr>\n",
       "    <tr>\n",
       "      <th>2</th>\n",
       "      <td>Tech Solutions</td>\n",
       "      <td>Technology</td>\n",
       "      <td>Vendor</td>\n",
       "      <td>Hot</td>\n",
       "      <td>Miami</td>\n",
       "      <td>FL</td>\n",
       "      <td>www.techsolutions.com</td>\n",
       "      <td>555-624-8599</td>\n",
       "    </tr>\n",
       "    <tr>\n",
       "      <th>5</th>\n",
       "      <td>Green Horizon Ltd</td>\n",
       "      <td>Manufacturing</td>\n",
       "      <td>Vendor</td>\n",
       "      <td>Warm</td>\n",
       "      <td>New York</td>\n",
       "      <td>MA</td>\n",
       "      <td>www.greenhorizonltd.com</td>\n",
       "      <td>555-364-1884</td>\n",
       "    </tr>\n",
       "    <tr>\n",
       "      <th>8</th>\n",
       "      <td>Crimson Peak Solutions</td>\n",
       "      <td>Technology</td>\n",
       "      <td>Vendor</td>\n",
       "      <td>Warm</td>\n",
       "      <td>Miami</td>\n",
       "      <td>FL</td>\n",
       "      <td>www.crimsonpeaksolutions.com</td>\n",
       "      <td>555-710-6370</td>\n",
       "    </tr>\n",
       "    <tr>\n",
       "      <th>12</th>\n",
       "      <td>Silverline Systems</td>\n",
       "      <td>Manufacturing</td>\n",
       "      <td>Vendor</td>\n",
       "      <td>Cold</td>\n",
       "      <td>San Francisco</td>\n",
       "      <td>AZ</td>\n",
       "      <td>www.silverlinesystems.com</td>\n",
       "      <td>555-493-8297</td>\n",
       "    </tr>\n",
       "  </tbody>\n",
       "</table>\n",
       "</div>"
      ],
      "text/plain": [
       "               AccountName       Industry    Type Rating    BillingCity  \\\n",
       "0          Blue Ocean Tech     Healthcare  Vendor    Hot  San Francisco   \n",
       "2           Tech Solutions     Technology  Vendor    Hot          Miami   \n",
       "5        Green Horizon Ltd  Manufacturing  Vendor   Warm       New York   \n",
       "8   Crimson Peak Solutions     Technology  Vendor   Warm          Miami   \n",
       "12      Silverline Systems  Manufacturing  Vendor   Cold  San Francisco   \n",
       "\n",
       "   BillingState                       Website         Phone  \n",
       "0            WA         www.blueoceantech.com  555-410-9237  \n",
       "2            FL         www.techsolutions.com  555-624-8599  \n",
       "5            MA       www.greenhorizonltd.com  555-364-1884  \n",
       "8            FL  www.crimsonpeaksolutions.com  555-710-6370  \n",
       "12           AZ     www.silverlinesystems.com  555-493-8297  "
      ]
     },
     "metadata": {},
     "output_type": "display_data"
    }
   ],
   "source": [
    "vendors = df_accounts[df_accounts['Type'] == 'Vendor']\n",
    "display(vendors[0:5])"
   ]
  },
  {
   "cell_type": "markdown",
   "id": "3ccad5fb",
   "metadata": {},
   "source": [
    "This cell selects only the 'AccountName' and 'Industry' columns from vendor accounts in the df_accounts DataFrame and displays the first five rows."
   ]
  },
  {
   "cell_type": "code",
   "execution_count": 29,
   "id": "90a2e9b9",
   "metadata": {},
   "outputs": [
    {
     "data": {
      "text/html": [
       "<div>\n",
       "<style scoped>\n",
       "    .dataframe tbody tr th:only-of-type {\n",
       "        vertical-align: middle;\n",
       "    }\n",
       "\n",
       "    .dataframe tbody tr th {\n",
       "        vertical-align: top;\n",
       "    }\n",
       "\n",
       "    .dataframe thead th {\n",
       "        text-align: right;\n",
       "    }\n",
       "</style>\n",
       "<table border=\"1\" class=\"dataframe\">\n",
       "  <thead>\n",
       "    <tr style=\"text-align: right;\">\n",
       "      <th></th>\n",
       "      <th>AccountName</th>\n",
       "      <th>Industry</th>\n",
       "    </tr>\n",
       "  </thead>\n",
       "  <tbody>\n",
       "    <tr>\n",
       "      <th>0</th>\n",
       "      <td>Blue Ocean Tech</td>\n",
       "      <td>Healthcare</td>\n",
       "    </tr>\n",
       "    <tr>\n",
       "      <th>2</th>\n",
       "      <td>Tech Solutions</td>\n",
       "      <td>Technology</td>\n",
       "    </tr>\n",
       "    <tr>\n",
       "      <th>5</th>\n",
       "      <td>Green Horizon Ltd</td>\n",
       "      <td>Manufacturing</td>\n",
       "    </tr>\n",
       "    <tr>\n",
       "      <th>8</th>\n",
       "      <td>Crimson Peak Solutions</td>\n",
       "      <td>Technology</td>\n",
       "    </tr>\n",
       "    <tr>\n",
       "      <th>12</th>\n",
       "      <td>Silverline Systems</td>\n",
       "      <td>Manufacturing</td>\n",
       "    </tr>\n",
       "  </tbody>\n",
       "</table>\n",
       "</div>"
      ],
      "text/plain": [
       "               AccountName       Industry\n",
       "0          Blue Ocean Tech     Healthcare\n",
       "2           Tech Solutions     Technology\n",
       "5        Green Horizon Ltd  Manufacturing\n",
       "8   Crimson Peak Solutions     Technology\n",
       "12      Silverline Systems  Manufacturing"
      ]
     },
     "metadata": {},
     "output_type": "display_data"
    }
   ],
   "source": [
    "vendors = df_accounts[df_accounts['Type'] == 'Vendor'][['AccountName', 'Industry']]\n",
    "display(vendors[0:5])"
   ]
  },
  {
   "cell_type": "markdown",
   "id": "a643c6e6",
   "metadata": {},
   "source": [
    "Before going further lets join these datasets together, this will be the easiest merge you will likely ever deal with haha. This cell merges contact and account dataframes on the AccountName field using a left join, keeping all contacts, and then displays the resulting column names."
   ]
  },
  {
   "cell_type": "code",
   "execution_count": 30,
   "id": "16981b10",
   "metadata": {},
   "outputs": [
    {
     "data": {
      "text/plain": [
       "Index(['FirstName', 'LastName', 'Email', 'Phone_x', 'MobilePhone',\n",
       "       'AccountName', 'Title', 'MailingCity', 'MailingState', 'LeadSource',\n",
       "       'Industry', 'Type', 'Rating', 'BillingCity', 'BillingState', 'Website',\n",
       "       'Phone_y'],\n",
       "      dtype='object')"
      ]
     },
     "metadata": {},
     "output_type": "display_data"
    }
   ],
   "source": [
    "merged = pd.merge(df_contacts, df_accounts, on=\"AccountName\", how=\"left\")\n",
    "display(merged.columns)"
   ]
  },
  {
   "cell_type": "markdown",
   "id": "c1191a0f",
   "metadata": {},
   "source": [
    "Let's get creative and query the in ways that SOQL or Excel may have trouble doing. This cell filters the contacts dataframe to show the first five rows where the title includes VP, Vice President, Director, or Head, ignoring case."
   ]
  },
  {
   "cell_type": "code",
   "execution_count": 31,
   "id": "df9af0b4",
   "metadata": {},
   "outputs": [
    {
     "name": "stderr",
     "output_type": "stream",
     "text": [
      "C:\\Users\\JackMcHugh\\AppData\\Local\\Temp\\ipykernel_38548\\1712298325.py:3: UserWarning: This pattern is interpreted as a regular expression, and has match groups. To actually get the groups, use str.extract.\n",
      "  df_contacts[df_contacts[\"Title\"].str.contains(r\"\\b(VP|Vice President|Director|Head)\\b\", case=False, na=False)][0:5]\n"
     ]
    },
    {
     "data": {
      "text/html": [
       "<div>\n",
       "<style scoped>\n",
       "    .dataframe tbody tr th:only-of-type {\n",
       "        vertical-align: middle;\n",
       "    }\n",
       "\n",
       "    .dataframe tbody tr th {\n",
       "        vertical-align: top;\n",
       "    }\n",
       "\n",
       "    .dataframe thead th {\n",
       "        text-align: right;\n",
       "    }\n",
       "</style>\n",
       "<table border=\"1\" class=\"dataframe\">\n",
       "  <thead>\n",
       "    <tr style=\"text-align: right;\">\n",
       "      <th></th>\n",
       "      <th>FirstName</th>\n",
       "      <th>LastName</th>\n",
       "      <th>Email</th>\n",
       "      <th>Phone</th>\n",
       "      <th>MobilePhone</th>\n",
       "      <th>AccountName</th>\n",
       "      <th>Title</th>\n",
       "      <th>MailingCity</th>\n",
       "      <th>MailingState</th>\n",
       "      <th>LeadSource</th>\n",
       "    </tr>\n",
       "  </thead>\n",
       "  <tbody>\n",
       "    <tr>\n",
       "      <th>4</th>\n",
       "      <td>Marcus</td>\n",
       "      <td>Williams</td>\n",
       "      <td>user4@mycompany.co</td>\n",
       "      <td>555-390-1983</td>\n",
       "      <td>555-131-2833</td>\n",
       "      <td>Silverline Systems</td>\n",
       "      <td>VP of Sales</td>\n",
       "      <td>Miami</td>\n",
       "      <td>CO</td>\n",
       "      <td>Web</td>\n",
       "    </tr>\n",
       "    <tr>\n",
       "      <th>6</th>\n",
       "      <td>Olivia</td>\n",
       "      <td>Garcia</td>\n",
       "      <td>user6@businessmail.org</td>\n",
       "      <td>555-938-2796</td>\n",
       "      <td>555-483-5395</td>\n",
       "      <td>Silverline Systems</td>\n",
       "      <td>Marketing Director</td>\n",
       "      <td>Miami</td>\n",
       "      <td>MA</td>\n",
       "      <td>Trade Show</td>\n",
       "    </tr>\n",
       "    <tr>\n",
       "      <th>20</th>\n",
       "      <td>Liam</td>\n",
       "      <td>Brown</td>\n",
       "      <td>user20@mailservice.co</td>\n",
       "      <td>555-652-2549</td>\n",
       "      <td>555-705-1008</td>\n",
       "      <td>Cobalt Ridge Solutions</td>\n",
       "      <td>Marketing Director</td>\n",
       "      <td>Austin</td>\n",
       "      <td>CA</td>\n",
       "      <td>Advertisement</td>\n",
       "    </tr>\n",
       "    <tr>\n",
       "      <th>25</th>\n",
       "      <td>John</td>\n",
       "      <td>Brown</td>\n",
       "      <td>user25@mailservice.com</td>\n",
       "      <td>555-336-9180</td>\n",
       "      <td>555-373-1652</td>\n",
       "      <td>Startup Inc</td>\n",
       "      <td>Marketing Director</td>\n",
       "      <td>Chicago</td>\n",
       "      <td>MA</td>\n",
       "      <td>Partner</td>\n",
       "    </tr>\n",
       "    <tr>\n",
       "      <th>31</th>\n",
       "      <td>Olivia</td>\n",
       "      <td>Khan</td>\n",
       "      <td>user12@mailservice.org</td>\n",
       "      <td>555-384-6843</td>\n",
       "      <td>555-785-6400</td>\n",
       "      <td>Silverline Systems</td>\n",
       "      <td>Marketing Director</td>\n",
       "      <td>Austin</td>\n",
       "      <td>TX</td>\n",
       "      <td>Advertisement</td>\n",
       "    </tr>\n",
       "  </tbody>\n",
       "</table>\n",
       "</div>"
      ],
      "text/plain": [
       "   FirstName  LastName                   Email         Phone   MobilePhone  \\\n",
       "4     Marcus  Williams      user4@mycompany.co  555-390-1983  555-131-2833   \n",
       "6     Olivia    Garcia  user6@businessmail.org  555-938-2796  555-483-5395   \n",
       "20      Liam     Brown   user20@mailservice.co  555-652-2549  555-705-1008   \n",
       "25      John     Brown  user25@mailservice.com  555-336-9180  555-373-1652   \n",
       "31    Olivia      Khan  user12@mailservice.org  555-384-6843  555-785-6400   \n",
       "\n",
       "               AccountName               Title MailingCity MailingState  \\\n",
       "4       Silverline Systems         VP of Sales       Miami           CO   \n",
       "6       Silverline Systems  Marketing Director       Miami           MA   \n",
       "20  Cobalt Ridge Solutions  Marketing Director      Austin           CA   \n",
       "25             Startup Inc  Marketing Director     Chicago           MA   \n",
       "31      Silverline Systems  Marketing Director      Austin           TX   \n",
       "\n",
       "       LeadSource  \n",
       "4             Web  \n",
       "6      Trade Show  \n",
       "20  Advertisement  \n",
       "25        Partner  \n",
       "31  Advertisement  "
      ]
     },
     "execution_count": 31,
     "metadata": {},
     "output_type": "execute_result"
    }
   ],
   "source": [
    "#Filter based on regex\n",
    "\n",
    "df_contacts[df_contacts[\"Title\"].str.contains(r\"\\b(VP|Vice President|Director|Head)\\b\", case=False, na=False)][0:5]"
   ]
  },
  {
   "cell_type": "markdown",
   "id": "c47fc331",
   "metadata": {},
   "source": [
    "This block generates a pivot table that counts contacts by industry and rating, then filters for Hot rated contacts in the Technology or Finance industries located in California or New York."
   ]
  },
  {
   "cell_type": "code",
   "execution_count": 32,
   "id": "fd20a0dd",
   "metadata": {},
   "outputs": [
    {
     "data": {
      "text/html": [
       "<div>\n",
       "<style scoped>\n",
       "    .dataframe tbody tr th:only-of-type {\n",
       "        vertical-align: middle;\n",
       "    }\n",
       "\n",
       "    .dataframe tbody tr th {\n",
       "        vertical-align: top;\n",
       "    }\n",
       "\n",
       "    .dataframe thead th {\n",
       "        text-align: right;\n",
       "    }\n",
       "</style>\n",
       "<table border=\"1\" class=\"dataframe\">\n",
       "  <thead>\n",
       "    <tr style=\"text-align: right;\">\n",
       "      <th></th>\n",
       "      <th>FirstName</th>\n",
       "      <th>LastName</th>\n",
       "      <th>Email</th>\n",
       "      <th>Phone_x</th>\n",
       "      <th>MobilePhone</th>\n",
       "      <th>AccountName</th>\n",
       "      <th>Title</th>\n",
       "      <th>MailingCity</th>\n",
       "      <th>MailingState</th>\n",
       "      <th>LeadSource</th>\n",
       "      <th>Industry</th>\n",
       "      <th>Type</th>\n",
       "      <th>Rating</th>\n",
       "      <th>BillingCity</th>\n",
       "      <th>BillingState</th>\n",
       "      <th>Website</th>\n",
       "      <th>Phone_y</th>\n",
       "    </tr>\n",
       "  </thead>\n",
       "  <tbody>\n",
       "    <tr>\n",
       "      <th>26</th>\n",
       "      <td>John</td>\n",
       "      <td>Smith</td>\n",
       "      <td>user26@mailservice.com</td>\n",
       "      <td>555-168-5681</td>\n",
       "      <td>555-413-4353</td>\n",
       "      <td>Quantum Leap Co</td>\n",
       "      <td>Developer</td>\n",
       "      <td>Austin</td>\n",
       "      <td>CA</td>\n",
       "      <td>Partner</td>\n",
       "      <td>Technology</td>\n",
       "      <td>Vendor</td>\n",
       "      <td>Hot</td>\n",
       "      <td>Chicago</td>\n",
       "      <td>MA</td>\n",
       "      <td>www.quantumleapco.com</td>\n",
       "      <td>555-275-6808</td>\n",
       "    </tr>\n",
       "    <tr>\n",
       "      <th>29</th>\n",
       "      <td>Sophia</td>\n",
       "      <td>Garcia</td>\n",
       "      <td>user12@mailservice.org</td>\n",
       "      <td>555-138-2612</td>\n",
       "      <td>555-903-2700</td>\n",
       "      <td>Pinnacle Consulting</td>\n",
       "      <td>CTO</td>\n",
       "      <td>New York</td>\n",
       "      <td>CA</td>\n",
       "      <td>Trade Show</td>\n",
       "      <td>Technology</td>\n",
       "      <td>Customer</td>\n",
       "      <td>Hot</td>\n",
       "      <td>Miami</td>\n",
       "      <td>MA</td>\n",
       "      <td>www.pinnacleconsulting.com</td>\n",
       "      <td>555-362-2267</td>\n",
       "    </tr>\n",
       "    <tr>\n",
       "      <th>51</th>\n",
       "      <td>Daniel</td>\n",
       "      <td>Ramirez</td>\n",
       "      <td>user51@businessmail.org</td>\n",
       "      <td>555-479-4400</td>\n",
       "      <td>555-535-3757</td>\n",
       "      <td>Quantum Leap Co</td>\n",
       "      <td>CTO</td>\n",
       "      <td>Austin</td>\n",
       "      <td>CA</td>\n",
       "      <td>Trade Show</td>\n",
       "      <td>Technology</td>\n",
       "      <td>Vendor</td>\n",
       "      <td>Hot</td>\n",
       "      <td>Chicago</td>\n",
       "      <td>MA</td>\n",
       "      <td>www.quantumleapco.com</td>\n",
       "      <td>555-275-6808</td>\n",
       "    </tr>\n",
       "    <tr>\n",
       "      <th>62</th>\n",
       "      <td>Jane</td>\n",
       "      <td>Jones</td>\n",
       "      <td>user62@mailservice.net</td>\n",
       "      <td>555-544-2881</td>\n",
       "      <td>555-882-3939</td>\n",
       "      <td>CloudNine Ventures</td>\n",
       "      <td>Developer</td>\n",
       "      <td>Miami</td>\n",
       "      <td>NY</td>\n",
       "      <td>Trade Show</td>\n",
       "      <td>Finance</td>\n",
       "      <td>Customer</td>\n",
       "      <td>Hot</td>\n",
       "      <td>Phoenix</td>\n",
       "      <td>IL</td>\n",
       "      <td>www.cloudnineventures.com</td>\n",
       "      <td>555-420-9488</td>\n",
       "    </tr>\n",
       "  </tbody>\n",
       "</table>\n",
       "</div>"
      ],
      "text/plain": [
       "   FirstName LastName                    Email       Phone_x   MobilePhone  \\\n",
       "26      John    Smith   user26@mailservice.com  555-168-5681  555-413-4353   \n",
       "29    Sophia   Garcia   user12@mailservice.org  555-138-2612  555-903-2700   \n",
       "51    Daniel  Ramirez  user51@businessmail.org  555-479-4400  555-535-3757   \n",
       "62      Jane    Jones   user62@mailservice.net  555-544-2881  555-882-3939   \n",
       "\n",
       "            AccountName      Title MailingCity MailingState  LeadSource  \\\n",
       "26      Quantum Leap Co  Developer      Austin           CA     Partner   \n",
       "29  Pinnacle Consulting        CTO    New York           CA  Trade Show   \n",
       "51      Quantum Leap Co        CTO      Austin           CA  Trade Show   \n",
       "62   CloudNine Ventures  Developer       Miami           NY  Trade Show   \n",
       "\n",
       "      Industry      Type Rating BillingCity BillingState  \\\n",
       "26  Technology    Vendor    Hot     Chicago           MA   \n",
       "29  Technology  Customer    Hot       Miami           MA   \n",
       "51  Technology    Vendor    Hot     Chicago           MA   \n",
       "62     Finance  Customer    Hot     Phoenix           IL   \n",
       "\n",
       "                       Website       Phone_y  \n",
       "26       www.quantumleapco.com  555-275-6808  \n",
       "29  www.pinnacleconsulting.com  555-362-2267  \n",
       "51       www.quantumleapco.com  555-275-6808  \n",
       "62   www.cloudnineventures.com  555-420-9488  "
      ]
     },
     "execution_count": 32,
     "metadata": {},
     "output_type": "execute_result"
    }
   ],
   "source": [
    "# Hot Leads in Tech/Finance in CA/NY, in excel it needs multiple IF or FILTER functions, hard to maintain.\n",
    "merged.pivot_table(index=\"Industry\", columns=\"Rating\", values=\"FirstName\", aggfunc=\"count\", fill_value=0)\n",
    "merged[\n",
    "    (merged[\"Rating\"] == \"Hot\") &\n",
    "    (merged[\"Industry\"].isin([\"Technology\", \"Finance\"])) &\n",
    "    (merged[\"MailingState\"].isin([\"CA\", \"NY\"]))\n",
    "]"
   ]
  },
  {
   "cell_type": "markdown",
   "id": "f28d51ed",
   "metadata": {},
   "source": [
    "This block groups records by account name, counts the number of contacts, and returns the most frequent rating per account, defaulting to \"Unknown\" if none exists, then displays the first five results."
   ]
  },
  {
   "cell_type": "code",
   "execution_count": 33,
   "id": "2b9cda2d",
   "metadata": {},
   "outputs": [
    {
     "data": {
      "text/html": [
       "<div>\n",
       "<style scoped>\n",
       "    .dataframe tbody tr th:only-of-type {\n",
       "        vertical-align: middle;\n",
       "    }\n",
       "\n",
       "    .dataframe tbody tr th {\n",
       "        vertical-align: top;\n",
       "    }\n",
       "\n",
       "    .dataframe thead th {\n",
       "        text-align: right;\n",
       "    }\n",
       "</style>\n",
       "<table border=\"1\" class=\"dataframe\">\n",
       "  <thead>\n",
       "    <tr style=\"text-align: right;\">\n",
       "      <th></th>\n",
       "      <th>FirstName</th>\n",
       "      <th>Rating</th>\n",
       "    </tr>\n",
       "    <tr>\n",
       "      <th>AccountName</th>\n",
       "      <th></th>\n",
       "      <th></th>\n",
       "    </tr>\n",
       "  </thead>\n",
       "  <tbody>\n",
       "    <tr>\n",
       "      <th>Acme Corp</th>\n",
       "      <td>6</td>\n",
       "      <td>Warm</td>\n",
       "    </tr>\n",
       "    <tr>\n",
       "      <th>Blue Ocean Tech</th>\n",
       "      <td>3</td>\n",
       "      <td>Hot</td>\n",
       "    </tr>\n",
       "    <tr>\n",
       "      <th>BrightPath Inc</th>\n",
       "      <td>4</td>\n",
       "      <td>Warm</td>\n",
       "    </tr>\n",
       "    <tr>\n",
       "      <th>CloudNine Ventures</th>\n",
       "      <td>3</td>\n",
       "      <td>Hot</td>\n",
       "    </tr>\n",
       "    <tr>\n",
       "      <th>Cobalt Ridge Solutions</th>\n",
       "      <td>4</td>\n",
       "      <td>Hot</td>\n",
       "    </tr>\n",
       "  </tbody>\n",
       "</table>\n",
       "</div>"
      ],
      "text/plain": [
       "                        FirstName Rating\n",
       "AccountName                             \n",
       "Acme Corp                       6   Warm\n",
       "Blue Ocean Tech                 3    Hot\n",
       "BrightPath Inc                  4   Warm\n",
       "CloudNine Ventures              3    Hot\n",
       "Cobalt Ridge Solutions          4    Hot"
      ]
     },
     "execution_count": 33,
     "metadata": {},
     "output_type": "execute_result"
    }
   ],
   "source": [
    "#Group by AccountName and aggregate with custom function\n",
    "merged.groupby(\"AccountName\").agg({\n",
    "    \"FirstName\": \"count\",\n",
    "    \"Rating\": lambda x: x.mode().iloc[0] if not x.mode().empty else \"Unknown\"\n",
    "})[0:5]"
   ]
  },
  {
   "cell_type": "markdown",
   "id": "9f4fd882",
   "metadata": {},
   "source": [
    "This block defines a function to categorize states into regions and applies it to assign each account a region. It then calculates the percentage of each rating within those regions, reshapes the results into a table, and fills missing values with zeros."
   ]
  },
  {
   "cell_type": "code",
   "execution_count": 34,
   "id": "f2917ca0",
   "metadata": {},
   "outputs": [
    {
     "data": {
      "text/html": [
       "<div>\n",
       "<style scoped>\n",
       "    .dataframe tbody tr th:only-of-type {\n",
       "        vertical-align: middle;\n",
       "    }\n",
       "\n",
       "    .dataframe tbody tr th {\n",
       "        vertical-align: top;\n",
       "    }\n",
       "\n",
       "    .dataframe thead th {\n",
       "        text-align: right;\n",
       "    }\n",
       "</style>\n",
       "<table border=\"1\" class=\"dataframe\">\n",
       "  <thead>\n",
       "    <tr style=\"text-align: right;\">\n",
       "      <th>Rating</th>\n",
       "      <th>Cold</th>\n",
       "      <th>Hot</th>\n",
       "      <th>Warm</th>\n",
       "    </tr>\n",
       "    <tr>\n",
       "      <th>Region</th>\n",
       "      <th></th>\n",
       "      <th></th>\n",
       "      <th></th>\n",
       "    </tr>\n",
       "  </thead>\n",
       "  <tbody>\n",
       "    <tr>\n",
       "      <th>Northeast</th>\n",
       "      <td>0.000000</td>\n",
       "      <td>0.400000</td>\n",
       "      <td>0.600000</td>\n",
       "    </tr>\n",
       "    <tr>\n",
       "      <th>Other</th>\n",
       "      <td>0.222222</td>\n",
       "      <td>0.444444</td>\n",
       "      <td>0.333333</td>\n",
       "    </tr>\n",
       "    <tr>\n",
       "      <th>South</th>\n",
       "      <td>0.000000</td>\n",
       "      <td>0.666667</td>\n",
       "      <td>0.333333</td>\n",
       "    </tr>\n",
       "    <tr>\n",
       "      <th>West</th>\n",
       "      <td>0.500000</td>\n",
       "      <td>0.250000</td>\n",
       "      <td>0.250000</td>\n",
       "    </tr>\n",
       "  </tbody>\n",
       "</table>\n",
       "</div>"
      ],
      "text/plain": [
       "Rating         Cold       Hot      Warm\n",
       "Region                                 \n",
       "Northeast  0.000000  0.400000  0.600000\n",
       "Other      0.222222  0.444444  0.333333\n",
       "South      0.000000  0.666667  0.333333\n",
       "West       0.500000  0.250000  0.250000"
      ]
     },
     "execution_count": 34,
     "metadata": {},
     "output_type": "execute_result"
    }
   ],
   "source": [
    "#This line calculates the percentage of each account rating within every region, reshapes it into a table, and fills in any missing values with zeros. You could use a formula field for this in salesforce.\n",
    "def assign_region(state):\n",
    "    if state in [\"CA\", \"WA\", \"OR\"]:\n",
    "        return \"West\"\n",
    "    elif state in [\"NY\", \"MA\", \"NJ\"]:\n",
    "        return \"Northeast\"\n",
    "    elif state in [\"TX\", \"FL\"]:\n",
    "        return \"South\"\n",
    "    else:\n",
    "        return \"Other\"\n",
    "\n",
    "df_accounts[\"Region\"] = df_accounts[\"BillingState\"].apply(assign_region)\n",
    "region_leads = df_accounts.groupby(\"Region\")[\"Rating\"].value_counts(normalize=True).unstack().fillna(0)\n",
    "region_leads"
   ]
  },
  {
   "cell_type": "markdown",
   "id": "c96b8ec7",
   "metadata": {},
   "source": [
    "## Data Manipulation"
   ]
  },
  {
   "cell_type": "markdown",
   "id": "eb50a1bc",
   "metadata": {},
   "source": [
    "Slicing and dicing data is great, but we also need to be able to add or rename columns, and perform other operation on the dataframe"
   ]
  },
  {
   "cell_type": "markdown",
   "id": "7acf5b31",
   "metadata": {},
   "source": [
    "### DataFrame Mods"
   ]
  },
  {
   "cell_type": "markdown",
   "id": "0c207cfd",
   "metadata": {},
   "source": [
    "This block removes contacts with duplicate email addresses, prints the contact counts before and after, and lists all duplicated email values found."
   ]
  },
  {
   "cell_type": "code",
   "execution_count": 35,
   "id": "fd4d5ebc",
   "metadata": {
    "vscode": {
     "languageId": "ruby"
    }
   },
   "outputs": [
    {
     "name": "stdout",
     "output_type": "stream",
     "text": [
      "Original contact count: 100\n",
      "Contact count after dropping duplicate emails: 96\n",
      "Duplicated emails:\n",
      "['user12@example.io' 'user12@mailservice.org']\n"
     ]
    }
   ],
   "source": [
    "# Dropping duplicate emails in contacts dataset\n",
    "print('Original contact count:', df_contacts.shape[0])\n",
    "df_contacts_nodup = df_contacts.drop_duplicates(subset='Email')\n",
    "print('Contact count after dropping duplicate emails:', df_contacts_nodup.shape[0])\n",
    "duplicated_emails = df_contacts[df_contacts.duplicated(subset='Email', keep=False)]['Email'].unique()\n",
    "print('Duplicated emails:')\n",
    "print(duplicated_emails)"
   ]
  },
  {
   "cell_type": "markdown",
   "id": "86a23d55",
   "metadata": {},
   "source": [
    "This block standardizes the lead source by replacing \"Trade Show\" with \"Event\" and displays the first five lead source values."
   ]
  },
  {
   "cell_type": "code",
   "execution_count": 36,
   "id": "11ecc0b8",
   "metadata": {
    "vscode": {
     "languageId": "ruby"
    }
   },
   "outputs": [
    {
     "data": {
      "text/plain": [
       "0        Web\n",
       "1    Partner\n",
       "2    Partner\n",
       "3      Event\n",
       "4        Web\n",
       "Name: LeadSource, dtype: object"
      ]
     },
     "execution_count": 36,
     "metadata": {},
     "output_type": "execute_result"
    }
   ],
   "source": [
    "#replace values\n",
    "df_contacts[\"LeadSource\"] = df_contacts[\"LeadSource\"].replace(\"Trade Show\", \"Event\")\n",
    "df_contacts[\"LeadSource\"][0:5]"
   ]
  },
  {
   "cell_type": "markdown",
   "id": "981a6270",
   "metadata": {},
   "source": [
    "This block renames the \"Phone\" column to \"ContactPhone\" in the contacts dataframe and then displays all column names."
   ]
  },
  {
   "cell_type": "code",
   "execution_count": 37,
   "id": "9e54afa9",
   "metadata": {
    "vscode": {
     "languageId": "ruby"
    }
   },
   "outputs": [
    {
     "data": {
      "text/plain": [
       "Index(['FirstName', 'LastName', 'Email', 'ContactPhone', 'MobilePhone',\n",
       "       'AccountName', 'Title', 'MailingCity', 'MailingState', 'LeadSource'],\n",
       "      dtype='object')"
      ]
     },
     "execution_count": 37,
     "metadata": {},
     "output_type": "execute_result"
    }
   ],
   "source": [
    "#this is used to rename the columns in a dataframe, inplace means it will change the original dataframe, I do not recommend using inplace \n",
    "# as it can lead to confusion, but it is useful for quick changes in a notebook\n",
    "df_contacts.rename(columns={\n",
    "    \"Phone\": \"ContactPhone\"\n",
    "}, inplace=True)\n",
    "df_contacts.columns"
   ]
  },
  {
   "cell_type": "markdown",
   "id": "14b2c612",
   "metadata": {},
   "source": [
    "A new contact record is created and appended to the contacts dataframe, then the last few rows are displayed to confirm the addition."
   ]
  },
  {
   "cell_type": "code",
   "execution_count": 38,
   "id": "2448e9ea",
   "metadata": {
    "vscode": {
     "languageId": "ruby"
    }
   },
   "outputs": [
    {
     "data": {
      "text/html": [
       "<div>\n",
       "<style scoped>\n",
       "    .dataframe tbody tr th:only-of-type {\n",
       "        vertical-align: middle;\n",
       "    }\n",
       "\n",
       "    .dataframe tbody tr th {\n",
       "        vertical-align: top;\n",
       "    }\n",
       "\n",
       "    .dataframe thead th {\n",
       "        text-align: right;\n",
       "    }\n",
       "</style>\n",
       "<table border=\"1\" class=\"dataframe\">\n",
       "  <thead>\n",
       "    <tr style=\"text-align: right;\">\n",
       "      <th></th>\n",
       "      <th>FirstName</th>\n",
       "      <th>LastName</th>\n",
       "      <th>Email</th>\n",
       "      <th>ContactPhone</th>\n",
       "      <th>MobilePhone</th>\n",
       "      <th>AccountName</th>\n",
       "      <th>Title</th>\n",
       "      <th>MailingCity</th>\n",
       "      <th>MailingState</th>\n",
       "      <th>LeadSource</th>\n",
       "    </tr>\n",
       "  </thead>\n",
       "  <tbody>\n",
       "    <tr>\n",
       "      <th>96</th>\n",
       "      <td>John</td>\n",
       "      <td>Doe</td>\n",
       "      <td>user96@webmail.io</td>\n",
       "      <td>555-777-9881</td>\n",
       "      <td>555-534-2994</td>\n",
       "      <td>Quantum Leap Co</td>\n",
       "      <td>Analyst</td>\n",
       "      <td>Phoenix</td>\n",
       "      <td>CO</td>\n",
       "      <td>Advertisement</td>\n",
       "    </tr>\n",
       "    <tr>\n",
       "      <th>97</th>\n",
       "      <td>Liam</td>\n",
       "      <td>Khan</td>\n",
       "      <td>user97@businessmail.com</td>\n",
       "      <td>555-239-4729</td>\n",
       "      <td>555-253-6279</td>\n",
       "      <td>Blue Ocean Tech</td>\n",
       "      <td>CEO</td>\n",
       "      <td>Austin</td>\n",
       "      <td>NY</td>\n",
       "      <td>Partner</td>\n",
       "    </tr>\n",
       "    <tr>\n",
       "      <th>98</th>\n",
       "      <td>Jane</td>\n",
       "      <td>Doe</td>\n",
       "      <td>user98@businessmail.io</td>\n",
       "      <td>555-519-4213</td>\n",
       "      <td>555-698-3618</td>\n",
       "      <td>Tech Solutions</td>\n",
       "      <td>Product Owner</td>\n",
       "      <td>Austin</td>\n",
       "      <td>WA</td>\n",
       "      <td>Advertisement</td>\n",
       "    </tr>\n",
       "    <tr>\n",
       "      <th>99</th>\n",
       "      <td>Jane</td>\n",
       "      <td>Smith</td>\n",
       "      <td>user99@webmail.net</td>\n",
       "      <td>555-650-4097</td>\n",
       "      <td>555-891-5959</td>\n",
       "      <td>NextPhase Digital</td>\n",
       "      <td>Product Owner</td>\n",
       "      <td>Denver</td>\n",
       "      <td>FL</td>\n",
       "      <td>Referral</td>\n",
       "    </tr>\n",
       "    <tr>\n",
       "      <th>100</th>\n",
       "      <td>Emma</td>\n",
       "      <td>Smith</td>\n",
       "      <td>emma.smith@example.com</td>\n",
       "      <td>555-123-4567</td>\n",
       "      <td>555-987-6543</td>\n",
       "      <td>Acme Corp</td>\n",
       "      <td>Account Manager</td>\n",
       "      <td>San Diego</td>\n",
       "      <td>CA</td>\n",
       "      <td>Web</td>\n",
       "    </tr>\n",
       "  </tbody>\n",
       "</table>\n",
       "</div>"
      ],
      "text/plain": [
       "    FirstName LastName                    Email  ContactPhone   MobilePhone  \\\n",
       "96       John      Doe        user96@webmail.io  555-777-9881  555-534-2994   \n",
       "97       Liam     Khan  user97@businessmail.com  555-239-4729  555-253-6279   \n",
       "98       Jane      Doe   user98@businessmail.io  555-519-4213  555-698-3618   \n",
       "99       Jane    Smith       user99@webmail.net  555-650-4097  555-891-5959   \n",
       "100      Emma    Smith   emma.smith@example.com  555-123-4567  555-987-6543   \n",
       "\n",
       "           AccountName            Title MailingCity MailingState  \\\n",
       "96     Quantum Leap Co          Analyst     Phoenix           CO   \n",
       "97     Blue Ocean Tech              CEO      Austin           NY   \n",
       "98      Tech Solutions    Product Owner      Austin           WA   \n",
       "99   NextPhase Digital    Product Owner      Denver           FL   \n",
       "100          Acme Corp  Account Manager   San Diego           CA   \n",
       "\n",
       "        LeadSource  \n",
       "96   Advertisement  \n",
       "97         Partner  \n",
       "98   Advertisement  \n",
       "99        Referral  \n",
       "100            Web  "
      ]
     },
     "metadata": {},
     "output_type": "display_data"
    }
   ],
   "source": [
    "# Example: Add a new contact row to df_contacts\n",
    "new_contact = {\n",
    "    'FirstName': 'Emma',\n",
    "    'LastName': 'Smith',\n",
    "    'Email': 'emma.smith@example.com',\n",
    "    'ContactPhone': '555-123-4567',\n",
    "    'MobilePhone': '555-987-6543',\n",
    "    'AccountName': 'Acme Corp',\n",
    "    'Title': 'Account Manager',\n",
    "    'MailingCity': 'San Diego',\n",
    "    'MailingState': 'CA',\n",
    "    'LeadSource': 'Web'\n",
    "}\n",
    "df_contacts = pd.concat([df_contacts, pd.DataFrame([new_contact])], ignore_index=True)\n",
    "display(df_contacts.tail())"
   ]
  },
  {
   "cell_type": "markdown",
   "id": "51a5dd07",
   "metadata": {},
   "source": [
    "Removes the contact with the email 'seven.dwarfs@salesforce-error.com' from the contacts dataframe and displays the last few rows."
   ]
  },
  {
   "cell_type": "code",
   "execution_count": 39,
   "id": "f256d7a9",
   "metadata": {},
   "outputs": [
    {
     "data": {
      "text/html": [
       "<div>\n",
       "<style scoped>\n",
       "    .dataframe tbody tr th:only-of-type {\n",
       "        vertical-align: middle;\n",
       "    }\n",
       "\n",
       "    .dataframe tbody tr th {\n",
       "        vertical-align: top;\n",
       "    }\n",
       "\n",
       "    .dataframe thead th {\n",
       "        text-align: right;\n",
       "    }\n",
       "</style>\n",
       "<table border=\"1\" class=\"dataframe\">\n",
       "  <thead>\n",
       "    <tr style=\"text-align: right;\">\n",
       "      <th></th>\n",
       "      <th>FirstName</th>\n",
       "      <th>LastName</th>\n",
       "      <th>Email</th>\n",
       "      <th>ContactPhone</th>\n",
       "      <th>MobilePhone</th>\n",
       "      <th>AccountName</th>\n",
       "      <th>Title</th>\n",
       "      <th>MailingCity</th>\n",
       "      <th>MailingState</th>\n",
       "      <th>LeadSource</th>\n",
       "    </tr>\n",
       "  </thead>\n",
       "  <tbody>\n",
       "    <tr>\n",
       "      <th>96</th>\n",
       "      <td>John</td>\n",
       "      <td>Doe</td>\n",
       "      <td>user96@webmail.io</td>\n",
       "      <td>555-777-9881</td>\n",
       "      <td>555-534-2994</td>\n",
       "      <td>Quantum Leap Co</td>\n",
       "      <td>Analyst</td>\n",
       "      <td>Phoenix</td>\n",
       "      <td>CO</td>\n",
       "      <td>Advertisement</td>\n",
       "    </tr>\n",
       "    <tr>\n",
       "      <th>97</th>\n",
       "      <td>Liam</td>\n",
       "      <td>Khan</td>\n",
       "      <td>user97@businessmail.com</td>\n",
       "      <td>555-239-4729</td>\n",
       "      <td>555-253-6279</td>\n",
       "      <td>Blue Ocean Tech</td>\n",
       "      <td>CEO</td>\n",
       "      <td>Austin</td>\n",
       "      <td>NY</td>\n",
       "      <td>Partner</td>\n",
       "    </tr>\n",
       "    <tr>\n",
       "      <th>98</th>\n",
       "      <td>Jane</td>\n",
       "      <td>Doe</td>\n",
       "      <td>user98@businessmail.io</td>\n",
       "      <td>555-519-4213</td>\n",
       "      <td>555-698-3618</td>\n",
       "      <td>Tech Solutions</td>\n",
       "      <td>Product Owner</td>\n",
       "      <td>Austin</td>\n",
       "      <td>WA</td>\n",
       "      <td>Advertisement</td>\n",
       "    </tr>\n",
       "    <tr>\n",
       "      <th>99</th>\n",
       "      <td>Jane</td>\n",
       "      <td>Smith</td>\n",
       "      <td>user99@webmail.net</td>\n",
       "      <td>555-650-4097</td>\n",
       "      <td>555-891-5959</td>\n",
       "      <td>NextPhase Digital</td>\n",
       "      <td>Product Owner</td>\n",
       "      <td>Denver</td>\n",
       "      <td>FL</td>\n",
       "      <td>Referral</td>\n",
       "    </tr>\n",
       "    <tr>\n",
       "      <th>100</th>\n",
       "      <td>Emma</td>\n",
       "      <td>Smith</td>\n",
       "      <td>emma.smith@example.com</td>\n",
       "      <td>555-123-4567</td>\n",
       "      <td>555-987-6543</td>\n",
       "      <td>Acme Corp</td>\n",
       "      <td>Account Manager</td>\n",
       "      <td>San Diego</td>\n",
       "      <td>CA</td>\n",
       "      <td>Web</td>\n",
       "    </tr>\n",
       "  </tbody>\n",
       "</table>\n",
       "</div>"
      ],
      "text/plain": [
       "    FirstName LastName                    Email  ContactPhone   MobilePhone  \\\n",
       "96       John      Doe        user96@webmail.io  555-777-9881  555-534-2994   \n",
       "97       Liam     Khan  user97@businessmail.com  555-239-4729  555-253-6279   \n",
       "98       Jane      Doe   user98@businessmail.io  555-519-4213  555-698-3618   \n",
       "99       Jane    Smith       user99@webmail.net  555-650-4097  555-891-5959   \n",
       "100      Emma    Smith   emma.smith@example.com  555-123-4567  555-987-6543   \n",
       "\n",
       "           AccountName            Title MailingCity MailingState  \\\n",
       "96     Quantum Leap Co          Analyst     Phoenix           CO   \n",
       "97     Blue Ocean Tech              CEO      Austin           NY   \n",
       "98      Tech Solutions    Product Owner      Austin           WA   \n",
       "99   NextPhase Digital    Product Owner      Denver           FL   \n",
       "100          Acme Corp  Account Manager   San Diego           CA   \n",
       "\n",
       "        LeadSource  \n",
       "96   Advertisement  \n",
       "97         Partner  \n",
       "98   Advertisement  \n",
       "99        Referral  \n",
       "100            Web  "
      ]
     },
     "metadata": {},
     "output_type": "display_data"
    }
   ],
   "source": [
    "#Removing a row from a dataframe is simply at matter of exclusion\n",
    "df_contacts = df_contacts[df_contacts['Email'] != 'seven.dwarfs@salesforce-error.com']\n",
    "display(df_contacts.tail())"
   ]
  },
  {
   "cell_type": "markdown",
   "id": "de8ed2fc",
   "metadata": {},
   "source": [
    "### Export Date to CSV"
   ]
  },
  {
   "cell_type": "markdown",
   "id": "e87905b5",
   "metadata": {},
   "source": [
    "Exports the contacts dataframe to a CSV file named contacts_export.csv without including the index column."
   ]
  },
  {
   "cell_type": "code",
   "execution_count": 40,
   "id": "f9a54fbc",
   "metadata": {},
   "outputs": [],
   "source": [
    "df_contacts.to_csv('../datasets/contacts_export.csv', index=False)"
   ]
  },
  {
   "cell_type": "markdown",
   "id": "0bcc5ba8",
   "metadata": {},
   "source": [
    "### Bonus"
   ]
  },
  {
   "cell_type": "markdown",
   "id": "b02f238c",
   "metadata": {},
   "source": [
    "Flatten JSON easily into dataframe"
   ]
  },
  {
   "cell_type": "raw",
   "id": "a340e1bd",
   "metadata": {
    "vscode": {
     "languageId": "raw"
    }
   },
   "source": [
    "{\n",
    "  \"organization\": {\n",
    "    \"name\": \"SampleOrg\",\n",
    "    \"accounts\": [\n",
    "      {\n",
    "        \"account\": {\n",
    "          \"details\": {\n",
    "            \"AccountName\": \"Blue Ocean Tech\",\n",
    "            \"Industry\": \"Healthcare\",\n",
    "            \"Type\": \"Vendor\",\n",
    "            \"Rating\": \"Hot\"\n",
    "          },\n",
    "          \"location\": {\n",
    "            \"BillingCity\": \"San Francisco\",\n",
    "            \"BillingState\": \"WA\"\n",
    "          },\n",
    "          \"contact\": {\n",
    "            \"Phone\": \"555-410-9237\",\n",
    "            \"Website\": \"www.blueoceantech.com\"\n",
    "          }\n",
    "        }\n",
    "      }\n",
    "    ]\n",
    "  }\n",
    "}\n"
   ]
  },
  {
   "cell_type": "markdown",
   "id": "45b9bbcd",
   "metadata": {},
   "source": [
    "Loads a nested JSON file and extracts the list of accounts from within the organization structure. Each account is flattened by merging its details, location, and contact sections, then converted into a dataframe and previewed."
   ]
  },
  {
   "cell_type": "code",
   "execution_count": 41,
   "id": "37205d8b",
   "metadata": {},
   "outputs": [
    {
     "data": {
      "text/html": [
       "<div>\n",
       "<style scoped>\n",
       "    .dataframe tbody tr th:only-of-type {\n",
       "        vertical-align: middle;\n",
       "    }\n",
       "\n",
       "    .dataframe tbody tr th {\n",
       "        vertical-align: top;\n",
       "    }\n",
       "\n",
       "    .dataframe thead th {\n",
       "        text-align: right;\n",
       "    }\n",
       "</style>\n",
       "<table border=\"1\" class=\"dataframe\">\n",
       "  <thead>\n",
       "    <tr style=\"text-align: right;\">\n",
       "      <th></th>\n",
       "      <th>AccountName</th>\n",
       "      <th>Industry</th>\n",
       "      <th>Type</th>\n",
       "      <th>Rating</th>\n",
       "      <th>BillingCity</th>\n",
       "      <th>BillingState</th>\n",
       "      <th>Phone</th>\n",
       "      <th>Website</th>\n",
       "    </tr>\n",
       "  </thead>\n",
       "  <tbody>\n",
       "    <tr>\n",
       "      <th>0</th>\n",
       "      <td>Blue Ocean Tech</td>\n",
       "      <td>Healthcare</td>\n",
       "      <td>Vendor</td>\n",
       "      <td>Hot</td>\n",
       "      <td>San Francisco</td>\n",
       "      <td>WA</td>\n",
       "      <td>555-410-9237</td>\n",
       "      <td>www.blueoceantech.com</td>\n",
       "    </tr>\n",
       "    <tr>\n",
       "      <th>1</th>\n",
       "      <td>Acme Corp</td>\n",
       "      <td>Manufacturing</td>\n",
       "      <td>Partner</td>\n",
       "      <td>Warm</td>\n",
       "      <td>Los Angeles</td>\n",
       "      <td>CO</td>\n",
       "      <td>555-141-7084</td>\n",
       "      <td>www.acmecorp.com</td>\n",
       "    </tr>\n",
       "    <tr>\n",
       "      <th>2</th>\n",
       "      <td>Tech Solutions</td>\n",
       "      <td>Technology</td>\n",
       "      <td>Vendor</td>\n",
       "      <td>Hot</td>\n",
       "      <td>Miami</td>\n",
       "      <td>FL</td>\n",
       "      <td>555-624-8599</td>\n",
       "      <td>www.techsolutions.com</td>\n",
       "    </tr>\n",
       "    <tr>\n",
       "      <th>3</th>\n",
       "      <td>Globex Corporation</td>\n",
       "      <td>Manufacturing</td>\n",
       "      <td>Partner</td>\n",
       "      <td>Hot</td>\n",
       "      <td>Boston</td>\n",
       "      <td>AZ</td>\n",
       "      <td>555-368-3779</td>\n",
       "      <td>www.globexcorporation.com</td>\n",
       "    </tr>\n",
       "    <tr>\n",
       "      <th>4</th>\n",
       "      <td>Startup Inc</td>\n",
       "      <td>Healthcare</td>\n",
       "      <td>Customer</td>\n",
       "      <td>Cold</td>\n",
       "      <td>Austin</td>\n",
       "      <td>IL</td>\n",
       "      <td>555-424-1792</td>\n",
       "      <td>www.startupinc.com</td>\n",
       "    </tr>\n",
       "  </tbody>\n",
       "</table>\n",
       "</div>"
      ],
      "text/plain": [
       "          AccountName       Industry      Type Rating    BillingCity  \\\n",
       "0     Blue Ocean Tech     Healthcare    Vendor    Hot  San Francisco   \n",
       "1           Acme Corp  Manufacturing   Partner   Warm    Los Angeles   \n",
       "2      Tech Solutions     Technology    Vendor    Hot          Miami   \n",
       "3  Globex Corporation  Manufacturing   Partner    Hot         Boston   \n",
       "4         Startup Inc     Healthcare  Customer   Cold         Austin   \n",
       "\n",
       "  BillingState         Phone                    Website  \n",
       "0           WA  555-410-9237      www.blueoceantech.com  \n",
       "1           CO  555-141-7084           www.acmecorp.com  \n",
       "2           FL  555-624-8599      www.techsolutions.com  \n",
       "3           AZ  555-368-3779  www.globexcorporation.com  \n",
       "4           IL  555-424-1792         www.startupinc.com  "
      ]
     },
     "metadata": {},
     "output_type": "display_data"
    }
   ],
   "source": [
    "# The first flat.update merges all key-value pairs from the 'details' dictionary into flat.\n",
    "# The second flat.update adds location info, prefixing keys with 'Billing' (e.g., 'BillingCity', 'BillingState').\n",
    "# The third flat.update merges all key-value pairs from the 'contact' dictionary into flat.\n",
    "\n",
    "with open('../datasets/accounts.json') as f:\n",
    "    data = json.load(f)\n",
    "\n",
    "accounts = data['organization']['accounts']\n",
    "\n",
    "flat_accounts = []\n",
    "for entry in accounts:\n",
    "    account = entry['account']\n",
    "    flat = {}\n",
    "    flat.update(account.get('details', {}))\n",
    "    flat.update(account.get('location', {}))\n",
    "    flat.update(account.get('contact', {}))\n",
    "    flat_accounts.append(flat)\n",
    "\n",
    "df_flat = pd.DataFrame(flat_accounts)\n",
    "display(df_flat.head())"
   ]
  },
  {
   "cell_type": "markdown",
   "id": "482f2f51",
   "metadata": {},
   "source": [
    "Creates a new JSON data structure by extracting key fields from the first two account records and nesting phone and website under a contact section. The result is printed in a readable, indented JSON format."
   ]
  },
  {
   "cell_type": "code",
   "execution_count": 42,
   "id": "50b2e6e1",
   "metadata": {},
   "outputs": [
    {
     "name": "stdout",
     "output_type": "stream",
     "text": [
      "[\n",
      "  {\n",
      "    \"AccountName\": \"Blue Ocean Tech\",\n",
      "    \"Industry\": \"Healthcare\",\n",
      "    \"Type\": \"Vendor\",\n",
      "    \"Rating\": \"Hot\",\n",
      "    \"BillingCity\": \"San Francisco\",\n",
      "    \"BillingState\": \"WA\",\n",
      "    \"contact\": {\n",
      "      \"Phone\": \"555-410-9237\",\n",
      "      \"Website\": \"www.blueoceantech.com\"\n",
      "    }\n",
      "  },\n",
      "  {\n",
      "    \"AccountName\": \"Acme Corp\",\n",
      "    \"Industry\": \"Manufacturing\",\n",
      "    \"Type\": \"Partner\",\n",
      "    \"Rating\": \"Warm\",\n",
      "    \"BillingCity\": \"Los Angeles\",\n",
      "    \"BillingState\": \"CO\",\n",
      "    \"contact\": {\n",
      "      \"Phone\": \"555-141-7084\",\n",
      "      \"Website\": \"www.acmecorp.com\"\n",
      "    }\n",
      "  }\n",
      "]\n"
     ]
    }
   ],
   "source": [
    "# output the newly created flat dataframe to a new json structure, all for funzies\n",
    "#You can also work with XML but that is a different story\n",
    "subset = df_flat.head(2)\n",
    "output = []\n",
    "\n",
    "for _, row in subset.iterrows():\n",
    "    entry = {\n",
    "        'AccountName': row['AccountName'],\n",
    "        'Industry': row['Industry'],\n",
    "        'Type': row['Type'],\n",
    "        'Rating': row['Rating'],\n",
    "        'BillingCity': row['BillingCity'],\n",
    "        'BillingState': row['BillingState'],\n",
    "        'contact': {\n",
    "            'Phone': row['Phone'],\n",
    "            'Website': row['Website']\n",
    "        }\n",
    "    }\n",
    "    output.append(entry)\n",
    "    \n",
    "print(json.dumps(output, indent=2))"
   ]
  },
  {
   "cell_type": "markdown",
   "id": "584e880f",
   "metadata": {},
   "source": [
    "Performs fuzzy matching across account names to find similar entries with a score of 90 or higher, excluding exact matches. The results are stored in a dataframe of potential duplicates and displayed for review."
   ]
  },
  {
   "cell_type": "code",
   "execution_count": 43,
   "id": "0004a217",
   "metadata": {},
   "outputs": [
    {
     "data": {
      "text/html": [
       "<div>\n",
       "<style scoped>\n",
       "    .dataframe tbody tr th:only-of-type {\n",
       "        vertical-align: middle;\n",
       "    }\n",
       "\n",
       "    .dataframe tbody tr th {\n",
       "        vertical-align: top;\n",
       "    }\n",
       "\n",
       "    .dataframe thead th {\n",
       "        text-align: right;\n",
       "    }\n",
       "</style>\n",
       "<table border=\"1\" class=\"dataframe\">\n",
       "  <thead>\n",
       "    <tr style=\"text-align: right;\">\n",
       "      <th></th>\n",
       "      <th>AccountName</th>\n",
       "      <th>Match</th>\n",
       "      <th>Score</th>\n",
       "    </tr>\n",
       "  </thead>\n",
       "  <tbody>\n",
       "    <tr>\n",
       "      <th>0</th>\n",
       "      <td>OmniTech Global</td>\n",
       "      <td>Global OmniTech</td>\n",
       "      <td>95</td>\n",
       "    </tr>\n",
       "    <tr>\n",
       "      <th>1</th>\n",
       "      <td>Global OmniTech</td>\n",
       "      <td>OmniTech Global</td>\n",
       "      <td>95</td>\n",
       "    </tr>\n",
       "  </tbody>\n",
       "</table>\n",
       "</div>"
      ],
      "text/plain": [
       "       AccountName            Match  Score\n",
       "0  OmniTech Global  Global OmniTech     95\n",
       "1  Global OmniTech  OmniTech Global     95"
      ]
     },
     "metadata": {},
     "output_type": "display_data"
    }
   ],
   "source": [
    "#simple fuzzy matching example using fuzzywuzzy\n",
    "\n",
    "account_names = df_accounts['AccountName'].tolist()\n",
    "matches = []\n",
    "\n",
    "for name in account_names:\n",
    "    results = process.extract(name, account_names, limit=5)\n",
    "    for match_name, score in results:\n",
    "        if name != match_name and score >= 90:\n",
    "            matches.append({'AccountName': name, 'Match': match_name, 'Score': score})\n",
    "\n",
    "fuzzy_matches_df = pd.DataFrame(matches).drop_duplicates()\n",
    "display(fuzzy_matches_df)\n"
   ]
  },
  {
   "cell_type": "markdown",
   "id": "3ee98d08",
   "metadata": {},
   "source": [
    "## Export Notebook"
   ]
  },
  {
   "cell_type": "code",
   "execution_count": 45,
   "id": "36693ea5",
   "metadata": {},
   "outputs": [
    {
     "name": "stderr",
     "output_type": "stream",
     "text": [
      "[NbConvertApp] Converting notebook 01_data_manipulation.ipynb to html\n",
      "[NbConvertApp] Writing 352906 bytes to ..\\html\\01_data_manipulation.html\n",
      "[NbConvertApp] Converting notebook 01_data_manipulation.ipynb to script\n",
      "[NbConvertApp] Writing 11459 bytes to ..\\notebook_script_exports\\01_data_manipulation.py\n"
     ]
    }
   ],
   "source": [
    "!jupyter nbconvert --to html \"01_data_manipulation.ipynb\" --output-dir=../html\n",
    "!jupyter nbconvert --to script \"01_data_manipulation.ipynb\" --output-dir=../notebook_script_exports"
   ]
  }
 ],
 "metadata": {
  "kernelspec": {
   "display_name": "BuckeyeDreaminDemo-UmNsEV2x",
   "language": "python",
   "name": "python3"
  },
  "language_info": {
   "codemirror_mode": {
    "name": "ipython",
    "version": 3
   },
   "file_extension": ".py",
   "mimetype": "text/x-python",
   "name": "python",
   "nbconvert_exporter": "python",
   "pygments_lexer": "ipython3",
   "version": "3.13.2"
  }
 },
 "nbformat": 4,
 "nbformat_minor": 5
}
