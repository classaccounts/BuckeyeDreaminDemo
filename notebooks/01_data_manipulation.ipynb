{
 "cells": [
  {
   "cell_type": "markdown",
   "id": "af4b8b00",
   "metadata": {},
   "source": [
    "# Simple Data Manipulation"
   ]
  },
  {
   "cell_type": "markdown",
   "id": "9646257c",
   "metadata": {},
   "source": [
    "This notebook may not tell a story like the others, but it stands as a powerful demonstration of what's possible.\n",
    "\n",
    "It's more like a catalog of data operation we can use to solve our toughest data problems"
   ]
  },
  {
   "cell_type": "markdown",
   "id": "877b93a4",
   "metadata": {},
   "source": [
    "### Imports"
   ]
  },
  {
   "cell_type": "code",
   "execution_count": null,
   "id": "f08cdb31",
   "metadata": {},
   "outputs": [],
   "source": [
    "import pandas as pd\n",
    "import json\n",
    "from fuzzywuzzy import process"
   ]
  },
  {
   "cell_type": "markdown",
   "id": "a63395ff",
   "metadata": {},
   "source": [
    "## Loading Data"
   ]
  },
  {
   "cell_type": "markdown",
   "id": "1278cfd1",
   "metadata": {},
   "source": [
    "The container for all our data is the DataFrame, a Python object designed to hold tabular data. You can think of it like a table, an Excel sheet, or a matrix that makes it easy to manipulate data within Python\n",
    "\n",
    "It can handle more than two dimensions when working with deep learning models or multi-dimensional datasets, such as cubed financial data or time-series with multiple variables.\n",
    "\n",
    "Let's load some data!"
   ]
  },
  {
   "cell_type": "code",
   "execution_count": 3,
   "id": "62244200",
   "metadata": {},
   "outputs": [],
   "source": [
    "df_accounts = pd.read_csv('../datasets/accounts.csv') #you can specify delimeter, encoding and other parameters in the read_csv function.\n",
    "df_contacts = pd.read_csv('../datasets/contacts.csv')\n",
    "df_accounts_excel = pd.read_excel('../datasets/accounts_excel.xlsx', sheet_name='Sheet1') "
   ]
  },
  {
   "cell_type": "markdown",
   "id": "2a2858fd",
   "metadata": {},
   "source": [
    "## Inspect"
   ]
  },
  {
   "cell_type": "markdown",
   "id": "ee0f6bf6",
   "metadata": {},
   "source": [
    "We're going to explore different ways of slicing and dicing data in pandas. This is just the tip of the iceberg. In a programmatic environment, how you manipulate the data is limited only by your imagination."
   ]
  },
  {
   "cell_type": "markdown",
   "id": "b0a3991f",
   "metadata": {},
   "source": [
    "Let's count some rows"
   ]
  },
  {
   "cell_type": "code",
   "execution_count": 4,
   "id": "cce72a4b",
   "metadata": {
    "vscode": {
     "languageId": "javascript"
    }
   },
   "outputs": [
    {
     "data": {
      "text/html": [
       "<div>\n",
       "<style scoped>\n",
       "    .dataframe tbody tr th:only-of-type {\n",
       "        vertical-align: middle;\n",
       "    }\n",
       "\n",
       "    .dataframe tbody tr th {\n",
       "        vertical-align: top;\n",
       "    }\n",
       "\n",
       "    .dataframe thead th {\n",
       "        text-align: right;\n",
       "    }\n",
       "</style>\n",
       "<table border=\"1\" class=\"dataframe\">\n",
       "  <thead>\n",
       "    <tr style=\"text-align: right;\">\n",
       "      <th></th>\n",
       "      <th>Accounts</th>\n",
       "      <th>Contacts</th>\n",
       "    </tr>\n",
       "  </thead>\n",
       "  <tbody>\n",
       "    <tr>\n",
       "      <th>0</th>\n",
       "      <td>21</td>\n",
       "      <td>100</td>\n",
       "    </tr>\n",
       "  </tbody>\n",
       "</table>\n",
       "</div>"
      ],
      "text/plain": [
       "   Accounts  Contacts\n",
       "0        21       100"
      ]
     },
     "metadata": {},
     "output_type": "display_data"
    },
    {
     "data": {
      "text/plain": [
       "AccountName     21\n",
       "Industry        21\n",
       "Type            21\n",
       "Rating          21\n",
       "BillingCity     21\n",
       "BillingState    21\n",
       "Website         21\n",
       "Phone           21\n",
       "dtype: int64"
      ]
     },
     "metadata": {},
     "output_type": "display_data"
    }
   ],
   "source": [
    "row_counts = pd.DataFrame({\n",
    "    'Accounts': [df_accounts.shape[0]],\n",
    "    'Contacts': [df_contacts.shape[0]]\n",
    "})\n",
    "display(row_counts)\n",
    "display(df_accounts.count())"
   ]
  },
  {
   "cell_type": "markdown",
   "id": "9172a97f",
   "metadata": {},
   "source": [
    "We can desribe the data using this method along with getting some sample data."
   ]
  },
  {
   "cell_type": "code",
   "execution_count": 5,
   "id": "eea4d81d",
   "metadata": {},
   "outputs": [
    {
     "data": {
      "text/html": [
       "<div>\n",
       "<style scoped>\n",
       "    .dataframe tbody tr th:only-of-type {\n",
       "        vertical-align: middle;\n",
       "    }\n",
       "\n",
       "    .dataframe tbody tr th {\n",
       "        vertical-align: top;\n",
       "    }\n",
       "\n",
       "    .dataframe thead th {\n",
       "        text-align: right;\n",
       "    }\n",
       "</style>\n",
       "<table border=\"1\" class=\"dataframe\">\n",
       "  <thead>\n",
       "    <tr style=\"text-align: right;\">\n",
       "      <th></th>\n",
       "      <th>FirstName</th>\n",
       "      <th>LastName</th>\n",
       "      <th>Email</th>\n",
       "      <th>Phone</th>\n",
       "      <th>MobilePhone</th>\n",
       "      <th>AccountName</th>\n",
       "      <th>Title</th>\n",
       "      <th>MailingCity</th>\n",
       "      <th>MailingState</th>\n",
       "      <th>LeadSource</th>\n",
       "    </tr>\n",
       "  </thead>\n",
       "  <tbody>\n",
       "    <tr>\n",
       "      <th>count</th>\n",
       "      <td>100</td>\n",
       "      <td>100</td>\n",
       "      <td>100</td>\n",
       "      <td>100</td>\n",
       "      <td>100</td>\n",
       "      <td>100</td>\n",
       "      <td>100</td>\n",
       "      <td>100</td>\n",
       "      <td>100</td>\n",
       "      <td>100</td>\n",
       "    </tr>\n",
       "    <tr>\n",
       "      <th>unique</th>\n",
       "      <td>10</td>\n",
       "      <td>10</td>\n",
       "      <td>96</td>\n",
       "      <td>100</td>\n",
       "      <td>100</td>\n",
       "      <td>20</td>\n",
       "      <td>10</td>\n",
       "      <td>10</td>\n",
       "      <td>9</td>\n",
       "      <td>6</td>\n",
       "    </tr>\n",
       "    <tr>\n",
       "      <th>top</th>\n",
       "      <td>Liam</td>\n",
       "      <td>Smith</td>\n",
       "      <td>user12@mailservice.org</td>\n",
       "      <td>555-813-6931</td>\n",
       "      <td>555-553-8435</td>\n",
       "      <td>Startup Inc</td>\n",
       "      <td>CEO</td>\n",
       "      <td>Miami</td>\n",
       "      <td>CA</td>\n",
       "      <td>Trade Show</td>\n",
       "    </tr>\n",
       "    <tr>\n",
       "      <th>freq</th>\n",
       "      <td>15</td>\n",
       "      <td>14</td>\n",
       "      <td>3</td>\n",
       "      <td>1</td>\n",
       "      <td>1</td>\n",
       "      <td>10</td>\n",
       "      <td>13</td>\n",
       "      <td>16</td>\n",
       "      <td>23</td>\n",
       "      <td>21</td>\n",
       "    </tr>\n",
       "  </tbody>\n",
       "</table>\n",
       "</div>"
      ],
      "text/plain": [
       "       FirstName LastName                   Email         Phone   MobilePhone  \\\n",
       "count        100      100                     100           100           100   \n",
       "unique        10       10                      96           100           100   \n",
       "top         Liam    Smith  user12@mailservice.org  555-813-6931  555-553-8435   \n",
       "freq          15       14                       3             1             1   \n",
       "\n",
       "        AccountName Title MailingCity MailingState  LeadSource  \n",
       "count           100   100         100          100         100  \n",
       "unique           20    10          10            9           6  \n",
       "top     Startup Inc   CEO       Miami           CA  Trade Show  \n",
       "freq             10    13          16           23          21  "
      ]
     },
     "metadata": {},
     "output_type": "display_data"
    },
    {
     "data": {
      "text/html": [
       "<div>\n",
       "<style scoped>\n",
       "    .dataframe tbody tr th:only-of-type {\n",
       "        vertical-align: middle;\n",
       "    }\n",
       "\n",
       "    .dataframe tbody tr th {\n",
       "        vertical-align: top;\n",
       "    }\n",
       "\n",
       "    .dataframe thead th {\n",
       "        text-align: right;\n",
       "    }\n",
       "</style>\n",
       "<table border=\"1\" class=\"dataframe\">\n",
       "  <thead>\n",
       "    <tr style=\"text-align: right;\">\n",
       "      <th></th>\n",
       "      <th>FirstName</th>\n",
       "      <th>LastName</th>\n",
       "      <th>Email</th>\n",
       "      <th>Phone</th>\n",
       "      <th>MobilePhone</th>\n",
       "      <th>AccountName</th>\n",
       "      <th>Title</th>\n",
       "      <th>MailingCity</th>\n",
       "      <th>MailingState</th>\n",
       "      <th>LeadSource</th>\n",
       "    </tr>\n",
       "  </thead>\n",
       "  <tbody>\n",
       "    <tr>\n",
       "      <th>74</th>\n",
       "      <td>John</td>\n",
       "      <td>Khan</td>\n",
       "      <td>user74@webmail.org</td>\n",
       "      <td>555-404-4684</td>\n",
       "      <td>555-134-6130</td>\n",
       "      <td>NovaCore Technologies</td>\n",
       "      <td>Sales Rep</td>\n",
       "      <td>Denver</td>\n",
       "      <td>FL</td>\n",
       "      <td>Web</td>\n",
       "    </tr>\n",
       "    <tr>\n",
       "      <th>1</th>\n",
       "      <td>Liam</td>\n",
       "      <td>Johnson</td>\n",
       "      <td>user1@example.io</td>\n",
       "      <td>555-734-3658</td>\n",
       "      <td>555-100-1891</td>\n",
       "      <td>Acme Corp</td>\n",
       "      <td>Developer</td>\n",
       "      <td>Seattle</td>\n",
       "      <td>TX</td>\n",
       "      <td>Partner</td>\n",
       "    </tr>\n",
       "  </tbody>\n",
       "</table>\n",
       "</div>"
      ],
      "text/plain": [
       "   FirstName LastName               Email         Phone   MobilePhone  \\\n",
       "74      John     Khan  user74@webmail.org  555-404-4684  555-134-6130   \n",
       "1       Liam  Johnson    user1@example.io  555-734-3658  555-100-1891   \n",
       "\n",
       "              AccountName      Title MailingCity MailingState LeadSource  \n",
       "74  NovaCore Technologies  Sales Rep      Denver           FL        Web  \n",
       "1               Acme Corp  Developer     Seattle           TX    Partner  "
      ]
     },
     "metadata": {},
     "output_type": "display_data"
    },
    {
     "data": {
      "text/html": [
       "<div>\n",
       "<style scoped>\n",
       "    .dataframe tbody tr th:only-of-type {\n",
       "        vertical-align: middle;\n",
       "    }\n",
       "\n",
       "    .dataframe tbody tr th {\n",
       "        vertical-align: top;\n",
       "    }\n",
       "\n",
       "    .dataframe thead th {\n",
       "        text-align: right;\n",
       "    }\n",
       "</style>\n",
       "<table border=\"1\" class=\"dataframe\">\n",
       "  <thead>\n",
       "    <tr style=\"text-align: right;\">\n",
       "      <th></th>\n",
       "      <th>AccountName</th>\n",
       "      <th>Industry</th>\n",
       "      <th>Type</th>\n",
       "      <th>Rating</th>\n",
       "      <th>BillingCity</th>\n",
       "      <th>BillingState</th>\n",
       "      <th>Website</th>\n",
       "      <th>Phone</th>\n",
       "    </tr>\n",
       "  </thead>\n",
       "  <tbody>\n",
       "    <tr>\n",
       "      <th>0</th>\n",
       "      <td>Blue Ocean Tech</td>\n",
       "      <td>Healthcare</td>\n",
       "      <td>Vendor</td>\n",
       "      <td>Hot</td>\n",
       "      <td>San Francisco</td>\n",
       "      <td>WA</td>\n",
       "      <td>www.blueoceantech.com</td>\n",
       "      <td>555-410-9237</td>\n",
       "    </tr>\n",
       "    <tr>\n",
       "      <th>1</th>\n",
       "      <td>Acme Corp</td>\n",
       "      <td>Manufacturing</td>\n",
       "      <td>Partner</td>\n",
       "      <td>Warm</td>\n",
       "      <td>Los Angeles</td>\n",
       "      <td>CO</td>\n",
       "      <td>www.acmecorp.com</td>\n",
       "      <td>555-141-7084</td>\n",
       "    </tr>\n",
       "    <tr>\n",
       "      <th>2</th>\n",
       "      <td>Tech Solutions</td>\n",
       "      <td>Technology</td>\n",
       "      <td>Vendor</td>\n",
       "      <td>Hot</td>\n",
       "      <td>Miami</td>\n",
       "      <td>FL</td>\n",
       "      <td>www.techsolutions.com</td>\n",
       "      <td>555-624-8599</td>\n",
       "    </tr>\n",
       "  </tbody>\n",
       "</table>\n",
       "</div>"
      ],
      "text/plain": [
       "       AccountName       Industry     Type Rating    BillingCity BillingState  \\\n",
       "0  Blue Ocean Tech     Healthcare   Vendor    Hot  San Francisco           WA   \n",
       "1        Acme Corp  Manufacturing  Partner   Warm    Los Angeles           CO   \n",
       "2   Tech Solutions     Technology   Vendor    Hot          Miami           FL   \n",
       "\n",
       "                 Website         Phone  \n",
       "0  www.blueoceantech.com  555-410-9237  \n",
       "1       www.acmecorp.com  555-141-7084  \n",
       "2  www.techsolutions.com  555-624-8599  "
      ]
     },
     "metadata": {},
     "output_type": "display_data"
    }
   ],
   "source": [
    "display(df_contacts.describe()) # Descriptive statistics for numerical columns\n",
    "display(df_contacts.sample(2)) #get some sample data, specify the number of rows you want to sample\n",
    "display(df_accounts.head(3)) #get the first 3 rows of the dataframe, you can alos get the last by using tail()"
   ]
  },
  {
   "cell_type": "markdown",
   "id": "8ea360cf",
   "metadata": {},
   "source": [
    "Filter rows by value, we are creating a new dataframe here, the original one is not modified"
   ]
  },
  {
   "cell_type": "code",
   "execution_count": null,
   "id": "7a982349",
   "metadata": {},
   "outputs": [],
   "source": [
    "vendors = df_accounts[df_accounts['Type'] == 'Vendor']\n",
    "display(vendors[0:5])"
   ]
  },
  {
   "cell_type": "markdown",
   "id": "3ccad5fb",
   "metadata": {},
   "source": [
    "Select only certain columns to be used in a dataframe"
   ]
  },
  {
   "cell_type": "code",
   "execution_count": null,
   "id": "90a2e9b9",
   "metadata": {},
   "outputs": [],
   "source": [
    "vendors = df_accounts[df_accounts['Type'] == 'Vendor'][['AccountName', 'Industry']]\n",
    "display(vendors[0:5])"
   ]
  },
  {
   "cell_type": "markdown",
   "id": "a643c6e6",
   "metadata": {},
   "source": [
    "Before going further lets join these datasets together, this will be the easiest merge you will likely ever deal with haha"
   ]
  },
  {
   "cell_type": "code",
   "execution_count": null,
   "id": "16981b10",
   "metadata": {},
   "outputs": [],
   "source": [
    "merged = pd.merge(df_contacts, df_accounts, on=\"AccountName\", how=\"left\")\n",
    "display(merged.columns)"
   ]
  },
  {
   "cell_type": "markdown",
   "id": "c1191a0f",
   "metadata": {},
   "source": [
    "Let's get creative and query the in ways that SOQL or Excel may have trouble doing."
   ]
  },
  {
   "cell_type": "code",
   "execution_count": null,
   "id": "df9af0b4",
   "metadata": {},
   "outputs": [],
   "source": [
    "#Filter based on regex\n",
    "\n",
    "df_contacts[df_contacts[\"Title\"].str.contains(r\"\\b(VP|Vice President|Director|Head)\\b\", case=False, na=False)][0:5]"
   ]
  },
  {
   "cell_type": "code",
   "execution_count": null,
   "id": "fd20a0dd",
   "metadata": {},
   "outputs": [],
   "source": [
    "# Hot Leads in Tech/Finance in CA/NY, in excel it needs multiple IF or FILTER functions, hard to maintain.\n",
    "merged.pivot_table(index=\"Industry\", columns=\"Rating\", values=\"FirstName\", aggfunc=\"count\", fill_value=0)\n",
    "merged[\n",
    "    (merged[\"Rating\"] == \"Hot\") &\n",
    "    (merged[\"Industry\"].isin([\"Technology\", \"Finance\"])) &\n",
    "    (merged[\"MailingState\"].isin([\"CA\", \"NY\"]))\n",
    "]"
   ]
  },
  {
   "cell_type": "code",
   "execution_count": null,
   "id": "2b9cda2d",
   "metadata": {},
   "outputs": [],
   "source": [
    "#Group by AccountName and aggregate with custom function\n",
    "merged.groupby(\"AccountName\").agg({\n",
    "    \"FirstName\": \"count\",\n",
    "    \"Rating\": lambda x: x.mode().iloc[0] if not x.mode().empty else \"Unknown\"\n",
    "})[0:5]"
   ]
  },
  {
   "cell_type": "code",
   "execution_count": null,
   "id": "f2917ca0",
   "metadata": {},
   "outputs": [],
   "source": [
    "#This line calculates the percentage of each account rating within every region, reshapes it into a table, and fills in any missing values with zeros.\n",
    "def assign_region(state):\n",
    "    if state in [\"CA\", \"WA\", \"OR\"]:\n",
    "        return \"West\"\n",
    "    elif state in [\"NY\", \"MA\", \"NJ\"]:\n",
    "        return \"Northeast\"\n",
    "    elif state in [\"TX\", \"FL\"]:\n",
    "        return \"South\"\n",
    "    else:\n",
    "        return \"Other\"\n",
    "\n",
    "df_accounts[\"Region\"] = df_accounts[\"BillingState\"].apply(assign_region)\n",
    "region_leads = df_accounts.groupby(\"Region\")[\"Rating\"].value_counts(normalize=True).unstack().fillna(0)\n",
    "region_leads"
   ]
  },
  {
   "cell_type": "markdown",
   "id": "c96b8ec7",
   "metadata": {},
   "source": [
    "## Data Manipulation"
   ]
  },
  {
   "cell_type": "markdown",
   "id": "eb50a1bc",
   "metadata": {},
   "source": [
    "Slicing and dicing data is great, but we also need to be able to add or rename columns, and perform other operation on the dataframe"
   ]
  },
  {
   "cell_type": "markdown",
   "id": "7acf5b31",
   "metadata": {},
   "source": [
    "### DataFrame Mods"
   ]
  },
  {
   "cell_type": "code",
   "execution_count": null,
   "id": "fd4d5ebc",
   "metadata": {
    "vscode": {
     "languageId": "ruby"
    }
   },
   "outputs": [],
   "source": [
    "# Dropping duplicate emails in contacts dataset\n",
    "print('Original contact count:', df_contacts.shape[0])\n",
    "df_contacts_nodup = df_contacts.drop_duplicates(subset='Email')\n",
    "print('Contact count after dropping duplicate emails:', df_contacts_nodup.shape[0])\n",
    "duplicated_emails = df_contacts[df_contacts.duplicated(subset='Email', keep=False)]['Email'].unique()\n",
    "print('Duplicated emails:')\n",
    "print(duplicated_emails)"
   ]
  },
  {
   "cell_type": "code",
   "execution_count": null,
   "id": "3e62af95",
   "metadata": {
    "vscode": {
     "languageId": "ruby"
    }
   },
   "outputs": [],
   "source": [
    "#a simple way to assign a region based on state, however you could do this with a formula field on salesforce, but this is for demo purposes\n",
    "def assign_region(state):\n",
    "    if state in ['CA', 'WA', 'OR']:\n",
    "        return 'West'\n",
    "    elif state in ['NY', 'MA', 'NJ']:\n",
    "        return 'Northeast'\n",
    "    elif state in ['TX', 'FL']:\n",
    "        return 'South'\n",
    "    else:\n",
    "        return 'Other'\n",
    "\n",
    "df_accounts['Region'] = df_accounts['BillingState'].apply(assign_region)\n",
    "df_accounts['Region'][0:3]\n"
   ]
  },
  {
   "cell_type": "code",
   "execution_count": null,
   "id": "11ecc0b8",
   "metadata": {
    "vscode": {
     "languageId": "ruby"
    }
   },
   "outputs": [],
   "source": [
    "#replace values\n",
    "df_contacts[\"LeadSource\"] = df_contacts[\"LeadSource\"].replace(\"Trade Show\", \"Event\")\n",
    "df_contacts[\"LeadSource\"][0:5]"
   ]
  },
  {
   "cell_type": "code",
   "execution_count": null,
   "id": "9e54afa9",
   "metadata": {
    "vscode": {
     "languageId": "ruby"
    }
   },
   "outputs": [],
   "source": [
    "#this is used to rename the columns in a dataframe, inplace means it will change the original dataframe, I do not recommend using inplace \n",
    "# as it can lead to confusion, but it is useful for quick changes in a notebook\n",
    "df_contacts.rename(columns={\n",
    "    \"Phone\": \"ContactPhone\"\n",
    "}, inplace=True)\n",
    "df_contacts.columns"
   ]
  },
  {
   "cell_type": "code",
   "execution_count": null,
   "id": "2448e9ea",
   "metadata": {
    "vscode": {
     "languageId": "ruby"
    }
   },
   "outputs": [],
   "source": [
    "# Example: Add a new contact row to df_contacts\n",
    "new_contact = {\n",
    "    'FirstName': 'Emma',\n",
    "    'LastName': 'Smith',\n",
    "    'Email': 'emma.smith@example.com',\n",
    "    'ContactPhone': '555-123-4567',\n",
    "    'MobilePhone': '555-987-6543',\n",
    "    'AccountName': 'Acme Corp',\n",
    "    'Title': 'Account Manager',\n",
    "    'MailingCity': 'San Diego',\n",
    "    'MailingState': 'CA',\n",
    "    'LeadSource': 'Web'\n",
    "}\n",
    "df_contacts = pd.concat([df_contacts, pd.DataFrame([new_contact])], ignore_index=True)\n",
    "display(df_contacts.tail())"
   ]
  },
  {
   "cell_type": "code",
   "execution_count": null,
   "id": "f256d7a9",
   "metadata": {},
   "outputs": [],
   "source": [
    "#Removing a row from a dataframe is simply at matter of exclusion\n",
    "df_contacts = df_contacts[df_contacts['Email'] != 'emma.smith@example.com']\n",
    "display(df_contacts.tail())"
   ]
  },
  {
   "cell_type": "markdown",
   "id": "de8ed2fc",
   "metadata": {},
   "source": [
    "### Export Date to CSV"
   ]
  },
  {
   "cell_type": "code",
   "execution_count": null,
   "id": "f9a54fbc",
   "metadata": {},
   "outputs": [],
   "source": [
    "df_contacts.to_csv('../datasets/contacts_export.csv', index=False)"
   ]
  },
  {
   "cell_type": "markdown",
   "id": "0bcc5ba8",
   "metadata": {},
   "source": [
    "### Bonus"
   ]
  },
  {
   "cell_type": "markdown",
   "id": "b02f238c",
   "metadata": {},
   "source": [
    "Flatten JSON easily into dataframe"
   ]
  },
  {
   "cell_type": "raw",
   "id": "a340e1bd",
   "metadata": {
    "vscode": {
     "languageId": "raw"
    }
   },
   "source": [
    "{\n",
    "  \"organization\": {\n",
    "    \"name\": \"SampleOrg\",\n",
    "    \"accounts\": [\n",
    "      {\n",
    "        \"account\": {\n",
    "          \"details\": {\n",
    "            \"AccountName\": \"Blue Ocean Tech\",\n",
    "            \"Industry\": \"Healthcare\",\n",
    "            \"Type\": \"Vendor\",\n",
    "            \"Rating\": \"Hot\"\n",
    "          },\n",
    "          \"location\": {\n",
    "            \"BillingCity\": \"San Francisco\",\n",
    "            \"BillingState\": \"WA\"\n",
    "          },\n",
    "          \"contact\": {\n",
    "            \"Phone\": \"555-410-9237\",\n",
    "            \"Website\": \"www.blueoceantech.com\"\n",
    "          }\n",
    "        }\n",
    "      }\n",
    "    ]\n",
    "  }\n",
    "}\n"
   ]
  },
  {
   "cell_type": "code",
   "execution_count": null,
   "id": "37205d8b",
   "metadata": {},
   "outputs": [],
   "source": [
    "# The first flat.update merges all key-value pairs from the 'details' dictionary into flat.\n",
    "# The second flat.update adds location info, prefixing keys with 'Billing' (e.g., 'BillingCity', 'BillingState').\n",
    "# The third flat.update merges all key-value pairs from the 'contact' dictionary into flat.\n",
    "\n",
    "with open('../datasets/accounts.json') as f:\n",
    "    data = json.load(f)\n",
    "\n",
    "accounts = data['organization']['accounts']\n",
    "\n",
    "flat_accounts = []\n",
    "for entry in accounts:\n",
    "    account = entry['account']\n",
    "    flat = {}\n",
    "    flat.update(account.get('details', {}))\n",
    "    flat.update(account.get('location', {}))\n",
    "    flat.update(account.get('contact', {}))\n",
    "    flat_accounts.append(flat)\n",
    "\n",
    "df_flat = pd.DataFrame(flat_accounts)\n",
    "display(df_flat.head())"
   ]
  },
  {
   "cell_type": "code",
   "execution_count": null,
   "id": "50b2e6e1",
   "metadata": {},
   "outputs": [],
   "source": [
    "# output the newly created flat dataframe to a new json structure, all for funzies\n",
    "#You can also work with XML but that is a different story\n",
    "subset = df_flat.head(2)\n",
    "output = []\n",
    "\n",
    "for _, row in subset.iterrows():\n",
    "    entry = {\n",
    "        'AccountName': row['AccountName'],\n",
    "        'Industry': row['Industry'],\n",
    "        'Type': row['Type'],\n",
    "        'Rating': row['Rating'],\n",
    "        'BillingCity': row['BillingCity'],\n",
    "        'BillingState': row['BillingState'],\n",
    "        'contact': {\n",
    "            'Phone': row['Phone'],\n",
    "            'Website': row['Website']\n",
    "        }\n",
    "    }\n",
    "    output.append(entry)\n",
    "    \n",
    "print(json.dumps(output, indent=2))"
   ]
  },
  {
   "cell_type": "code",
   "execution_count": null,
   "id": "0004a217",
   "metadata": {},
   "outputs": [],
   "source": [
    "#simple fuzzy matching example using fuzzywuzzy\n",
    "\n",
    "account_names = df_accounts['AccountName'].tolist()\n",
    "matches = []\n",
    "\n",
    "for name in account_names:\n",
    "    results = process.extract(name, account_names, limit=5)\n",
    "    for match_name, score in results:\n",
    "        if name != match_name and score >= 90:\n",
    "            matches.append({'AccountName': name, 'Match': match_name, 'Score': score})\n",
    "\n",
    "fuzzy_matches_df = pd.DataFrame(matches).drop_duplicates()\n",
    "display(fuzzy_matches_df)\n"
   ]
  },
  {
   "cell_type": "markdown",
   "id": "3ee98d08",
   "metadata": {},
   "source": [
    "## Export Notebook"
   ]
  },
  {
   "cell_type": "code",
   "execution_count": null,
   "id": "36693ea5",
   "metadata": {},
   "outputs": [],
   "source": [
    "!jupyter nbconvert --to html \"01_data_manipulation.ipynb\" --output-dir=../html\n",
    "!jupyter nbconvert --to script \"01_data_manipulation.ipynb\" --output-dir=../notebook_script_exports"
   ]
  }
 ],
 "metadata": {
  "kernelspec": {
   "display_name": "BuckeyeDreaminDemo-UmNsEV2x",
   "language": "python",
   "name": "python3"
  },
  "language_info": {
   "codemirror_mode": {
    "name": "ipython",
    "version": 3
   },
   "file_extension": ".py",
   "mimetype": "text/x-python",
   "name": "python",
   "nbconvert_exporter": "python",
   "pygments_lexer": "ipython3",
   "version": "3.13.2"
  }
 },
 "nbformat": 4,
 "nbformat_minor": 5
}
