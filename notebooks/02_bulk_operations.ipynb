{
 "cells": [
  {
   "cell_type": "markdown",
   "id": "cc6e6079",
   "metadata": {},
   "source": [
    "# Bulk Operations\n",
    "\n",
    "In this example, we will look at bulk operations using simple saleforce"
   ]
  },
  {
   "cell_type": "markdown",
   "id": "33c07abe",
   "metadata": {},
   "source": [
    "## Imports"
   ]
  },
  {
   "cell_type": "code",
   "execution_count": 41,
   "id": "393018ef",
   "metadata": {},
   "outputs": [
    {
     "data": {
      "text/plain": [
       "True"
      ]
     },
     "execution_count": 41,
     "metadata": {},
     "output_type": "execute_result"
    }
   ],
   "source": [
    "import pandas as pd\n",
    "from simple_salesforce import Salesforce\n",
    "import os\n",
    "import io\n",
    "from dotenv import load_dotenv\n",
    "import ipywidgets as widgets\n",
    "from IPython.display import display\n",
    "\n",
    "load_dotenv()\n"
   ]
  },
  {
   "cell_type": "markdown",
   "id": "7dd80dd7",
   "metadata": {},
   "source": [
    "## Authenticate"
   ]
  },
  {
   "cell_type": "markdown",
   "id": "64da125b",
   "metadata": {},
   "source": [
    "Always store your credentials in environment variables, and always use a service account.\n",
    "\n",
    "The `simple-salesforce` library supports multiple authentication methods:\n",
    "\n",
    "- Username, password, and security token  \n",
    "- Session ID and instance URL  \n",
    "- OAuth 2.0 (JWT, web flow, or refresh token)  \n",
    "- Connected App credentials (via external libraries) "
   ]
  },
  {
   "cell_type": "code",
   "execution_count": 42,
   "id": "c7a3b756",
   "metadata": {},
   "outputs": [],
   "source": [
    "\n",
    "sf_domain = os.getenv('sf_domain')\n",
    "sf_username = os.getenv('sf_username')\n",
    "sf_password = os.getenv('sf_password')\n",
    "sf_token = os.getenv('sf_token')\n",
    "\n",
    "\n",
    "sf = Salesforce(\n",
    "    username=sf_username,\n",
    "    password=sf_password,\n",
    "    security_token=sf_token,\n",
    "    domain=sf_domain\n",
    "   \n",
    ")"
   ]
  },
  {
   "cell_type": "markdown",
   "id": "e5f6d771",
   "metadata": {},
   "source": [
    "## Prepare Data"
   ]
  },
  {
   "cell_type": "markdown",
   "id": "a949cfda",
   "metadata": {},
   "source": [
    "### Load Data"
   ]
  },
  {
   "cell_type": "code",
   "execution_count": 43,
   "id": "6c6ea81c",
   "metadata": {},
   "outputs": [
    {
     "data": {
      "text/html": [
       "<div>\n",
       "<style scoped>\n",
       "    .dataframe tbody tr th:only-of-type {\n",
       "        vertical-align: middle;\n",
       "    }\n",
       "\n",
       "    .dataframe tbody tr th {\n",
       "        vertical-align: top;\n",
       "    }\n",
       "\n",
       "    .dataframe thead th {\n",
       "        text-align: right;\n",
       "    }\n",
       "</style>\n",
       "<table border=\"1\" class=\"dataframe\">\n",
       "  <thead>\n",
       "    <tr style=\"text-align: right;\">\n",
       "      <th></th>\n",
       "      <th>Part Number</th>\n",
       "      <th>Manufacturer</th>\n",
       "      <th>Description</th>\n",
       "      <th>External Id</th>\n",
       "    </tr>\n",
       "  </thead>\n",
       "  <tbody>\n",
       "    <tr>\n",
       "      <th>3817</th>\n",
       "      <td>9350-12</td>\n",
       "      <td>TBA</td>\n",
       "      <td>LATCH AY</td>\n",
       "      <td>23138</td>\n",
       "    </tr>\n",
       "    <tr>\n",
       "      <th>637</th>\n",
       "      <td>312W5312-3</td>\n",
       "      <td>Boeing</td>\n",
       "      <td>BOLT</td>\n",
       "      <td>19958</td>\n",
       "    </tr>\n",
       "    <tr>\n",
       "      <th>4271</th>\n",
       "      <td>A23541-3S</td>\n",
       "      <td>Raytheon Aircraft Airframe Componenst and Spar...</td>\n",
       "      <td>LATCH</td>\n",
       "      <td>23592</td>\n",
       "    </tr>\n",
       "    <tr>\n",
       "      <th>1207</th>\n",
       "      <td>8-814-02</td>\n",
       "      <td>TBA</td>\n",
       "      <td>TARGET</td>\n",
       "      <td>20528</td>\n",
       "    </tr>\n",
       "    <tr>\n",
       "      <th>2608</th>\n",
       "      <td>0YE4200A01G01</td>\n",
       "      <td>Jamco America</td>\n",
       "      <td>LIGHT ASSY</td>\n",
       "      <td>21929</td>\n",
       "    </tr>\n",
       "  </tbody>\n",
       "</table>\n",
       "</div>"
      ],
      "text/plain": [
       "        Part Number                                       Manufacturer  \\\n",
       "3817        9350-12                                                TBA   \n",
       "637      312W5312-3                                             Boeing   \n",
       "4271      A23541-3S  Raytheon Aircraft Airframe Componenst and Spar...   \n",
       "1207       8-814-02                                                TBA   \n",
       "2608  0YE4200A01G01                                      Jamco America   \n",
       "\n",
       "     Description  External Id  \n",
       "3817    LATCH AY        23138  \n",
       "637         BOLT        19958  \n",
       "4271       LATCH        23592  \n",
       "1207      TARGET        20528  \n",
       "2608  LIGHT ASSY        21929  "
      ]
     },
     "execution_count": 43,
     "metadata": {},
     "output_type": "execute_result"
    }
   ],
   "source": [
    "df = pd.read_csv('../datasets/parts.csv')\n",
    "df.sample(5)"
   ]
  },
  {
   "cell_type": "markdown",
   "id": "af164067",
   "metadata": {},
   "source": [
    "###  Clean Data"
   ]
  },
  {
   "cell_type": "code",
   "execution_count": 44,
   "id": "54b5eaa6",
   "metadata": {},
   "outputs": [],
   "source": [
    "#drop duplicate part numbers\n",
    "df = df.drop_duplicates(subset='Part Number')"
   ]
  },
  {
   "cell_type": "code",
   "execution_count": 45,
   "id": "3a5be9e0",
   "metadata": {},
   "outputs": [
    {
     "data": {
      "text/html": [
       "<div>\n",
       "<style scoped>\n",
       "    .dataframe tbody tr th:only-of-type {\n",
       "        vertical-align: middle;\n",
       "    }\n",
       "\n",
       "    .dataframe tbody tr th {\n",
       "        vertical-align: top;\n",
       "    }\n",
       "\n",
       "    .dataframe thead th {\n",
       "        text-align: right;\n",
       "    }\n",
       "</style>\n",
       "<table border=\"1\" class=\"dataframe\">\n",
       "  <thead>\n",
       "    <tr style=\"text-align: right;\">\n",
       "      <th></th>\n",
       "      <th>Name</th>\n",
       "      <th>Manufacturer_Name__c</th>\n",
       "      <th>inscor__Keyword__c</th>\n",
       "      <th>BD_ExternalId__c</th>\n",
       "    </tr>\n",
       "  </thead>\n",
       "  <tbody>\n",
       "    <tr>\n",
       "      <th>5219</th>\n",
       "      <td>TK190001</td>\n",
       "      <td>TBA</td>\n",
       "      <td>CART</td>\n",
       "      <td>24540</td>\n",
       "    </tr>\n",
       "    <tr>\n",
       "      <th>2641</th>\n",
       "      <td>115W4550-57</td>\n",
       "      <td>Boeing</td>\n",
       "      <td>SEAL</td>\n",
       "      <td>21962</td>\n",
       "    </tr>\n",
       "    <tr>\n",
       "      <th>1270</th>\n",
       "      <td>0FS1130A01M01</td>\n",
       "      <td>Jamco America</td>\n",
       "      <td>CATCH</td>\n",
       "      <td>20591</td>\n",
       "    </tr>\n",
       "  </tbody>\n",
       "</table>\n",
       "</div>"
      ],
      "text/plain": [
       "               Name Manufacturer_Name__c inscor__Keyword__c  BD_ExternalId__c\n",
       "5219       TK190001                  TBA               CART             24540\n",
       "2641    115W4550-57               Boeing               SEAL             21962\n",
       "1270  0FS1130A01M01        Jamco America              CATCH             20591"
      ]
     },
     "execution_count": 45,
     "metadata": {},
     "output_type": "execute_result"
    }
   ],
   "source": [
    "#rename columns to match Salesforce field names\n",
    "df = df.rename(columns= {\n",
    "    'Part Number': 'Name',\n",
    "    'Manufacturer': 'Manufacturer_Name__c',\n",
    "    'Description': 'inscor__Keyword__c',\n",
    "    'External Id': 'BD_ExternalId__c'\n",
    "})\n",
    "df.sample(3)"
   ]
  },
  {
   "cell_type": "markdown",
   "id": "91a8eee5",
   "metadata": {},
   "source": [
    "## Bulk API Operations"
   ]
  },
  {
   "cell_type": "markdown",
   "id": "11424e04",
   "metadata": {},
   "source": [
    "### Common Functions\n"
   ]
  },
  {
   "cell_type": "markdown",
   "id": "fb284576",
   "metadata": {},
   "source": [
    "The following code defines a helper function to process the results of Salesforce Bulk API v2 operations. It iterates through each job result, retrieves both successful and failed records, and converts them from CSV strings to pandas DataFrames. The function then adds the job ID to each record and concatenates all results into combined DataFrames for successes and failures. Finally, it returns these DataFrames for further analysis or reporting."
   ]
  },
  {
   "cell_type": "code",
   "execution_count": 46,
   "id": "8c4b80c5",
   "metadata": {},
   "outputs": [],
   "source": [
    "def get_bulk2_results(result):\n",
    "    combined_failed = pd.DataFrame()\n",
    "    combined_success = pd.DataFrame()\n",
    "    \n",
    "    for job in result:\n",
    "        job_id = job['job_id']\n",
    "        failed = sf.bulk2.Product2.get_failed_records(job_id)\n",
    "        success = sf.bulk2.Product2.get_successful_records(job_id)\n",
    "        \n",
    "        #since the results are returned as CSV strings, we need to convert them to DataFrames\n",
    "        success = pd.read_csv(io.StringIO(success))\n",
    "        failed = pd.read_csv(io.StringIO(failed))\n",
    "        \n",
    "        failed['job_id'] = job_id\n",
    "        success['job_id'] = job_id\n",
    "        \n",
    "        combined_failed = pd.concat([combined_failed, failed], ignore_index=True)\n",
    "        combined_success = pd.concat([combined_success, success], ignore_index=True)\n",
    "        \n",
    "        \n",
    "        return combined_success, combined_failed"
   ]
  },
  {
   "cell_type": "markdown",
   "id": "01953273",
   "metadata": {},
   "source": [
    "### Insert"
   ]
  },
  {
   "cell_type": "markdown",
   "id": "ce7aba92",
   "metadata": {},
   "source": [
    "Converts a dataframe to a list of dictionaries (csv in a json format) and inserts the records into Salesforce using the Bulk API 2.0 with up to 100 concurrent threads. The results are split into successful and failed inserts, then printed and previewed."
   ]
  },
  {
   "cell_type": "code",
   "execution_count": 47,
   "id": "fba5bae3",
   "metadata": {},
   "outputs": [
    {
     "name": "stdout",
     "output_type": "stream",
     "text": [
      "[{'numberRecordsFailed': 0, 'numberRecordsProcessed': 7069, 'numberRecordsTotal': 7069, 'job_id': '750ep000003HPhqAAG'}]\n",
      "Total records inserted: 7069\n"
     ]
    },
    {
     "data": {
      "text/html": [
       "<div>\n",
       "<style scoped>\n",
       "    .dataframe tbody tr th:only-of-type {\n",
       "        vertical-align: middle;\n",
       "    }\n",
       "\n",
       "    .dataframe tbody tr th {\n",
       "        vertical-align: top;\n",
       "    }\n",
       "\n",
       "    .dataframe thead th {\n",
       "        text-align: right;\n",
       "    }\n",
       "</style>\n",
       "<table border=\"1\" class=\"dataframe\">\n",
       "  <thead>\n",
       "    <tr style=\"text-align: right;\">\n",
       "      <th></th>\n",
       "      <th>sf__Id</th>\n",
       "      <th>sf__Created</th>\n",
       "      <th>Name</th>\n",
       "      <th>inscor__Keyword__c</th>\n",
       "      <th>Manufacturer_Name__c</th>\n",
       "      <th>BD_ExternalId__c</th>\n",
       "      <th>job_id</th>\n",
       "    </tr>\n",
       "  </thead>\n",
       "  <tbody>\n",
       "    <tr>\n",
       "      <th>0</th>\n",
       "      <td>01tep000002QVILAA4</td>\n",
       "      <td>True</td>\n",
       "      <td>0FR1100A01G02</td>\n",
       "      <td>SURROUND</td>\n",
       "      <td>None Specified</td>\n",
       "      <td>19321.0</td>\n",
       "      <td>750ep000003HPhqAAG</td>\n",
       "    </tr>\n",
       "    <tr>\n",
       "      <th>1</th>\n",
       "      <td>01tep000002QVIMAA4</td>\n",
       "      <td>True</td>\n",
       "      <td>0FR1100A03G01</td>\n",
       "      <td>SURROUND</td>\n",
       "      <td>Jamco America</td>\n",
       "      <td>19322.0</td>\n",
       "      <td>750ep000003HPhqAAG</td>\n",
       "    </tr>\n",
       "    <tr>\n",
       "      <th>2</th>\n",
       "      <td>01tep000002QVINAA4</td>\n",
       "      <td>True</td>\n",
       "      <td>0FR1100A07G05</td>\n",
       "      <td>SURROUND</td>\n",
       "      <td>Jamco America</td>\n",
       "      <td>19323.0</td>\n",
       "      <td>750ep000003HPhqAAG</td>\n",
       "    </tr>\n",
       "  </tbody>\n",
       "</table>\n",
       "</div>"
      ],
      "text/plain": [
       "               sf__Id  sf__Created           Name inscor__Keyword__c  \\\n",
       "0  01tep000002QVILAA4         True  0FR1100A01G02           SURROUND   \n",
       "1  01tep000002QVIMAA4         True  0FR1100A03G01           SURROUND   \n",
       "2  01tep000002QVINAA4         True  0FR1100A07G05           SURROUND   \n",
       "\n",
       "  Manufacturer_Name__c  BD_ExternalId__c              job_id  \n",
       "0       None Specified           19321.0  750ep000003HPhqAAG  \n",
       "1        Jamco America           19322.0  750ep000003HPhqAAG  \n",
       "2        Jamco America           19323.0  750ep000003HPhqAAG  "
      ]
     },
     "metadata": {},
     "output_type": "display_data"
    },
    {
     "name": "stdout",
     "output_type": "stream",
     "text": [
      "Total records failed: 0\n"
     ]
    },
    {
     "data": {
      "text/html": [
       "<div>\n",
       "<style scoped>\n",
       "    .dataframe tbody tr th:only-of-type {\n",
       "        vertical-align: middle;\n",
       "    }\n",
       "\n",
       "    .dataframe tbody tr th {\n",
       "        vertical-align: top;\n",
       "    }\n",
       "\n",
       "    .dataframe thead th {\n",
       "        text-align: right;\n",
       "    }\n",
       "</style>\n",
       "<table border=\"1\" class=\"dataframe\">\n",
       "  <thead>\n",
       "    <tr style=\"text-align: right;\">\n",
       "      <th></th>\n",
       "      <th>sf__Id</th>\n",
       "      <th>sf__Error</th>\n",
       "      <th>Name</th>\n",
       "      <th>inscor__Keyword__c</th>\n",
       "      <th>Manufacturer_Name__c</th>\n",
       "      <th>BD_ExternalId__c</th>\n",
       "      <th>job_id</th>\n",
       "    </tr>\n",
       "  </thead>\n",
       "  <tbody>\n",
       "  </tbody>\n",
       "</table>\n",
       "</div>"
      ],
      "text/plain": [
       "Empty DataFrame\n",
       "Columns: [sf__Id, sf__Error, Name, inscor__Keyword__c, Manufacturer_Name__c, BD_ExternalId__c, job_id]\n",
       "Index: []"
      ]
     },
     "metadata": {},
     "output_type": "display_data"
    }
   ],
   "source": [
    "records=df.to_dict(orient='records')\n",
    "result = sf.bulk2.Product2.insert(records=records, concurrency=100)\n",
    "print(result)\n",
    "\n",
    "#check the results\n",
    "success, fail = get_bulk2_results(result)\n",
    "print(f\"Total records inserted: {len(success)}\")\n",
    "display(success.head(3))\n",
    "print(f\"Total records failed: {len(fail)}\")\n",
    "display(fail.head(3))"
   ]
  },
  {
   "cell_type": "markdown",
   "id": "9175d72a",
   "metadata": {},
   "source": [
    "### Upsert"
   ]
  },
  {
   "cell_type": "markdown",
   "id": "9e7283d4",
   "metadata": {},
   "source": [
    "Updates the dataset by replacing all 'TBA' manufacturer names with 'Boeing', then appends two new product rows with JAMCO as the manufacturer."
   ]
  },
  {
   "cell_type": "code",
   "execution_count": 48,
   "id": "523deab3",
   "metadata": {},
   "outputs": [],
   "source": [
    "#update the dateset so TBA manufacturers are set to Boeing\n",
    "df['Manufacturer_Name__c'] = df['Manufacturer_Name__c'].replace('TBA', 'Boeing')\n",
    "#or use the datframe replace method loc\n",
    "#df.loc[df['Manufacturer_Name__c'] == 'TBA', 'Manufacturer_Name__c'] = 'Boeing'\n",
    "#add a new row to the dataset in a similar format to the existing rows\n",
    "new_rows = pd.DataFrame([\n",
    "    {'Name': 'ABC123', 'Manufacturer_Name__c': 'JAMCO', 'inscor__Keyword__c': 'WIDGET', 'BD_ExternalId__c': 99999},\n",
    "    {'Name': 'XYZ789', 'Manufacturer_Name__c': 'JAMCO', 'inscor__Keyword__c': 'GADGET', 'BD_ExternalId__c': 88888}\n",
    "])\n",
    "\n",
    "df = pd.concat([df, new_rows], ignore_index=True)"
   ]
  },
  {
   "cell_type": "markdown",
   "id": "a13be455",
   "metadata": {},
   "source": [
    "Converts the dataframe to a list of dictionaries and upserts the records into Salesforce using BD_ExternalId__c as the external ID. Displays the results, separates successes from failures, and saves the successful records to a CSV file."
   ]
  },
  {
   "cell_type": "code",
   "execution_count": 49,
   "id": "f5fa547f",
   "metadata": {},
   "outputs": [
    {
     "name": "stdout",
     "output_type": "stream",
     "text": [
      "[{'numberRecordsFailed': 0, 'numberRecordsProcessed': 7071, 'numberRecordsTotal': 7071, 'job_id': '750ep000003HWMjAAO'}]\n",
      "Total records inserted: 7071\n"
     ]
    },
    {
     "data": {
      "text/html": [
       "<div>\n",
       "<style scoped>\n",
       "    .dataframe tbody tr th:only-of-type {\n",
       "        vertical-align: middle;\n",
       "    }\n",
       "\n",
       "    .dataframe tbody tr th {\n",
       "        vertical-align: top;\n",
       "    }\n",
       "\n",
       "    .dataframe thead th {\n",
       "        text-align: right;\n",
       "    }\n",
       "</style>\n",
       "<table border=\"1\" class=\"dataframe\">\n",
       "  <thead>\n",
       "    <tr style=\"text-align: right;\">\n",
       "      <th></th>\n",
       "      <th>sf__Id</th>\n",
       "      <th>sf__Created</th>\n",
       "      <th>Name</th>\n",
       "      <th>inscor__Keyword__c</th>\n",
       "      <th>Manufacturer_Name__c</th>\n",
       "      <th>BD_ExternalId__c</th>\n",
       "      <th>job_id</th>\n",
       "    </tr>\n",
       "  </thead>\n",
       "  <tbody>\n",
       "    <tr>\n",
       "      <th>0</th>\n",
       "      <td>01tep000002QVILAA4</td>\n",
       "      <td>False</td>\n",
       "      <td>0FR1100A01G02</td>\n",
       "      <td>SURROUND</td>\n",
       "      <td>None Specified</td>\n",
       "      <td>19321.0</td>\n",
       "      <td>750ep000003HWMjAAO</td>\n",
       "    </tr>\n",
       "    <tr>\n",
       "      <th>1</th>\n",
       "      <td>01tep000002QVIMAA4</td>\n",
       "      <td>False</td>\n",
       "      <td>0FR1100A03G01</td>\n",
       "      <td>SURROUND</td>\n",
       "      <td>Jamco America</td>\n",
       "      <td>19322.0</td>\n",
       "      <td>750ep000003HWMjAAO</td>\n",
       "    </tr>\n",
       "    <tr>\n",
       "      <th>2</th>\n",
       "      <td>01tep000002QVINAA4</td>\n",
       "      <td>False</td>\n",
       "      <td>0FR1100A07G05</td>\n",
       "      <td>SURROUND</td>\n",
       "      <td>Jamco America</td>\n",
       "      <td>19323.0</td>\n",
       "      <td>750ep000003HWMjAAO</td>\n",
       "    </tr>\n",
       "  </tbody>\n",
       "</table>\n",
       "</div>"
      ],
      "text/plain": [
       "               sf__Id  sf__Created           Name inscor__Keyword__c  \\\n",
       "0  01tep000002QVILAA4        False  0FR1100A01G02           SURROUND   \n",
       "1  01tep000002QVIMAA4        False  0FR1100A03G01           SURROUND   \n",
       "2  01tep000002QVINAA4        False  0FR1100A07G05           SURROUND   \n",
       "\n",
       "  Manufacturer_Name__c  BD_ExternalId__c              job_id  \n",
       "0       None Specified           19321.0  750ep000003HWMjAAO  \n",
       "1        Jamco America           19322.0  750ep000003HWMjAAO  \n",
       "2        Jamco America           19323.0  750ep000003HWMjAAO  "
      ]
     },
     "metadata": {},
     "output_type": "display_data"
    },
    {
     "name": "stdout",
     "output_type": "stream",
     "text": [
      "Total records failed: 0\n"
     ]
    },
    {
     "data": {
      "text/html": [
       "<div>\n",
       "<style scoped>\n",
       "    .dataframe tbody tr th:only-of-type {\n",
       "        vertical-align: middle;\n",
       "    }\n",
       "\n",
       "    .dataframe tbody tr th {\n",
       "        vertical-align: top;\n",
       "    }\n",
       "\n",
       "    .dataframe thead th {\n",
       "        text-align: right;\n",
       "    }\n",
       "</style>\n",
       "<table border=\"1\" class=\"dataframe\">\n",
       "  <thead>\n",
       "    <tr style=\"text-align: right;\">\n",
       "      <th></th>\n",
       "      <th>sf__Id</th>\n",
       "      <th>sf__Error</th>\n",
       "      <th>Name</th>\n",
       "      <th>inscor__Keyword__c</th>\n",
       "      <th>Manufacturer_Name__c</th>\n",
       "      <th>BD_ExternalId__c</th>\n",
       "      <th>job_id</th>\n",
       "    </tr>\n",
       "  </thead>\n",
       "  <tbody>\n",
       "  </tbody>\n",
       "</table>\n",
       "</div>"
      ],
      "text/plain": [
       "Empty DataFrame\n",
       "Columns: [sf__Id, sf__Error, Name, inscor__Keyword__c, Manufacturer_Name__c, BD_ExternalId__c, job_id]\n",
       "Index: []"
      ]
     },
     "metadata": {},
     "output_type": "display_data"
    }
   ],
   "source": [
    "#convert the DataFrame to a list of dictionaries\n",
    "records = df.to_dict(orient='records')\n",
    "result = sf.bulk2.Product2.upsert(records=records, external_id_field='BD_ExternalId__c')\n",
    "print(result)\n",
    "\n",
    "success, fail = get_bulk2_results(result)\n",
    "print(f\"Total records inserted: {len(success)}\")\n",
    "display(success.head(3))\n",
    "print(f\"Total records failed: {len(fail)}\")\n",
    "display(fail.head(3))\n",
    "\n",
    "#only for update demonstration next, save sucess results\n",
    "success.to_csv('../datasets/success_parts.csv', index=False)"
   ]
  },
  {
   "cell_type": "markdown",
   "id": "6453dcc3",
   "metadata": {},
   "source": [
    "### Update"
   ]
  },
  {
   "cell_type": "code",
   "execution_count": 50,
   "id": "b871ce38",
   "metadata": {},
   "outputs": [
    {
     "data": {
      "text/html": [
       "<div>\n",
       "<style scoped>\n",
       "    .dataframe tbody tr th:only-of-type {\n",
       "        vertical-align: middle;\n",
       "    }\n",
       "\n",
       "    .dataframe tbody tr th {\n",
       "        vertical-align: top;\n",
       "    }\n",
       "\n",
       "    .dataframe thead th {\n",
       "        text-align: right;\n",
       "    }\n",
       "</style>\n",
       "<table border=\"1\" class=\"dataframe\">\n",
       "  <thead>\n",
       "    <tr style=\"text-align: right;\">\n",
       "      <th></th>\n",
       "      <th>sf__Id</th>\n",
       "      <th>sf__Created</th>\n",
       "      <th>Name</th>\n",
       "      <th>inscor__Keyword__c</th>\n",
       "      <th>Manufacturer_Name__c</th>\n",
       "      <th>BD_ExternalId__c</th>\n",
       "      <th>job_id</th>\n",
       "    </tr>\n",
       "  </thead>\n",
       "  <tbody>\n",
       "    <tr>\n",
       "      <th>0</th>\n",
       "      <td>01tep000002QVILAA4</td>\n",
       "      <td>False</td>\n",
       "      <td>0FR1100A01G02</td>\n",
       "      <td>SURROUND</td>\n",
       "      <td>None Specified</td>\n",
       "      <td>19321.0</td>\n",
       "      <td>750ep000003HWMjAAO</td>\n",
       "    </tr>\n",
       "  </tbody>\n",
       "</table>\n",
       "</div>"
      ],
      "text/plain": [
       "               sf__Id  sf__Created           Name inscor__Keyword__c  \\\n",
       "0  01tep000002QVILAA4        False  0FR1100A01G02           SURROUND   \n",
       "\n",
       "  Manufacturer_Name__c  BD_ExternalId__c              job_id  \n",
       "0       None Specified           19321.0  750ep000003HWMjAAO  "
      ]
     },
     "metadata": {},
     "output_type": "display_data"
    },
    {
     "name": "stdout",
     "output_type": "stream",
     "text": [
      "Total records in frame: 7071\n"
     ]
    }
   ],
   "source": [
    "#load and inspect the data\n",
    "df = pd.read_csv('../datasets/success_parts.csv')\n",
    "display(df.head(1))\n",
    "print(f\"Total records in frame: {len(df)}\")\n"
   ]
  },
  {
   "cell_type": "markdown",
   "id": "e03fc3a4",
   "metadata": {},
   "source": [
    "Filters the dataset to only include records where the manufacturer is 'None Specified', keeping just the ID and manufacturer columns. Renames the ID column and updates the manufacturer to 'Salesforce Aviation' for all remaining rows."
   ]
  },
  {
   "cell_type": "code",
   "execution_count": 51,
   "id": "4f9df41f",
   "metadata": {},
   "outputs": [
    {
     "data": {
      "text/html": [
       "<div>\n",
       "<style scoped>\n",
       "    .dataframe tbody tr th:only-of-type {\n",
       "        vertical-align: middle;\n",
       "    }\n",
       "\n",
       "    .dataframe tbody tr th {\n",
       "        vertical-align: top;\n",
       "    }\n",
       "\n",
       "    .dataframe thead th {\n",
       "        text-align: right;\n",
       "    }\n",
       "</style>\n",
       "<table border=\"1\" class=\"dataframe\">\n",
       "  <thead>\n",
       "    <tr style=\"text-align: right;\">\n",
       "      <th></th>\n",
       "      <th>Id</th>\n",
       "      <th>Manufacturer_Name__c</th>\n",
       "    </tr>\n",
       "  </thead>\n",
       "  <tbody>\n",
       "    <tr>\n",
       "      <th>0</th>\n",
       "      <td>01tep000002QVILAA4</td>\n",
       "      <td>None Specified</td>\n",
       "    </tr>\n",
       "  </tbody>\n",
       "</table>\n",
       "</div>"
      ],
      "text/plain": [
       "                   Id Manufacturer_Name__c\n",
       "0  01tep000002QVILAA4       None Specified"
      ]
     },
     "metadata": {},
     "output_type": "display_data"
    },
    {
     "name": "stdout",
     "output_type": "stream",
     "text": [
      "Total records in frame: 1405\n"
     ]
    },
    {
     "data": {
      "text/html": [
       "<div>\n",
       "<style scoped>\n",
       "    .dataframe tbody tr th:only-of-type {\n",
       "        vertical-align: middle;\n",
       "    }\n",
       "\n",
       "    .dataframe tbody tr th {\n",
       "        vertical-align: top;\n",
       "    }\n",
       "\n",
       "    .dataframe thead th {\n",
       "        text-align: right;\n",
       "    }\n",
       "</style>\n",
       "<table border=\"1\" class=\"dataframe\">\n",
       "  <thead>\n",
       "    <tr style=\"text-align: right;\">\n",
       "      <th></th>\n",
       "      <th>Id</th>\n",
       "      <th>Manufacturer_Name__c</th>\n",
       "    </tr>\n",
       "  </thead>\n",
       "  <tbody>\n",
       "    <tr>\n",
       "      <th>0</th>\n",
       "      <td>01tep000002QVILAA4</td>\n",
       "      <td>Salesforce Aviation</td>\n",
       "    </tr>\n",
       "  </tbody>\n",
       "</table>\n",
       "</div>"
      ],
      "text/plain": [
       "                   Id Manufacturer_Name__c\n",
       "0  01tep000002QVILAA4  Salesforce Aviation"
      ]
     },
     "metadata": {},
     "output_type": "display_data"
    }
   ],
   "source": [
    "#Let's clean up dataset and only get the data we need\n",
    "df = df[df['Manufacturer_Name__c'] == 'None Specified'][['sf__Id', 'Manufacturer_Name__c']]\n",
    "df = df.rename(\n",
    "   columns = {'sf__Id': 'Id'}\n",
    ")\n",
    "display(df.head(1))\n",
    "print(f\"Total records in frame: {len(df)}\")\n",
    "\n",
    "#update all manufacturer non speicified to Salesforce Aviation\n",
    "df['Manufacturer_Name__c'] = 'Salesforce Aviation'\n",
    "display(df.head(1))"
   ]
  },
  {
   "cell_type": "markdown",
   "id": "c29fe205",
   "metadata": {},
   "source": [
    "Converts the cleaned dataframe to a list of dictionaries and updates the corresponding Product2 records in Salesforce using their IDs. The results are processed to show successful and failed updates, with samples displayed for each."
   ]
  },
  {
   "cell_type": "code",
   "execution_count": 52,
   "id": "5ddd8917",
   "metadata": {},
   "outputs": [
    {
     "name": "stdout",
     "output_type": "stream",
     "text": [
      "[{'numberRecordsFailed': 0, 'numberRecordsProcessed': 1405, 'numberRecordsTotal': 1405, 'job_id': '750ep000003HViQAAW'}]\n",
      "Total records inserted: 1405\n"
     ]
    },
    {
     "data": {
      "text/html": [
       "<div>\n",
       "<style scoped>\n",
       "    .dataframe tbody tr th:only-of-type {\n",
       "        vertical-align: middle;\n",
       "    }\n",
       "\n",
       "    .dataframe tbody tr th {\n",
       "        vertical-align: top;\n",
       "    }\n",
       "\n",
       "    .dataframe thead th {\n",
       "        text-align: right;\n",
       "    }\n",
       "</style>\n",
       "<table border=\"1\" class=\"dataframe\">\n",
       "  <thead>\n",
       "    <tr style=\"text-align: right;\">\n",
       "      <th></th>\n",
       "      <th>sf__Id</th>\n",
       "      <th>sf__Created</th>\n",
       "      <th>Id</th>\n",
       "      <th>Manufacturer_Name__c</th>\n",
       "      <th>job_id</th>\n",
       "    </tr>\n",
       "  </thead>\n",
       "  <tbody>\n",
       "    <tr>\n",
       "      <th>0</th>\n",
       "      <td>01tep000002QVILAA4</td>\n",
       "      <td>False</td>\n",
       "      <td>01tep000002QVILAA4</td>\n",
       "      <td>Salesforce Aviation</td>\n",
       "      <td>750ep000003HViQAAW</td>\n",
       "    </tr>\n",
       "    <tr>\n",
       "      <th>1</th>\n",
       "      <td>01tep000002QVIrAAO</td>\n",
       "      <td>False</td>\n",
       "      <td>01tep000002QVIrAAO</td>\n",
       "      <td>Salesforce Aviation</td>\n",
       "      <td>750ep000003HViQAAW</td>\n",
       "    </tr>\n",
       "    <tr>\n",
       "      <th>2</th>\n",
       "      <td>01tep000002QVItAAO</td>\n",
       "      <td>False</td>\n",
       "      <td>01tep000002QVItAAO</td>\n",
       "      <td>Salesforce Aviation</td>\n",
       "      <td>750ep000003HViQAAW</td>\n",
       "    </tr>\n",
       "  </tbody>\n",
       "</table>\n",
       "</div>"
      ],
      "text/plain": [
       "               sf__Id  sf__Created                  Id Manufacturer_Name__c  \\\n",
       "0  01tep000002QVILAA4        False  01tep000002QVILAA4  Salesforce Aviation   \n",
       "1  01tep000002QVIrAAO        False  01tep000002QVIrAAO  Salesforce Aviation   \n",
       "2  01tep000002QVItAAO        False  01tep000002QVItAAO  Salesforce Aviation   \n",
       "\n",
       "               job_id  \n",
       "0  750ep000003HViQAAW  \n",
       "1  750ep000003HViQAAW  \n",
       "2  750ep000003HViQAAW  "
      ]
     },
     "metadata": {},
     "output_type": "display_data"
    },
    {
     "name": "stdout",
     "output_type": "stream",
     "text": [
      "Total records failed: 0\n"
     ]
    },
    {
     "data": {
      "text/html": [
       "<div>\n",
       "<style scoped>\n",
       "    .dataframe tbody tr th:only-of-type {\n",
       "        vertical-align: middle;\n",
       "    }\n",
       "\n",
       "    .dataframe tbody tr th {\n",
       "        vertical-align: top;\n",
       "    }\n",
       "\n",
       "    .dataframe thead th {\n",
       "        text-align: right;\n",
       "    }\n",
       "</style>\n",
       "<table border=\"1\" class=\"dataframe\">\n",
       "  <thead>\n",
       "    <tr style=\"text-align: right;\">\n",
       "      <th></th>\n",
       "      <th>sf__Id</th>\n",
       "      <th>sf__Error</th>\n",
       "      <th>Id</th>\n",
       "      <th>Manufacturer_Name__c</th>\n",
       "      <th>job_id</th>\n",
       "    </tr>\n",
       "  </thead>\n",
       "  <tbody>\n",
       "  </tbody>\n",
       "</table>\n",
       "</div>"
      ],
      "text/plain": [
       "Empty DataFrame\n",
       "Columns: [sf__Id, sf__Error, Id, Manufacturer_Name__c, job_id]\n",
       "Index: []"
      ]
     },
     "metadata": {},
     "output_type": "display_data"
    }
   ],
   "source": [
    "#convert the DataFrame to a list of dictionaries\n",
    "#update the records based on the salesforce Id\n",
    "records = df.to_dict(orient='records')\n",
    "result = sf.bulk2.Product2.update(records=records)\n",
    "print(result)\n",
    "\n",
    "success, fail = get_bulk2_results(result)\n",
    "print(f\"Total records inserted: {len(success)}\")\n",
    "display(success.head(3))\n",
    "print(f\"Total records failed: {len(fail)}\")\n",
    "display(fail.head(3))"
   ]
  },
  {
   "cell_type": "markdown",
   "id": "7c39764f",
   "metadata": {},
   "source": [
    "## Get Data\n"
   ]
  },
  {
   "cell_type": "markdown",
   "id": "420d5518",
   "metadata": {},
   "source": [
    "### Download"
   ]
  },
  {
   "cell_type": "markdown",
   "id": "9607b8b7",
   "metadata": {},
   "source": [
    "Defines a SOQL query to retrieve products with the manufacturer set to 'Salesforce Aviation' and downloads the results into the ../datasets folder using the Bulk API 2.0."
   ]
  },
  {
   "cell_type": "code",
   "execution_count": 53,
   "id": "4622a901",
   "metadata": {},
   "outputs": [
    {
     "data": {
      "text/plain": [
       "[{'locator': '',\n",
       "  'number_of_records': 1405,\n",
       "  'file': 'c:\\\\Users\\\\JackMcHugh\\\\Documents\\\\BuckeyeDreaminDemo\\\\datasets\\\\tmp3_212_dt.csv'}]"
      ]
     },
     "execution_count": 53,
     "metadata": {},
     "output_type": "execute_result"
    }
   ],
   "source": [
    "soql_query = \"\"\"\n",
    "SELECT Name, Manufacturer_Name__c, inscor__Keyword__c, BD_ExternalId__c\n",
    "FROM Product2\n",
    "WHERE Manufacturer_Name__c = 'Salesforce Aviation'\n",
    "\"\"\"\n",
    "#there is another option to download this into a memory object, but this is easier.\n",
    "sf.bulk2.Account.download(\n",
    "    soql_query, path='../datasets', max_records=200000,\n",
    ")\n"
   ]
  },
  {
   "cell_type": "markdown",
   "id": "a74924b7",
   "metadata": {},
   "source": [
    "## Delete & Hard Delete"
   ]
  },
  {
   "cell_type": "markdown",
   "id": "97bb77c7",
   "metadata": {},
   "source": [
    "Reads in the list of successfully inserted product records, extracts their IDs, and writes them to a CSV required for the hard delete operation. A confirmation button is displayed to trigger the delet"
   ]
  },
  {
   "cell_type": "code",
   "execution_count": null,
   "id": "bc1cfc68",
   "metadata": {},
   "outputs": [
    {
     "data": {
      "application/vnd.jupyter.widget-view+json": {
       "model_id": "f975365bcea94cb0804450a233d5a2ab",
       "version_major": 2,
       "version_minor": 0
      },
      "text/plain": [
       "Button(button_style='danger', description='Confirm Hard Delete', style=ButtonStyle())"
      ]
     },
     "metadata": {},
     "output_type": "display_data"
    },
    {
     "name": "stdout",
     "output_type": "stream",
     "text": [
      "Running hard delete...\n",
      "Done: [{'numberRecordsFailed': 0, 'numberRecordsProcessed': 7071, 'numberRecordsTotal': 7071, 'job_id': '750ep000003HWRZAA4'}]\n"
     ]
    }
   ],
   "source": [
    "success = pd.read_csv('../datasets/success_parts.csv')\n",
    "success = success.rename(columns={'sf__Id': 'Id'})\n",
    "csv_path = '../datasets/delete_ids.csv'\n",
    "success[['Id']].to_csv(csv_path, index=False)\n",
    "\n",
    "button = widgets.Button(description='Confirm Hard Delete', button_style='danger')\n",
    "\n",
    "def on_button_click(b):\n",
    "    print('Running hard delete...')\n",
    "    #result = sf.bulk2.Product2.hard_delete(csv_file=csv_path) for normal delete you can simply change the method to delete\n",
    "    result = sf.bulk2.Product2.hard_delete(csv_file=csv_path)\n",
    "    print('Done:', result)\n",
    "\n",
    "button.on_click(on_button_click)\n",
    "display(button)\n",
    "\n",
    "#Write to CSV in ../dataset — required because simple-salesforce hard_delete asserts csv_file is not None\n",
    "#Even though records= is accepted, it's not respected internally though a downstream assertion that csv_file is not None for delete operations.\n",
    "#I'm working on a PR to fix this bug in the simple-salesforce repo\n",
    "#If you are doing hard delete you will to enable that permission in your profile, do not be silly with that permission"
   ]
  },
  {
   "cell_type": "markdown",
   "id": "545adbf0",
   "metadata": {},
   "source": [
    "show dynamic get attr\n",
    "show wait function\n",
    "add notebook export"
   ]
  },
  {
   "cell_type": "markdown",
   "id": "4f1f96b1",
   "metadata": {},
   "source": [
    "## Bonus\n",
    "\n",
    "Using getattr dynamically selects the Salesforce object by name, and setting wait=False submits the job without blocking so results can be retrieved later using the job ID."
   ]
  },
  {
   "cell_type": "code",
   "execution_count": 55,
   "id": "03864ce9",
   "metadata": {},
   "outputs": [
    {
     "name": "stdout",
     "output_type": "stream",
     "text": [
      "Job submitted. Polling for results later...\n"
     ]
    },
    {
     "ename": "NameError",
     "evalue": "name 'job_info' is not defined",
     "output_type": "error",
     "traceback": [
      "\u001b[31m---------------------------------------------------------------------------\u001b[39m",
      "\u001b[31mNameError\u001b[39m                                 Traceback (most recent call last)",
      "\u001b[36mCell\u001b[39m\u001b[36m \u001b[39m\u001b[32mIn[55]\u001b[39m\u001b[32m, line 11\u001b[39m\n\u001b[32m      7\u001b[39m \u001b[38;5;66;03m#job_info = sf_object.update(records=records, wait=False)  # non-blocking\u001b[39;00m\n\u001b[32m      8\u001b[39m \n\u001b[32m      9\u001b[39m \u001b[38;5;66;03m# You can poll later using get_bulk2_results\u001b[39;00m\n\u001b[32m     10\u001b[39m \u001b[38;5;28mprint\u001b[39m(\u001b[33m'\u001b[39m\u001b[33mJob submitted. Polling for results later...\u001b[39m\u001b[33m'\u001b[39m)\n\u001b[32m---> \u001b[39m\u001b[32m11\u001b[39m job_id = \u001b[43mjob_info\u001b[49m[\u001b[33m'\u001b[39m\u001b[33mid\u001b[39m\u001b[33m'\u001b[39m]\n\u001b[32m     13\u001b[39m \u001b[38;5;66;03m# Later in the script...\u001b[39;00m\n\u001b[32m     14\u001b[39m success, fail = get_bulk2_results({\u001b[33m'\u001b[39m\u001b[33mid\u001b[39m\u001b[33m'\u001b[39m: job_id})\n",
      "\u001b[31mNameError\u001b[39m: name 'job_info' is not defined"
     ]
    }
   ],
   "source": [
    "# Dynamically choose the Salesforce object\n",
    "object_name = 'Product2'\n",
    "sf_object = getattr(sf.bulk2, object_name)\n",
    "\n",
    "# Submit update request without waiting for results\n",
    "records = df.to_dict(orient='records')\n",
    "#job_info = sf_object.update(records=records, wait=False)  # non-blocking\n",
    "\n",
    "# You can poll later using get_bulk2_results\n",
    "print('Job submitted. Polling for results later...')\n",
    "job_id = job_info['id']\n",
    "\n",
    "# Later in the script...\n",
    "success, fail = get_bulk2_results({'id': job_id})\n",
    "print(f\"Total records updated: {len(success)}\")\n",
    "display(success.head(3))\n",
    "print(f\"Total records failed: {len(fail)}\")\n",
    "display(fail.head(3))"
   ]
  },
  {
   "cell_type": "code",
   "execution_count": null,
   "id": "c962c0b7",
   "metadata": {},
   "outputs": [
    {
     "name": "stderr",
     "output_type": "stream",
     "text": [
      "[NbConvertApp] Converting notebook 02_bulk_operations.ipynb to html\n",
      "[NbConvertApp] Writing 338370 bytes to ..\\html\\02_bulk_operations.html\n",
      "[NbConvertApp] Converting notebook 02_bulk_operations.ipynb to script\n",
      "[NbConvertApp] Writing 9341 bytes to ..\\notebook_script_exports\\02_bulk_operations.py\n"
     ]
    }
   ],
   "source": [
    "!jupyter nbconvert --to html \"02_bulk_operations.ipynb\" --output-dir=../html\n",
    "!jupyter nbconvert --to script \"02_bulk_operations.ipynb\" --output-dir=../notebook_script_exports"
   ]
  }
 ],
 "metadata": {
  "kernelspec": {
   "display_name": "BuckeyeDreaminDemo-UmNsEV2x",
   "language": "python",
   "name": "python3"
  },
  "language_info": {
   "codemirror_mode": {
    "name": "ipython",
    "version": 3
   },
   "file_extension": ".py",
   "mimetype": "text/x-python",
   "name": "python",
   "nbconvert_exporter": "python",
   "pygments_lexer": "ipython3",
   "version": "3.13.2"
  }
 },
 "nbformat": 4,
 "nbformat_minor": 5
}
