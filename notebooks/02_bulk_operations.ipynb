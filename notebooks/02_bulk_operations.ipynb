{
 "cells": [
  {
   "cell_type": "markdown",
   "id": "cc6e6079",
   "metadata": {},
   "source": [
    "# Bulk Operations\n",
    "\n",
    "In this example, we will look at bulk operations using simple saleforce"
   ]
  },
  {
   "cell_type": "markdown",
   "id": "33c07abe",
   "metadata": {},
   "source": [
    "## Imports"
   ]
  },
  {
   "cell_type": "code",
   "execution_count": null,
   "id": "393018ef",
   "metadata": {},
   "outputs": [],
   "source": [
    "import pandas as pd\n",
    "from simple_salesforce import Salesforce\n",
    "import os\n",
    "import io\n",
    "from dotenv import load_dotenv\n",
    "import ipywidgets as widgets\n",
    "from IPython.display import display\n",
    "\n",
    "load_dotenv()\n"
   ]
  },
  {
   "cell_type": "markdown",
   "id": "7dd80dd7",
   "metadata": {},
   "source": [
    "## Authenticate"
   ]
  },
  {
   "cell_type": "markdown",
   "id": "64da125b",
   "metadata": {},
   "source": [
    "Always store your credentials in environment variables, and always use a service account.\n",
    "\n",
    "The `simple-salesforce` library supports multiple authentication methods:\n",
    "\n",
    "- Username, password, and security token  \n",
    "- Session ID and instance URL  \n",
    "- OAuth 2.0 (JWT, web flow, or refresh token)  \n",
    "- Connected App credentials (via external libraries) "
   ]
  },
  {
   "cell_type": "code",
   "execution_count": 160,
   "id": "c7a3b756",
   "metadata": {},
   "outputs": [],
   "source": [
    "\n",
    "sf_domain = os.getenv('sf_domain')\n",
    "sf_username = os.getenv('sf_username')\n",
    "sf_password = os.getenv('sf_password')\n",
    "sf_token = os.getenv('sf_token')\n",
    "\n",
    "\n",
    "sf = Salesforce(\n",
    "    username=sf_username,\n",
    "    password=sf_password,\n",
    "    security_token=sf_token,\n",
    "    domain=sf_domain\n",
    "   \n",
    ")"
   ]
  },
  {
   "cell_type": "markdown",
   "id": "e5f6d771",
   "metadata": {},
   "source": [
    "## Prepare Data"
   ]
  },
  {
   "cell_type": "markdown",
   "id": "a949cfda",
   "metadata": {},
   "source": [
    "### Load Data"
   ]
  },
  {
   "cell_type": "code",
   "execution_count": 194,
   "id": "6c6ea81c",
   "metadata": {},
   "outputs": [
    {
     "data": {
      "text/html": [
       "<div>\n",
       "<style scoped>\n",
       "    .dataframe tbody tr th:only-of-type {\n",
       "        vertical-align: middle;\n",
       "    }\n",
       "\n",
       "    .dataframe tbody tr th {\n",
       "        vertical-align: top;\n",
       "    }\n",
       "\n",
       "    .dataframe thead th {\n",
       "        text-align: right;\n",
       "    }\n",
       "</style>\n",
       "<table border=\"1\" class=\"dataframe\">\n",
       "  <thead>\n",
       "    <tr style=\"text-align: right;\">\n",
       "      <th></th>\n",
       "      <th>Part Number</th>\n",
       "      <th>Manufacturer</th>\n",
       "      <th>Description</th>\n",
       "      <th>External Id</th>\n",
       "    </tr>\n",
       "  </thead>\n",
       "  <tbody>\n",
       "    <tr>\n",
       "      <th>227</th>\n",
       "      <td>4326302</td>\n",
       "      <td>TBA</td>\n",
       "      <td>STRAP</td>\n",
       "      <td>19548</td>\n",
       "    </tr>\n",
       "    <tr>\n",
       "      <th>6067</th>\n",
       "      <td>66-12687-2</td>\n",
       "      <td>SPIRIT</td>\n",
       "      <td>PIN</td>\n",
       "      <td>25388</td>\n",
       "    </tr>\n",
       "    <tr>\n",
       "      <th>4380</th>\n",
       "      <td>113W3002-15</td>\n",
       "      <td>Boeing</td>\n",
       "      <td>SHIM</td>\n",
       "      <td>23701</td>\n",
       "    </tr>\n",
       "    <tr>\n",
       "      <th>5245</th>\n",
       "      <td>01652-009</td>\n",
       "      <td>AIRBUS SAS</td>\n",
       "      <td>TANK WASTE</td>\n",
       "      <td>24566</td>\n",
       "    </tr>\n",
       "    <tr>\n",
       "      <th>2692</th>\n",
       "      <td>116W2126-1</td>\n",
       "      <td>None Specified</td>\n",
       "      <td>KEY</td>\n",
       "      <td>22013</td>\n",
       "    </tr>\n",
       "  </tbody>\n",
       "</table>\n",
       "</div>"
      ],
      "text/plain": [
       "      Part Number    Manufacturer Description  External Id\n",
       "227       4326302             TBA       STRAP        19548\n",
       "6067   66-12687-2          SPIRIT         PIN        25388\n",
       "4380  113W3002-15          Boeing        SHIM        23701\n",
       "5245    01652-009      AIRBUS SAS  TANK WASTE        24566\n",
       "2692   116W2126-1  None Specified         KEY        22013"
      ]
     },
     "execution_count": 194,
     "metadata": {},
     "output_type": "execute_result"
    }
   ],
   "source": [
    "df = pd.read_csv('../datasets/parts.csv')\n",
    "df.sample(5)"
   ]
  },
  {
   "cell_type": "markdown",
   "id": "af164067",
   "metadata": {},
   "source": [
    "###  Clean Data"
   ]
  },
  {
   "cell_type": "code",
   "execution_count": 195,
   "id": "54b5eaa6",
   "metadata": {},
   "outputs": [],
   "source": [
    "#drop duplicate part numbers\n",
    "df = df.drop_duplicates(subset='Part Number')"
   ]
  },
  {
   "cell_type": "code",
   "execution_count": 196,
   "id": "3a5be9e0",
   "metadata": {},
   "outputs": [
    {
     "data": {
      "text/html": [
       "<div>\n",
       "<style scoped>\n",
       "    .dataframe tbody tr th:only-of-type {\n",
       "        vertical-align: middle;\n",
       "    }\n",
       "\n",
       "    .dataframe tbody tr th {\n",
       "        vertical-align: top;\n",
       "    }\n",
       "\n",
       "    .dataframe thead th {\n",
       "        text-align: right;\n",
       "    }\n",
       "</style>\n",
       "<table border=\"1\" class=\"dataframe\">\n",
       "  <thead>\n",
       "    <tr style=\"text-align: right;\">\n",
       "      <th></th>\n",
       "      <th>Name</th>\n",
       "      <th>Manufacturer_Name__c</th>\n",
       "      <th>inscor__Keyword__c</th>\n",
       "      <th>BD_ExternalId__c</th>\n",
       "    </tr>\n",
       "  </thead>\n",
       "  <tbody>\n",
       "    <tr>\n",
       "      <th>6846</th>\n",
       "      <td>3101768-1</td>\n",
       "      <td>None Specified</td>\n",
       "      <td>GASKET</td>\n",
       "      <td>26167</td>\n",
       "    </tr>\n",
       "    <tr>\n",
       "      <th>1640</th>\n",
       "      <td>8034-205</td>\n",
       "      <td>TBA</td>\n",
       "      <td>SEAL</td>\n",
       "      <td>20961</td>\n",
       "    </tr>\n",
       "    <tr>\n",
       "      <th>1992</th>\n",
       "      <td>451W4110-36</td>\n",
       "      <td>TBA</td>\n",
       "      <td>RAIL AY</td>\n",
       "      <td>21313</td>\n",
       "    </tr>\n",
       "  </tbody>\n",
       "</table>\n",
       "</div>"
      ],
      "text/plain": [
       "             Name Manufacturer_Name__c inscor__Keyword__c  BD_ExternalId__c\n",
       "6846    3101768-1       None Specified             GASKET             26167\n",
       "1640     8034-205                  TBA               SEAL             20961\n",
       "1992  451W4110-36                  TBA            RAIL AY             21313"
      ]
     },
     "execution_count": 196,
     "metadata": {},
     "output_type": "execute_result"
    }
   ],
   "source": [
    "#rename columns to match Salesforce field names\n",
    "df = df.rename(columns= {\n",
    "    'Part Number': 'Name',\n",
    "    'Manufacturer': 'Manufacturer_Name__c',\n",
    "    'Description': 'inscor__Keyword__c',\n",
    "    'External Id': 'BD_ExternalId__c'\n",
    "})\n",
    "df.sample(3)"
   ]
  },
  {
   "cell_type": "markdown",
   "id": "91a8eee5",
   "metadata": {},
   "source": [
    "## Bulk API Operations"
   ]
  },
  {
   "cell_type": "markdown",
   "id": "11424e04",
   "metadata": {},
   "source": [
    "### Common Functions\n"
   ]
  },
  {
   "cell_type": "code",
   "execution_count": 164,
   "id": "8c4b80c5",
   "metadata": {},
   "outputs": [],
   "source": [
    "def get_bulk2_results(result):\n",
    "    combined_failed = pd.DataFrame()\n",
    "    combined_success = pd.DataFrame()\n",
    "    \n",
    "    for job in result:\n",
    "        job_id = job['job_id']\n",
    "        failed = sf.bulk2.Product2.get_failed_records(job_id)\n",
    "        success = sf.bulk2.Product2.get_successful_records(job_id)\n",
    "        \n",
    "        #since the results are returned as CSV strings, we need to convert them to DataFrames\n",
    "        success = pd.read_csv(io.StringIO(success))\n",
    "        failed = pd.read_csv(io.StringIO(failed))\n",
    "        \n",
    "        failed['job_id'] = job_id\n",
    "        success['job_id'] = job_id\n",
    "        \n",
    "        combined_failed = pd.concat([combined_failed, failed], ignore_index=True)\n",
    "        combined_success = pd.concat([combined_success, success], ignore_index=True)\n",
    "        \n",
    "        \n",
    "        return combined_success, combined_failed"
   ]
  },
  {
   "cell_type": "markdown",
   "id": "01953273",
   "metadata": {},
   "source": [
    "### Insert"
   ]
  },
  {
   "cell_type": "code",
   "execution_count": 165,
   "id": "fba5bae3",
   "metadata": {},
   "outputs": [
    {
     "name": "stdout",
     "output_type": "stream",
     "text": [
      "[{'numberRecordsFailed': 0, 'numberRecordsProcessed': 7069, 'numberRecordsTotal': 7069, 'job_id': '750ep000003EIL7AAO'}]\n",
      "Total records inserted: 7069\n"
     ]
    },
    {
     "data": {
      "text/html": [
       "<div>\n",
       "<style scoped>\n",
       "    .dataframe tbody tr th:only-of-type {\n",
       "        vertical-align: middle;\n",
       "    }\n",
       "\n",
       "    .dataframe tbody tr th {\n",
       "        vertical-align: top;\n",
       "    }\n",
       "\n",
       "    .dataframe thead th {\n",
       "        text-align: right;\n",
       "    }\n",
       "</style>\n",
       "<table border=\"1\" class=\"dataframe\">\n",
       "  <thead>\n",
       "    <tr style=\"text-align: right;\">\n",
       "      <th></th>\n",
       "      <th>sf__Id</th>\n",
       "      <th>sf__Created</th>\n",
       "      <th>BD_ExternalId__c</th>\n",
       "      <th>Manufacturer_Name__c</th>\n",
       "      <th>Name</th>\n",
       "      <th>inscor__Keyword__c</th>\n",
       "      <th>job_id</th>\n",
       "    </tr>\n",
       "  </thead>\n",
       "  <tbody>\n",
       "    <tr>\n",
       "      <th>0</th>\n",
       "      <td>01tep000002Neq1AAC</td>\n",
       "      <td>True</td>\n",
       "      <td>19321.0</td>\n",
       "      <td>None Specified</td>\n",
       "      <td>0FR1100A01G02</td>\n",
       "      <td>SURROUND</td>\n",
       "      <td>750ep000003EIL7AAO</td>\n",
       "    </tr>\n",
       "    <tr>\n",
       "      <th>1</th>\n",
       "      <td>01tep000002Neq2AAC</td>\n",
       "      <td>True</td>\n",
       "      <td>19322.0</td>\n",
       "      <td>Jamco America</td>\n",
       "      <td>0FR1100A03G01</td>\n",
       "      <td>SURROUND</td>\n",
       "      <td>750ep000003EIL7AAO</td>\n",
       "    </tr>\n",
       "    <tr>\n",
       "      <th>2</th>\n",
       "      <td>01tep000002Neq3AAC</td>\n",
       "      <td>True</td>\n",
       "      <td>19323.0</td>\n",
       "      <td>Jamco America</td>\n",
       "      <td>0FR1100A07G05</td>\n",
       "      <td>SURROUND</td>\n",
       "      <td>750ep000003EIL7AAO</td>\n",
       "    </tr>\n",
       "  </tbody>\n",
       "</table>\n",
       "</div>"
      ],
      "text/plain": [
       "               sf__Id  sf__Created  BD_ExternalId__c Manufacturer_Name__c  \\\n",
       "0  01tep000002Neq1AAC         True           19321.0       None Specified   \n",
       "1  01tep000002Neq2AAC         True           19322.0        Jamco America   \n",
       "2  01tep000002Neq3AAC         True           19323.0        Jamco America   \n",
       "\n",
       "            Name inscor__Keyword__c              job_id  \n",
       "0  0FR1100A01G02           SURROUND  750ep000003EIL7AAO  \n",
       "1  0FR1100A03G01           SURROUND  750ep000003EIL7AAO  \n",
       "2  0FR1100A07G05           SURROUND  750ep000003EIL7AAO  "
      ]
     },
     "metadata": {},
     "output_type": "display_data"
    },
    {
     "name": "stdout",
     "output_type": "stream",
     "text": [
      "Total records failed: 0\n"
     ]
    },
    {
     "data": {
      "text/html": [
       "<div>\n",
       "<style scoped>\n",
       "    .dataframe tbody tr th:only-of-type {\n",
       "        vertical-align: middle;\n",
       "    }\n",
       "\n",
       "    .dataframe tbody tr th {\n",
       "        vertical-align: top;\n",
       "    }\n",
       "\n",
       "    .dataframe thead th {\n",
       "        text-align: right;\n",
       "    }\n",
       "</style>\n",
       "<table border=\"1\" class=\"dataframe\">\n",
       "  <thead>\n",
       "    <tr style=\"text-align: right;\">\n",
       "      <th></th>\n",
       "      <th>sf__Id</th>\n",
       "      <th>sf__Error</th>\n",
       "      <th>BD_ExternalId__c</th>\n",
       "      <th>Manufacturer_Name__c</th>\n",
       "      <th>Name</th>\n",
       "      <th>inscor__Keyword__c</th>\n",
       "      <th>job_id</th>\n",
       "    </tr>\n",
       "  </thead>\n",
       "  <tbody>\n",
       "  </tbody>\n",
       "</table>\n",
       "</div>"
      ],
      "text/plain": [
       "Empty DataFrame\n",
       "Columns: [sf__Id, sf__Error, BD_ExternalId__c, Manufacturer_Name__c, Name, inscor__Keyword__c, job_id]\n",
       "Index: []"
      ]
     },
     "metadata": {},
     "output_type": "display_data"
    }
   ],
   "source": [
    "records=df.to_dict(orient='records')\n",
    "result = sf.bulk2.Product2.insert(records=records, concurrency=100)\n",
    "print(result)\n",
    "\n",
    "#check the results\n",
    "success, fail = get_bulk2_results(result)\n",
    "print(f\"Total records inserted: {len(success)}\")\n",
    "display(success.head(3))\n",
    "print(f\"Total records failed: {len(fail)}\")\n",
    "display(fail.head(3))"
   ]
  },
  {
   "cell_type": "markdown",
   "id": "9175d72a",
   "metadata": {},
   "source": [
    "### Upsert"
   ]
  },
  {
   "cell_type": "code",
   "execution_count": 197,
   "id": "523deab3",
   "metadata": {},
   "outputs": [],
   "source": [
    "#update the dateset so TBA manufacturers are set to Boeing\n",
    "df['Manufacturer_Name__c'] = df['Manufacturer_Name__c'].replace('TBA', 'Boeing')\n",
    "#or use the datframe replace method loc\n",
    "#df.loc[df['Manufacturer_Name__c'] == 'TBA', 'Manufacturer_Name__c'] = 'Boeing'\n",
    "#add a new row to the dataset in a similar format to the existing rows\n",
    "new_rows = pd.DataFrame([\n",
    "    {'Name': 'ABC123', 'Manufacturer_Name__c': 'JAMCO', 'inscor__Keyword__c': 'WIDGET', 'BD_ExternalId__c': 99999},\n",
    "    {'Name': 'XYZ789', 'Manufacturer_Name__c': 'JAMCO', 'inscor__Keyword__c': 'GADGET', 'BD_ExternalId__c': 88888}\n",
    "])\n",
    "\n",
    "df = pd.concat([df, new_rows], ignore_index=True)"
   ]
  },
  {
   "cell_type": "code",
   "execution_count": 198,
   "id": "f5fa547f",
   "metadata": {},
   "outputs": [
    {
     "name": "stdout",
     "output_type": "stream",
     "text": [
      "[{'numberRecordsFailed': 0, 'numberRecordsProcessed': 7071, 'numberRecordsTotal': 7071, 'job_id': '750ep000003EJyjAAG'}]\n",
      "Total records inserted: 7071\n"
     ]
    },
    {
     "data": {
      "text/html": [
       "<div>\n",
       "<style scoped>\n",
       "    .dataframe tbody tr th:only-of-type {\n",
       "        vertical-align: middle;\n",
       "    }\n",
       "\n",
       "    .dataframe tbody tr th {\n",
       "        vertical-align: top;\n",
       "    }\n",
       "\n",
       "    .dataframe thead th {\n",
       "        text-align: right;\n",
       "    }\n",
       "</style>\n",
       "<table border=\"1\" class=\"dataframe\">\n",
       "  <thead>\n",
       "    <tr style=\"text-align: right;\">\n",
       "      <th></th>\n",
       "      <th>sf__Id</th>\n",
       "      <th>sf__Created</th>\n",
       "      <th>BD_ExternalId__c</th>\n",
       "      <th>Manufacturer_Name__c</th>\n",
       "      <th>Name</th>\n",
       "      <th>inscor__Keyword__c</th>\n",
       "      <th>job_id</th>\n",
       "    </tr>\n",
       "  </thead>\n",
       "  <tbody>\n",
       "    <tr>\n",
       "      <th>0</th>\n",
       "      <td>01tep000002Neq1AAC</td>\n",
       "      <td>False</td>\n",
       "      <td>19321.0</td>\n",
       "      <td>None Specified</td>\n",
       "      <td>0FR1100A01G02</td>\n",
       "      <td>SURROUND</td>\n",
       "      <td>750ep000003EJyjAAG</td>\n",
       "    </tr>\n",
       "    <tr>\n",
       "      <th>1</th>\n",
       "      <td>01tep000002Neq2AAC</td>\n",
       "      <td>False</td>\n",
       "      <td>19322.0</td>\n",
       "      <td>Jamco America</td>\n",
       "      <td>0FR1100A03G01</td>\n",
       "      <td>SURROUND</td>\n",
       "      <td>750ep000003EJyjAAG</td>\n",
       "    </tr>\n",
       "    <tr>\n",
       "      <th>2</th>\n",
       "      <td>01tep000002Neq3AAC</td>\n",
       "      <td>False</td>\n",
       "      <td>19323.0</td>\n",
       "      <td>Jamco America</td>\n",
       "      <td>0FR1100A07G05</td>\n",
       "      <td>SURROUND</td>\n",
       "      <td>750ep000003EJyjAAG</td>\n",
       "    </tr>\n",
       "  </tbody>\n",
       "</table>\n",
       "</div>"
      ],
      "text/plain": [
       "               sf__Id  sf__Created  BD_ExternalId__c Manufacturer_Name__c  \\\n",
       "0  01tep000002Neq1AAC        False           19321.0       None Specified   \n",
       "1  01tep000002Neq2AAC        False           19322.0        Jamco America   \n",
       "2  01tep000002Neq3AAC        False           19323.0        Jamco America   \n",
       "\n",
       "            Name inscor__Keyword__c              job_id  \n",
       "0  0FR1100A01G02           SURROUND  750ep000003EJyjAAG  \n",
       "1  0FR1100A03G01           SURROUND  750ep000003EJyjAAG  \n",
       "2  0FR1100A07G05           SURROUND  750ep000003EJyjAAG  "
      ]
     },
     "metadata": {},
     "output_type": "display_data"
    },
    {
     "name": "stdout",
     "output_type": "stream",
     "text": [
      "Total records failed: 0\n"
     ]
    },
    {
     "data": {
      "text/html": [
       "<div>\n",
       "<style scoped>\n",
       "    .dataframe tbody tr th:only-of-type {\n",
       "        vertical-align: middle;\n",
       "    }\n",
       "\n",
       "    .dataframe tbody tr th {\n",
       "        vertical-align: top;\n",
       "    }\n",
       "\n",
       "    .dataframe thead th {\n",
       "        text-align: right;\n",
       "    }\n",
       "</style>\n",
       "<table border=\"1\" class=\"dataframe\">\n",
       "  <thead>\n",
       "    <tr style=\"text-align: right;\">\n",
       "      <th></th>\n",
       "      <th>sf__Id</th>\n",
       "      <th>sf__Error</th>\n",
       "      <th>BD_ExternalId__c</th>\n",
       "      <th>Manufacturer_Name__c</th>\n",
       "      <th>Name</th>\n",
       "      <th>inscor__Keyword__c</th>\n",
       "      <th>job_id</th>\n",
       "    </tr>\n",
       "  </thead>\n",
       "  <tbody>\n",
       "  </tbody>\n",
       "</table>\n",
       "</div>"
      ],
      "text/plain": [
       "Empty DataFrame\n",
       "Columns: [sf__Id, sf__Error, BD_ExternalId__c, Manufacturer_Name__c, Name, inscor__Keyword__c, job_id]\n",
       "Index: []"
      ]
     },
     "metadata": {},
     "output_type": "display_data"
    }
   ],
   "source": [
    "#convert the DataFrame to a list of dictionaries\n",
    "records = df.to_dict(orient='records')\n",
    "result = sf.bulk2.Product2.upsert(records=records, external_id_field='BD_ExternalId__c')\n",
    "print(result)\n",
    "\n",
    "success, fail = get_bulk2_results(result)\n",
    "print(f\"Total records inserted: {len(success)}\")\n",
    "display(success.head(3))\n",
    "print(f\"Total records failed: {len(fail)}\")\n",
    "display(fail.head(3))\n",
    "\n",
    "#only for update demonstration next, save sucess results\n",
    "success.to_csv('../datasets/success_parts.csv', index=False)"
   ]
  },
  {
   "cell_type": "markdown",
   "id": "6453dcc3",
   "metadata": {},
   "source": [
    "# Update"
   ]
  },
  {
   "cell_type": "code",
   "execution_count": 168,
   "id": "b871ce38",
   "metadata": {},
   "outputs": [
    {
     "data": {
      "text/html": [
       "<div>\n",
       "<style scoped>\n",
       "    .dataframe tbody tr th:only-of-type {\n",
       "        vertical-align: middle;\n",
       "    }\n",
       "\n",
       "    .dataframe tbody tr th {\n",
       "        vertical-align: top;\n",
       "    }\n",
       "\n",
       "    .dataframe thead th {\n",
       "        text-align: right;\n",
       "    }\n",
       "</style>\n",
       "<table border=\"1\" class=\"dataframe\">\n",
       "  <thead>\n",
       "    <tr style=\"text-align: right;\">\n",
       "      <th></th>\n",
       "      <th>sf__Id</th>\n",
       "      <th>sf__Created</th>\n",
       "      <th>BD_ExternalId__c</th>\n",
       "      <th>Manufacturer_Name__c</th>\n",
       "      <th>Name</th>\n",
       "      <th>inscor__Keyword__c</th>\n",
       "      <th>job_id</th>\n",
       "    </tr>\n",
       "  </thead>\n",
       "  <tbody>\n",
       "    <tr>\n",
       "      <th>0</th>\n",
       "      <td>01tep000002Neq1AAC</td>\n",
       "      <td>False</td>\n",
       "      <td>19321.0</td>\n",
       "      <td>None Specified</td>\n",
       "      <td>0FR1100A01G02</td>\n",
       "      <td>SURROUND</td>\n",
       "      <td>750ep000003EIWPAA4</td>\n",
       "    </tr>\n",
       "  </tbody>\n",
       "</table>\n",
       "</div>"
      ],
      "text/plain": [
       "               sf__Id  sf__Created  BD_ExternalId__c Manufacturer_Name__c  \\\n",
       "0  01tep000002Neq1AAC        False           19321.0       None Specified   \n",
       "\n",
       "            Name inscor__Keyword__c              job_id  \n",
       "0  0FR1100A01G02           SURROUND  750ep000003EIWPAA4  "
      ]
     },
     "metadata": {},
     "output_type": "display_data"
    },
    {
     "name": "stdout",
     "output_type": "stream",
     "text": [
      "Total records in frame: 7071\n"
     ]
    }
   ],
   "source": [
    "#load and inspect the data\n",
    "df = pd.read_csv('../datasets/success_parts.csv')\n",
    "display(df.head(1))\n",
    "print(f\"Total records in frame: {len(df)}\")\n"
   ]
  },
  {
   "cell_type": "code",
   "execution_count": 169,
   "id": "4f9df41f",
   "metadata": {},
   "outputs": [
    {
     "data": {
      "text/html": [
       "<div>\n",
       "<style scoped>\n",
       "    .dataframe tbody tr th:only-of-type {\n",
       "        vertical-align: middle;\n",
       "    }\n",
       "\n",
       "    .dataframe tbody tr th {\n",
       "        vertical-align: top;\n",
       "    }\n",
       "\n",
       "    .dataframe thead th {\n",
       "        text-align: right;\n",
       "    }\n",
       "</style>\n",
       "<table border=\"1\" class=\"dataframe\">\n",
       "  <thead>\n",
       "    <tr style=\"text-align: right;\">\n",
       "      <th></th>\n",
       "      <th>Id</th>\n",
       "      <th>Manufacturer_Name__c</th>\n",
       "    </tr>\n",
       "  </thead>\n",
       "  <tbody>\n",
       "    <tr>\n",
       "      <th>0</th>\n",
       "      <td>01tep000002Neq1AAC</td>\n",
       "      <td>None Specified</td>\n",
       "    </tr>\n",
       "  </tbody>\n",
       "</table>\n",
       "</div>"
      ],
      "text/plain": [
       "                   Id Manufacturer_Name__c\n",
       "0  01tep000002Neq1AAC       None Specified"
      ]
     },
     "metadata": {},
     "output_type": "display_data"
    },
    {
     "name": "stdout",
     "output_type": "stream",
     "text": [
      "Total records in frame: 1405\n"
     ]
    },
    {
     "data": {
      "text/html": [
       "<div>\n",
       "<style scoped>\n",
       "    .dataframe tbody tr th:only-of-type {\n",
       "        vertical-align: middle;\n",
       "    }\n",
       "\n",
       "    .dataframe tbody tr th {\n",
       "        vertical-align: top;\n",
       "    }\n",
       "\n",
       "    .dataframe thead th {\n",
       "        text-align: right;\n",
       "    }\n",
       "</style>\n",
       "<table border=\"1\" class=\"dataframe\">\n",
       "  <thead>\n",
       "    <tr style=\"text-align: right;\">\n",
       "      <th></th>\n",
       "      <th>Id</th>\n",
       "      <th>Manufacturer_Name__c</th>\n",
       "    </tr>\n",
       "  </thead>\n",
       "  <tbody>\n",
       "    <tr>\n",
       "      <th>0</th>\n",
       "      <td>01tep000002Neq1AAC</td>\n",
       "      <td>Salesforce Aviation</td>\n",
       "    </tr>\n",
       "  </tbody>\n",
       "</table>\n",
       "</div>"
      ],
      "text/plain": [
       "                   Id Manufacturer_Name__c\n",
       "0  01tep000002Neq1AAC  Salesforce Aviation"
      ]
     },
     "metadata": {},
     "output_type": "display_data"
    }
   ],
   "source": [
    "#Let's clean up dataset and only get the data we need\n",
    "df = df[df['Manufacturer_Name__c'] == 'None Specified'][['sf__Id', 'Manufacturer_Name__c']]\n",
    "df = df.rename(\n",
    "   columns = {'sf__Id': 'Id'}\n",
    ")\n",
    "display(df.head(1))\n",
    "print(f\"Total records in frame: {len(df)}\")\n",
    "\n",
    "#update all manufacturer non speicified to Salesforce Aviation\n",
    "df['Manufacturer_Name__c'] = 'Salesforce Aviation'\n",
    "display(df.head(1))"
   ]
  },
  {
   "cell_type": "code",
   "execution_count": null,
   "id": "5ddd8917",
   "metadata": {},
   "outputs": [
    {
     "name": "stdout",
     "output_type": "stream",
     "text": [
      "[{'numberRecordsFailed': 0, 'numberRecordsProcessed': 1405, 'numberRecordsTotal': 1405, 'job_id': '750ep000003EIZdAAO'}]\n",
      "Total records inserted: 1405\n"
     ]
    },
    {
     "data": {
      "text/html": [
       "<div>\n",
       "<style scoped>\n",
       "    .dataframe tbody tr th:only-of-type {\n",
       "        vertical-align: middle;\n",
       "    }\n",
       "\n",
       "    .dataframe tbody tr th {\n",
       "        vertical-align: top;\n",
       "    }\n",
       "\n",
       "    .dataframe thead th {\n",
       "        text-align: right;\n",
       "    }\n",
       "</style>\n",
       "<table border=\"1\" class=\"dataframe\">\n",
       "  <thead>\n",
       "    <tr style=\"text-align: right;\">\n",
       "      <th></th>\n",
       "      <th>sf__Id</th>\n",
       "      <th>sf__Created</th>\n",
       "      <th>Manufacturer_Name__c</th>\n",
       "      <th>Id</th>\n",
       "      <th>job_id</th>\n",
       "    </tr>\n",
       "  </thead>\n",
       "  <tbody>\n",
       "    <tr>\n",
       "      <th>0</th>\n",
       "      <td>01tep000002Neq1AAC</td>\n",
       "      <td>False</td>\n",
       "      <td>Salesforce Aviation</td>\n",
       "      <td>01tep000002Neq1AAC</td>\n",
       "      <td>750ep000003EIZdAAO</td>\n",
       "    </tr>\n",
       "    <tr>\n",
       "      <th>1</th>\n",
       "      <td>01tep000002NeqXAAS</td>\n",
       "      <td>False</td>\n",
       "      <td>Salesforce Aviation</td>\n",
       "      <td>01tep000002NeqXAAS</td>\n",
       "      <td>750ep000003EIZdAAO</td>\n",
       "    </tr>\n",
       "    <tr>\n",
       "      <th>2</th>\n",
       "      <td>01tep000002NeqZAAS</td>\n",
       "      <td>False</td>\n",
       "      <td>Salesforce Aviation</td>\n",
       "      <td>01tep000002NeqZAAS</td>\n",
       "      <td>750ep000003EIZdAAO</td>\n",
       "    </tr>\n",
       "  </tbody>\n",
       "</table>\n",
       "</div>"
      ],
      "text/plain": [
       "               sf__Id  sf__Created Manufacturer_Name__c                  Id  \\\n",
       "0  01tep000002Neq1AAC        False  Salesforce Aviation  01tep000002Neq1AAC   \n",
       "1  01tep000002NeqXAAS        False  Salesforce Aviation  01tep000002NeqXAAS   \n",
       "2  01tep000002NeqZAAS        False  Salesforce Aviation  01tep000002NeqZAAS   \n",
       "\n",
       "               job_id  \n",
       "0  750ep000003EIZdAAO  \n",
       "1  750ep000003EIZdAAO  \n",
       "2  750ep000003EIZdAAO  "
      ]
     },
     "metadata": {},
     "output_type": "display_data"
    },
    {
     "name": "stdout",
     "output_type": "stream",
     "text": [
      "Total records failed: 0\n"
     ]
    },
    {
     "data": {
      "text/html": [
       "<div>\n",
       "<style scoped>\n",
       "    .dataframe tbody tr th:only-of-type {\n",
       "        vertical-align: middle;\n",
       "    }\n",
       "\n",
       "    .dataframe tbody tr th {\n",
       "        vertical-align: top;\n",
       "    }\n",
       "\n",
       "    .dataframe thead th {\n",
       "        text-align: right;\n",
       "    }\n",
       "</style>\n",
       "<table border=\"1\" class=\"dataframe\">\n",
       "  <thead>\n",
       "    <tr style=\"text-align: right;\">\n",
       "      <th></th>\n",
       "      <th>sf__Id</th>\n",
       "      <th>sf__Error</th>\n",
       "      <th>Manufacturer_Name__c</th>\n",
       "      <th>Id</th>\n",
       "      <th>job_id</th>\n",
       "    </tr>\n",
       "  </thead>\n",
       "  <tbody>\n",
       "  </tbody>\n",
       "</table>\n",
       "</div>"
      ],
      "text/plain": [
       "Empty DataFrame\n",
       "Columns: [sf__Id, sf__Error, Manufacturer_Name__c, Id, job_id]\n",
       "Index: []"
      ]
     },
     "metadata": {},
     "output_type": "display_data"
    }
   ],
   "source": [
    "#convert the DataFrame to a list of dictionaries\n",
    "#update the records based on the salesforce Id\n",
    "records = df.to_dict(orient='records')\n",
    "result = sf.bulk2.Product2.update(records=records)\n",
    "print(result)\n",
    "\n",
    "success, fail = get_bulk2_results(result)\n",
    "print(f\"Total records inserted: {len(success)}\")\n",
    "display(success.head(3))\n",
    "print(f\"Total records failed: {len(fail)}\")\n",
    "display(fail.head(3))"
   ]
  },
  {
   "cell_type": "markdown",
   "id": "7c39764f",
   "metadata": {},
   "source": [
    "## Get Data\n"
   ]
  },
  {
   "cell_type": "markdown",
   "id": "420d5518",
   "metadata": {},
   "source": [
    "### Download"
   ]
  },
  {
   "cell_type": "code",
   "execution_count": 187,
   "id": "4622a901",
   "metadata": {},
   "outputs": [
    {
     "data": {
      "text/plain": [
       "[{'locator': '',\n",
       "  'number_of_records': 1405,\n",
       "  'file': 'c:\\\\Users\\\\JackMcHugh\\\\Documents\\\\BuckeyeDreaminDemo\\\\datasets\\\\tmp5bni7sqq.csv'}]"
      ]
     },
     "execution_count": 187,
     "metadata": {},
     "output_type": "execute_result"
    }
   ],
   "source": [
    "soql_query = \"\"\"\n",
    "SELECT Name, Manufacturer_Name__c, inscor__Keyword__c, BD_ExternalId__c\n",
    "FROM Product2\n",
    "WHERE Manufacturer_Name__c = 'Salesforce Aviation'\n",
    "\"\"\"\n",
    "#there is another option to download this into a memory object, but this is easier.\n",
    "sf.bulk2.Account.download(\n",
    "    soql_query, path='../datasets', max_records=200000,\n",
    ")\n"
   ]
  },
  {
   "cell_type": "markdown",
   "id": "94ff10a7",
   "metadata": {},
   "source": [
    "### Query"
   ]
  },
  {
   "cell_type": "code",
   "execution_count": null,
   "id": "d200cf15",
   "metadata": {},
   "outputs": [],
   "source": [
    "#This has a bug as well going to be working on a PR, but for now we can use the download method\n",
    "\n",
    "results = sf.bulk2.Account.query(\n",
    "    soql_query, max_records=50000, column_delimiter=\"COMM\", line_ending=\"LF\"\n",
    ")\n",
    "for i, data in enumerate(results):\n",
    "    with open(f\"../datasets/query-{1}.csv\", \"w\") as bos:\n",
    "        bos.write(data)\n",
    "        \n",
    "df_result = pd.read_csv(f\"../datasets/query-1.csv\")"
   ]
  },
  {
   "cell_type": "markdown",
   "id": "a74924b7",
   "metadata": {},
   "source": [
    "## Delete & Hard Delete"
   ]
  },
  {
   "cell_type": "code",
   "execution_count": 199,
   "id": "bc1cfc68",
   "metadata": {},
   "outputs": [
    {
     "data": {
      "application/vnd.jupyter.widget-view+json": {
       "model_id": "2fc4eef2ed304bafadc403b6b14c6edf",
       "version_major": 2,
       "version_minor": 0
      },
      "text/plain": [
       "Button(button_style='danger', description='Confirm Hard Delete', style=ButtonStyle())"
      ]
     },
     "metadata": {},
     "output_type": "display_data"
    },
    {
     "name": "stdout",
     "output_type": "stream",
     "text": [
      "Running hard delete...\n"
     ]
    }
   ],
   "source": [
    "success = pd.read_csv('../datasets/success_parts.csv')\n",
    "success = success.rename(columns={'sf__Id': 'Id'})\n",
    "csv_path = '../datasets/delete_ids.csv'\n",
    "success[['Id']].to_csv(csv_path, index=False)\n",
    "\n",
    "button = widgets.Button(description='Confirm Hard Delete', button_style='danger')\n",
    "\n",
    "def on_button_click(b):\n",
    "    print('Running hard delete...')\n",
    "    #result = sf.bulk2.Product2.hard_delete(csv_file=csv_path) for normal delete you can simply change the method to delete\n",
    "    result = sf.bulk2.Product2.hard_delete(csv_file=csv_path)\n",
    "    print('Done:', result)\n",
    "\n",
    "button.on_click(on_button_click)\n",
    "display(button)\n",
    "\n",
    "#Write to CSV in ../dataset — required because simple-salesforce hard_delete asserts csv_file is not None\n",
    "#Even though records= is accepted, it's not respected internally though a downstream assertion that csv_file is not None for delete operations.\n",
    "#I'm working on a PR to fix this bug in the simple-salesforce repo\n",
    "#If you are doing hard delete you will to enable that permission in your profile, do not be silly with that permission"
   ]
  },
  {
   "cell_type": "markdown",
   "id": "545adbf0",
   "metadata": {},
   "source": [
    "show dynamic get attr\n",
    "show wait function"
   ]
  }
 ],
 "metadata": {
  "kernelspec": {
   "display_name": "BuckeyeDreaminDemo-UmNsEV2x",
   "language": "python",
   "name": "python3"
  },
  "language_info": {
   "codemirror_mode": {
    "name": "ipython",
    "version": 3
   },
   "file_extension": ".py",
   "mimetype": "text/x-python",
   "name": "python",
   "nbconvert_exporter": "python",
   "pygments_lexer": "ipython3",
   "version": "3.13.2"
  }
 },
 "nbformat": 4,
 "nbformat_minor": 5
}
