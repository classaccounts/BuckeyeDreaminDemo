{
 "cells": [
  {
   "cell_type": "markdown",
   "id": "cc6e6079",
   "metadata": {},
   "source": [
    "# Bulk Operations\n",
    "\n",
    "In this example, we will look at bulk operations using simple saleforce"
   ]
  },
  {
   "cell_type": "markdown",
   "id": "33c07abe",
   "metadata": {},
   "source": [
    "## Imports"
   ]
  },
  {
   "cell_type": "code",
   "execution_count": 67,
   "id": "393018ef",
   "metadata": {},
   "outputs": [
    {
     "data": {
      "text/plain": [
       "True"
      ]
     },
     "execution_count": 67,
     "metadata": {},
     "output_type": "execute_result"
    }
   ],
   "source": [
    "import pandas as pd\n",
    "from simple_salesforce import Salesforce\n",
    "import os\n",
    "import io\n",
    "from dotenv import load_dotenv\n",
    "import ipywidgets as widgets\n",
    "from IPython.display import display\n",
    "\n",
    "load_dotenv()\n"
   ]
  },
  {
   "cell_type": "markdown",
   "id": "7dd80dd7",
   "metadata": {},
   "source": [
    "## Authenticate"
   ]
  },
  {
   "cell_type": "markdown",
   "id": "64da125b",
   "metadata": {},
   "source": [
    "Always store your credentials in environment variables, and always use a service account.\n",
    "\n",
    "The `simple-salesforce` library supports multiple authentication methods:\n",
    "\n",
    "- Username, password, and security token  \n",
    "- Session ID and instance URL  \n",
    "- OAuth 2.0 (JWT, web flow, or refresh token)  \n",
    "- Connected App credentials (via external libraries) "
   ]
  },
  {
   "cell_type": "code",
   "execution_count": null,
   "id": "c7a3b756",
   "metadata": {},
   "outputs": [],
   "source": [
    "\n",
    "sf_domain = os.getenv('sf_domain')\n",
    "sf_username = os.getenv('sf_username')\n",
    "sf_password = os.getenv('sf_password')\n",
    "sf_token = os.getenv('sf_token')\n",
    "\n",
    "\n",
    "sf = Salesforce(\n",
    "    username=sf_username,\n",
    "    password=sf_password,\n",
    "    security_token=sf_token,\n",
    "    domain=sf_domain\n",
    "   \n",
    ")"
   ]
  },
  {
   "cell_type": "markdown",
   "id": "e5f6d771",
   "metadata": {},
   "source": [
    "## Prepare Data"
   ]
  },
  {
   "cell_type": "markdown",
   "id": "a949cfda",
   "metadata": {},
   "source": [
    "### Load Data"
   ]
  },
  {
   "cell_type": "code",
   "execution_count": null,
   "id": "6c6ea81c",
   "metadata": {},
   "outputs": [],
   "source": [
    "df = pd.read_csv('../datasets/parts.csv')\n",
    "df.sample(5)"
   ]
  },
  {
   "cell_type": "markdown",
   "id": "af164067",
   "metadata": {},
   "source": [
    "###  Clean Data"
   ]
  },
  {
   "cell_type": "code",
   "execution_count": null,
   "id": "54b5eaa6",
   "metadata": {},
   "outputs": [],
   "source": [
    "#drop duplicate part numbers\n",
    "df = df.drop_duplicates(subset='Part Number')"
   ]
  },
  {
   "cell_type": "code",
   "execution_count": null,
   "id": "3a5be9e0",
   "metadata": {},
   "outputs": [],
   "source": [
    "#rename columns to match Salesforce field names\n",
    "df = df.rename(columns= {\n",
    "    'Part Number': 'Name',\n",
    "    'Manufacturer': 'Manufacturer_Name__c',\n",
    "    'Description': 'inscor__Keyword__c',\n",
    "    'External Id': 'ExternalId__c'\n",
    "})\n",
    "df.sample(1)"
   ]
  },
  {
   "cell_type": "markdown",
   "id": "91a8eee5",
   "metadata": {},
   "source": [
    "## Bulk API Operations"
   ]
  },
  {
   "cell_type": "markdown",
   "id": "11424e04",
   "metadata": {},
   "source": [
    "### Common Functions\n"
   ]
  },
  {
   "cell_type": "code",
   "execution_count": null,
   "id": "8c4b80c5",
   "metadata": {},
   "outputs": [],
   "source": [
    "def get_bulk2_results(result):\n",
    "    combined_failed = pd.DataFrame()\n",
    "    combined_success = pd.DataFrame()\n",
    "    \n",
    "    for job in result:\n",
    "        job_id = job['job_id']\n",
    "        failed = sf.bulk2.Product2.get_failed_records(job_id)\n",
    "        success = sf.bulk2.Product2.get_successful_records(job_id)\n",
    "        \n",
    "        #since the results are returned as CSV strings, we need to convert them to DataFrames\n",
    "        success = pd.read_csv(io.StringIO(success))\n",
    "        failed = pd.read_csv(io.StringIO(failed))\n",
    "        \n",
    "        failed['job_id'] = job_id\n",
    "        success['job_id'] = job_id\n",
    "        \n",
    "        combined_failed = pd.concat([combined_failed, failed], ignore_index=True)\n",
    "        combined_success = pd.concat([combined_success, success], ignore_index=True)\n",
    "        \n",
    "        \n",
    "        return combined_success, combined_failed"
   ]
  },
  {
   "cell_type": "markdown",
   "id": "01953273",
   "metadata": {},
   "source": [
    "### Insert"
   ]
  },
  {
   "cell_type": "code",
   "execution_count": 65,
   "id": "fba5bae3",
   "metadata": {},
   "outputs": [
    {
     "name": "stdout",
     "output_type": "stream",
     "text": [
      "[{'numberRecordsFailed': 0, 'numberRecordsProcessed': 7070, 'numberRecordsTotal': 7070, 'job_id': '750ep000003DkzNAAS'}]\n"
     ]
    }
   ],
   "source": [
    "records=df.to_dict(orient='records')\n",
    "result = sf.bulk2.Product2.insert(records=records, concurrency=10)\n",
    "print(result)"
   ]
  },
  {
   "cell_type": "code",
   "execution_count": 68,
   "id": "bc1cfc68",
   "metadata": {},
   "outputs": [
    {
     "data": {
      "application/vnd.jupyter.widget-view+json": {
       "model_id": "3855f77ea1684dc1b585d27d8a88f850",
       "version_major": 2,
       "version_minor": 0
      },
      "text/plain": [
       "Button(button_style='danger', description='Confirm Hard Delete', style=ButtonStyle())"
      ]
     },
     "metadata": {},
     "output_type": "display_data"
    },
    {
     "name": "stdout",
     "output_type": "stream",
     "text": [
      "Running hard delete...\n",
      "Done: [{'numberRecordsFailed': 0, 'numberRecordsProcessed': 7070, 'numberRecordsTotal': 7070, 'job_id': '750ep000003DlNaAAK'}]\n"
     ]
    }
   ],
   "source": [
    "import ipywidgets as widgets\n",
    "from IPython.display import display\n",
    "\n",
    "success = success.rename(columns={'sf__Id': 'Id'})\n",
    "csv_path = '../datasets/delete_ids.csv'\n",
    "success[['Id']].to_csv(csv_path, index=False)\n",
    "\n",
    "button = widgets.Button(description='Confirm Hard Delete', button_style='danger')\n",
    "\n",
    "def on_button_click(b):\n",
    "    print('Running hard delete...')\n",
    "    result = sf.bulk2.Product2.hard_delete(csv_file=csv_path)\n",
    "    print('Done:', result)\n",
    "\n",
    "button.on_click(on_button_click)\n",
    "display(button)\n",
    "\n",
    "#Write to CSV in ../dataset — required because simple-salesforce hard_delete asserts csv_file is not None\n",
    "#Even though records= is accepted, it's not respected internally though a downstream assertion that csv_file is not None for delete operations.\n",
    "#I'm working on a PR to fix this bug in the simple-salesforce repo\n",
    "#If you are doing hard delete you will to enable that permission in your profile, do not be silly with that permission"
   ]
  },
  {
   "cell_type": "code",
   "execution_count": null,
   "id": "9a928f05",
   "metadata": {},
   "outputs": [],
   "source": [
    "success = success.rename(\n",
    "    columns = {'sf__Id': 'Id'}\n",
    ")\n",
    "csv_path = '../datasets/delete_ids.csv'\n",
    "success[['Id']].to_csv(csv_path, index=False)\n",
    "sf.bulk2.Product2.hard_delete(csv_file=csv_path)"
   ]
  },
  {
   "cell_type": "markdown",
   "id": "545adbf0",
   "metadata": {},
   "source": [
    "show dynamic get attr\n",
    "show wait function"
   ]
  }
 ],
 "metadata": {
  "kernelspec": {
   "display_name": "BuckeyeDreaminDemo-UmNsEV2x",
   "language": "python",
   "name": "python3"
  },
  "language_info": {
   "codemirror_mode": {
    "name": "ipython",
    "version": 3
   },
   "file_extension": ".py",
   "mimetype": "text/x-python",
   "name": "python",
   "nbconvert_exporter": "python",
   "pygments_lexer": "ipython3",
   "version": "3.13.2"
  }
 },
 "nbformat": 4,
 "nbformat_minor": 5
}
