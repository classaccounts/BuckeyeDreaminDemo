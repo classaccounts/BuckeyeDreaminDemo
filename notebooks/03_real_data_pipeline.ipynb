{
 "cells": [
  {
   "cell_type": "markdown",
   "id": "b67e36fc",
   "metadata": {},
   "source": [
    "# Bid Winner\n",
    "add explantation in getting messy data to the salesforce ecosystem"
   ]
  },
  {
   "cell_type": "markdown",
   "id": "d6d09de1",
   "metadata": {},
   "source": [
    "All data contained in this repository, as well as any information queried or conveyed through its use, is publicly accessible and readily available on the internet. No proprietary, confidential, or restricted data is included or utilized."
   ]
  },
  {
   "cell_type": "markdown",
   "id": "c6df15c0",
   "metadata": {},
   "source": [
    "## Imports\n",
    "and some configuration"
   ]
  },
  {
   "cell_type": "code",
   "execution_count": null,
   "id": "daf9ba1c",
   "metadata": {},
   "outputs": [],
   "source": [
    "import sys\n",
    "sys.path.insert(0, '../scripts')\n",
    "from govspend_search import GoveSpendSearch\n",
    "from rfp_parser import RFPParse\n",
    "from flis_search import FlisSearch\n",
    "from parts_base import PartsBase\n",
    "import pandas as pd\n",
    "import os\n",
    "\n",
    "search_id = \"679aba32c9c299c7b31ade4f\"\n",
    "PATH_TO_DLL = \"C:\\\\Users\\\\jackmchugh\\\\Downloads\\\\PublogDVD\\\\TOOLS\\\\MS12\\\\DecompDl64.dll\"\n",
    "PATH_TO_FEDLOG = \"C:\\\\Users\\\\jackmchugh\\\\Downloads\\\\PublogDVD\"\n",
    "\n",
    "output_dir = \"./output_files\"\n",
    "os.makedirs(output_dir, exist_ok=True)\n",
    "output_file = os.path.join(output_dir, \"target_list.csv\")\n",
    "output_manufacturer_file = os.path.join(output_dir, \"manufacturer_information.csv\")\n"
   ]
  },
  {
   "cell_type": "markdown",
   "id": "c20bdc1a",
   "metadata": {},
   "source": [
    "## Helper Classes"
   ]
  },
  {
   "cell_type": "code",
   "execution_count": 5,
   "id": "527d5386",
   "metadata": {},
   "outputs": [
    {
     "ename": "FileNotFoundError",
     "evalue": "Could not find module 'C:\\Users\\jmchugh\\Downloads\\PublogDVD\\TOOLS\\MS12\\DecompDl64.dll' (or one of its dependencies). Try using the full path with constructor syntax.",
     "output_type": "error",
     "traceback": [
      "\u001b[31m---------------------------------------------------------------------------\u001b[39m",
      "\u001b[31mFileNotFoundError\u001b[39m                         Traceback (most recent call last)",
      "\u001b[36mCell\u001b[39m\u001b[36m \u001b[39m\u001b[32mIn[5]\u001b[39m\u001b[32m, line 3\u001b[39m\n\u001b[32m      1\u001b[39m pb = PartsBase()\n\u001b[32m      2\u001b[39m govspend = GoveSpendSearch()\n\u001b[32m----> \u001b[39m\u001b[32m3\u001b[39m flis = \u001b[43mFlisSearch\u001b[49m\u001b[43m(\u001b[49m\u001b[43mpath_to_dll\u001b[49m\u001b[43m=\u001b[49m\u001b[43mPATH_TO_DLL\u001b[49m\u001b[43m,\u001b[49m\u001b[43m \u001b[49m\u001b[43mpath_to_fedlog\u001b[49m\u001b[43m=\u001b[49m\u001b[43mPATH_TO_FEDLOG\u001b[49m\u001b[43m)\u001b[49m\n\u001b[32m      4\u001b[39m rfp_parser = RFPParse()\n",
      "\u001b[36mFile \u001b[39m\u001b[32mc:\\Users\\JackMcHugh\\Documents\\BuckeyeDreaminDemo\\notebooks\\../scripts\\flis_search.py:10\u001b[39m, in \u001b[36mFlisSearch.__init__\u001b[39m\u001b[34m(self, path_to_dll, path_to_fedlog, max_size)\u001b[39m\n\u001b[32m      8\u001b[39m \u001b[38;5;28mself\u001b[39m.path_to_fedlog = path_to_fedlog\n\u001b[32m      9\u001b[39m \u001b[38;5;28mself\u001b[39m.max_size = max_size\n\u001b[32m---> \u001b[39m\u001b[32m10\u001b[39m \u001b[38;5;28mself\u001b[39m.dll = \u001b[43mCDLL\u001b[49m\u001b[43m(\u001b[49m\u001b[38;5;28;43mself\u001b[39;49m\u001b[43m.\u001b[49m\u001b[43mpath_to_dll\u001b[49m\u001b[43m)\u001b[49m\n\u001b[32m     11\u001b[39m \u001b[38;5;28mself\u001b[39m.path = c_char_p(\u001b[38;5;28mbytes\u001b[39m(\u001b[38;5;28mself\u001b[39m.path_to_fedlog, encoding=\u001b[33m'\u001b[39m\u001b[33mutf-8\u001b[39m\u001b[33m'\u001b[39m))\n\u001b[32m     12\u001b[39m \u001b[38;5;28mself\u001b[39m.data = create_string_buffer(\u001b[38;5;28mself\u001b[39m.max_size)\n",
      "\u001b[36mFile \u001b[39m\u001b[32m~\\AppData\\Local\\Programs\\Python\\Python313\\Lib\\ctypes\\__init__.py:390\u001b[39m, in \u001b[36mCDLL.__init__\u001b[39m\u001b[34m(self, name, mode, handle, use_errno, use_last_error, winmode)\u001b[39m\n\u001b[32m    387\u001b[39m \u001b[38;5;28mself\u001b[39m._FuncPtr = _FuncPtr\n\u001b[32m    389\u001b[39m \u001b[38;5;28;01mif\u001b[39;00m handle \u001b[38;5;129;01mis\u001b[39;00m \u001b[38;5;28;01mNone\u001b[39;00m:\n\u001b[32m--> \u001b[39m\u001b[32m390\u001b[39m     \u001b[38;5;28mself\u001b[39m._handle = \u001b[43m_dlopen\u001b[49m\u001b[43m(\u001b[49m\u001b[38;5;28;43mself\u001b[39;49m\u001b[43m.\u001b[49m\u001b[43m_name\u001b[49m\u001b[43m,\u001b[49m\u001b[43m \u001b[49m\u001b[43mmode\u001b[49m\u001b[43m)\u001b[49m\n\u001b[32m    391\u001b[39m \u001b[38;5;28;01melse\u001b[39;00m:\n\u001b[32m    392\u001b[39m     \u001b[38;5;28mself\u001b[39m._handle = handle\n",
      "\u001b[31mFileNotFoundError\u001b[39m: Could not find module 'C:\\Users\\jmchugh\\Downloads\\PublogDVD\\TOOLS\\MS12\\DecompDl64.dll' (or one of its dependencies). Try using the full path with constructor syntax."
     ]
    }
   ],
   "source": [
    "pb = PartsBase()\n",
    "govspend = GoveSpendSearch()\n",
    "flis = FlisSearch(path_to_dll=PATH_TO_DLL, path_to_fedlog=PATH_TO_FEDLOG)\n",
    "rfp_parser = RFPParse()"
   ]
  },
  {
   "cell_type": "markdown",
   "id": "0385ba44",
   "metadata": {},
   "source": [
    "## Process Data"
   ]
  },
  {
   "cell_type": "markdown",
   "id": "bc08d8d3",
   "metadata": {},
   "source": [
    "### Run GovSpend Search"
   ]
  },
  {
   "cell_type": "code",
   "execution_count": null,
   "id": "b3bdac15",
   "metadata": {},
   "outputs": [],
   "source": [
    "govspend_result = govspend.search(search_id)\n",
    "combined_result_list = []\n",
    "manufacturer_result_list = []"
   ]
  },
  {
   "cell_type": "markdown",
   "id": "c8b418df",
   "metadata": {},
   "source": [
    "### Process Bids"
   ]
  },
  {
   "cell_type": "code",
   "execution_count": null,
   "id": "9937228c",
   "metadata": {},
   "outputs": [],
   "source": [
    "count = 0\n",
    "\n",
    "for bid in govspend_result['result']:\n",
    "    parse_result = rfp_parser.parse_rfp(bid['description'])\n",
    "    flis_result = flis.get_part_number_and_description(parse_result[\"niin\"])\n",
    "\n",
    "    ref_pn = (\n",
    "        parse_result.get(\"part_number\", \"\").strip()\n",
    "        or flis_result.get(\"part_number\", \"\").split(\",\")[0].strip()\n",
    "        or \"NO PART NUMBER\"\n",
    "    )\n",
    "\n",
    "    num_pb_results = pb.get_live_qty(ref_pn)\n",
    "\n",
    "    result = {\n",
    "        \"bid_number\": bid[\"bidNumber\"],\n",
    "        \"ref_pn\": ref_pn,\n",
    "        \"parse_desc\": parse_result[\"description\"],\n",
    "        \"qty_requested\": parse_result[\"quantity\"],\n",
    "        \"num_qty_on_pb\": num_pb_results,\n",
    "        \"approved_source\": parse_result[\"approved_source\"],\n",
    "        \"lead_time\": parse_result[\"lead_time\"],\n",
    "        \"incumbent\": parse_result[\"incumbent\"],\n",
    "        \"multiple_award\": parse_result[\"multiple_award\"],\n",
    "        \"approved_source_codes\": parse_result[\"approved_source_codes\"],\n",
    "        \"date_create\": bid[\"postedDate\"],\n",
    "        \"date_due\": bid[\"dueDate\"],\n",
    "        \"psc_code\": bid[\"PSCCode\"],\n",
    "        \"set_aside\": bid[\"setAside\"],\n",
    "        \"NSN\": parse_result[\"nsn\"],\n",
    "        \"flis_pn\": flis_result[\"part_number\"],\n",
    "        \"parse_pn\": parse_result[\"part_number\"],\n",
    "        \"flis_desc\": parse_result[\"description\"]\n",
    "    }\n",
    "\n",
    "    print(result)\n",
    "    count += 1\n",
    "    print(f\"Number of BIDs processed\", count)\n",
    "    combined_result_list.append(result)\n",
    "\n",
    "    manufacturer_data = flis.get_cage_codes_and_pricing(parse_result[\"niin\"])\n",
    "    if not manufacturer_data.empty:\n",
    "        manufacturer_result_list.append(manufacturer_data)"
   ]
  },
  {
   "cell_type": "markdown",
   "id": "4c5bad25",
   "metadata": {},
   "source": [
    "### Save the Results"
   ]
  },
  {
   "cell_type": "code",
   "execution_count": null,
   "id": "83a7b818",
   "metadata": {},
   "outputs": [],
   "source": [
    "df = pd.DataFrame(combined_result_list)\n",
    "df.to_csv(output_file, index=False)\n",
    "print(f\"Data saved to {output_file}\")\n",
    "\n",
    "if manufacturer_result_list:\n",
    "    df_manufacturer = pd.concat(manufacturer_result_list, ignore_index=True)\n",
    "    df_manufacturer.to_csv(output_manufacturer_file, index=False)\n",
    "    print(f\"Manufacturer data saved to {output_manufacturer_file}\")"
   ]
  }
 ],
 "metadata": {
  "kernelspec": {
   "display_name": "BuckeyeDreaminDemo-UmNsEV2x",
   "language": "python",
   "name": "python3"
  },
  "language_info": {
   "codemirror_mode": {
    "name": "ipython",
    "version": 3
   },
   "file_extension": ".py",
   "mimetype": "text/x-python",
   "name": "python",
   "nbconvert_exporter": "python",
   "pygments_lexer": "ipython3",
   "version": "3.13.2"
  }
 },
 "nbformat": 4,
 "nbformat_minor": 5
}
