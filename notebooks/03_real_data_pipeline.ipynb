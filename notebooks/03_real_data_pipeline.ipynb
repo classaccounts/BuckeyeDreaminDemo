{
 "cells": [
  {
   "cell_type": "markdown",
   "id": "b67e36fc",
   "metadata": {},
   "source": [
    "# Bid Winner\n",
    "add explantation in getting messy data to the salesforce ecosystem"
   ]
  }
 ],
 "metadata": {
  "language_info": {
   "name": "python"
  }
 },
 "nbformat": 4,
 "nbformat_minor": 5
}
