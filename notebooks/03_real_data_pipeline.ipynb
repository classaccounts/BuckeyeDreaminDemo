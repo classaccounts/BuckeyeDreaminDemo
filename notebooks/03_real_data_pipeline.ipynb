{
 "cells": [
  {
   "cell_type": "markdown",
   "id": "b67e36fc",
   "metadata": {},
   "source": [
    "# Bid Winner"
   ]
  },
  {
   "cell_type": "markdown",
   "id": "d6d09de1",
   "metadata": {},
   "source": [
    "All data contained in this repository, as well as any information queried or conveyed through its use, is publicly accessible and readily available on the internet. No proprietary, confidential, or restricted data is included or utilized.\n",
    "\n",
    "This concept was created in my free time and is not used at my employer (toy project)."
   ]
  },
  {
   "cell_type": "markdown",
   "id": "97f891ef",
   "metadata": {},
   "source": [
    "## The Process"
   ]
  },
  {
   "cell_type": "markdown",
   "id": "eeb69e8c",
   "metadata": {},
   "source": [
    "### Problem Statement"
   ]
  },
  {
   "cell_type": "markdown",
   "id": "077ab971",
   "metadata": {},
   "source": [
    "As a commercial aircraft parts distributor, your team relies on Salesforce to issue thousands of quotes daily, tapping into live inventory, consignment stock, and distributor agreements. But now that your company is entering government contracting, you are faced with a flood of bids from platforms like SAM.gov, each requiring manual cross-referencing with sources like PubLog FLIS, PartsBase, and parsed bid documents. Your quoting process depends on starting in Salesforce, where all critical data lives, but instead, teams are scraping external platforms, tracking bids in spreadsheets, and asking to embed Excel into Salesforce just to keep up. This not only breaks your data model, it threatens to shift your quoting process outside of Salesforce entirely. Without a way to bring this external data into Salesforce natively and efficiently, your team risks building shadow systems that cannot scale, are not secure, and undermine the very CRM you are investing in.\n",
    "\n",
    "Do not let hard-to-reach data sources become the reason your process breaks down or slips outside the system designed to manage it."
   ]
  },
  {
   "cell_type": "markdown",
   "id": "15af6b5d",
   "metadata": {},
   "source": [
    "### Data Flow\n",
    "\n",
    "#### Find Bids\n",
    "\n",
    "<img src=\"../images/sam.png\" alt=\"SAM.gov Screenshot\" width=\"400\"/>\n",
    "\n",
    "Bids from the Defense Logistics Agency are published on DIBBS and SAM.gov, requiring employees to manually filter through them to find aircraft parts they can procure. The process involves time-consuming sorting, digging through unstructured PDF documents, and interpreting vague or inconsistent descriptions of the required parts, all done outside of Salesforce.\n",
    "\n",
    "#### Cross Reference on Publog Flis\n",
    "\n",
    "<img src=\"../images/publog.png\" alt=\"SAM.gov Screenshot\" width=\"400\"/>\n",
    "\n",
    "Some bids only provide the NIIN, while distributors typically identify parts using the part number and manufacturer. This forces the team to manually cross-reference the public Federal Logistics Information System (PubLogFLIS) to find the corresponding part number, CAGE code, and other critical sourcing details. This application is older than I am.\n",
    "\n",
    "#### (Optional) Cross Reference on Marketplace\n",
    "\n",
    "If the part is not currently in inventory but has been sourced previously, your team can reference industry marketplaces to verify availability and gather supporting data.\n",
    "\n",
    "#### Move to Source of Record (Saleforce)\n",
    "\n",
    "Once all of this data is compiled, the team currently manages it in manual spreadsheets due to the volume and complexity of information. But to maintain consistency, visibility, and scalability, it needs to live in Salesforce as the system of record."
   ]
  },
  {
   "cell_type": "markdown",
   "id": "b91505e4",
   "metadata": {},
   "source": [
    "### Applicable Techniques to Any Pipeline\n",
    "1. Using chatgpt to parse untructured data and get structued data in return.\n",
    "2. Using Python to access any hard to reach data source and web APIs\n",
    "3. Using the simple salesforce library to upload data into salesforce."
   ]
  },
  {
   "cell_type": "markdown",
   "id": "c6df15c0",
   "metadata": {},
   "source": [
    "## Imports\n",
    "and some configuration"
   ]
  },
  {
   "cell_type": "code",
   "execution_count": 187,
   "id": "daf9ba1c",
   "metadata": {},
   "outputs": [],
   "source": [
    "import sys\n",
    "sys.path.insert(0, '../scripts')\n",
    "from govspend_search import GoveSpendSearch\n",
    "from rfp_parser import RFPParse\n",
    "from flis_search import FlisSearch\n",
    "from parts_base import PartsBase\n",
    "from simple_salesforce import Salesforce\n",
    "import pandas as pd\n",
    "import os\n",
    "from dotenv import load_dotenv\n",
    "import io\n",
    "from datetime import datetime, timezone\n",
    "load_dotenv()\n",
    "\n",
    "search_id = \"679aba32c9c299c7b31ade4f\"\n",
    "PATH_TO_DLL = \"C:\\\\Users\\\\jackmchugh\\\\Downloads\\\\PublogDVD\\\\TOOLS\\\\MS12\\\\DecompDl64.dll\"\n",
    "PATH_TO_FEDLOG = \"C:\\\\Users\\\\jackmchugh\\\\Downloads\\\\PublogDVD\"\n",
    "\n",
    "output_dir = \"../datasets/demo_output/\"\n",
    "os.makedirs(output_dir, exist_ok=True)\n",
    "output_file = os.path.join(output_dir, \"target_list.csv\")\n",
    "output_manufacturer_file = os.path.join(output_dir, \"manufacturer_information.csv\")\n"
   ]
  },
  {
   "cell_type": "markdown",
   "id": "c20bdc1a",
   "metadata": {},
   "source": [
    "## Helper Classes/Methods"
   ]
  },
  {
   "cell_type": "markdown",
   "id": "558a6fc3",
   "metadata": {},
   "source": [
    "- **pb = PartsBase()**  \n",
    "    Instantiates the PartsBase helper, which is used to query live inventory and availability from the PartsBase marketplace API.  \n",
    "    This allows you to check if a part is available in the broader industry, supplementing your Salesforce product data.\n",
    "\n",
    "- **govspend = GoveSpendSearch()**  \n",
    "    Instantiates the GoveSpendSearch helper, which is used to search and retrieve government bid opportunities from platforms like SAM.gov.  \n",
    "    This enables automated ingestion of bid data that would otherwise require manual entry or scraping.\n",
    "\n",
    "- **flis = FlisSearch(path_to_dll=PATH_TO_DLL, path_to_fedlog=PATH_TO_FEDLOG)**  \n",
    "    Instantiates the FlisSearch helper, which wraps access to the Federal Logistics Information System (FLIS) data.  \n",
    "    It uses a DLL to parse the official government FLIS DVD, allowing you to cross-reference NIINs/NSNs to part numbers and manufacturers, which is critical for mapping government data to your Salesforce product catalog.\n",
    "\n",
    "- **rfp_parser = RFPParse()**  \n",
    "    Instantiates the RFPParse helper, which uses AI/NLP to extract structured data (like part numbers, quantities, and requirements) from unstructured bid descriptions or PDF documents.  \n",
    "    This automates the process of turning raw government bid text into Salesforce-ready data fields.\n"
   ]
  },
  {
   "cell_type": "code",
   "execution_count": 188,
   "id": "527d5386",
   "metadata": {},
   "outputs": [],
   "source": [
    "pb = PartsBase()\n",
    "govspend = GoveSpendSearch()\n",
    "flis = FlisSearch(path_to_dll=PATH_TO_DLL, path_to_fedlog=PATH_TO_FEDLOG)\n",
    "rfp_parser = RFPParse()"
   ]
  },
  {
   "cell_type": "markdown",
   "id": "de592a39",
   "metadata": {},
   "source": [
    "Authenticate to Salesforce"
   ]
  },
  {
   "cell_type": "code",
   "execution_count": 189,
   "id": "247d3554",
   "metadata": {},
   "outputs": [],
   "source": [
    "\n",
    "sf_domain = os.getenv('sf_domain')\n",
    "sf_username = os.getenv('sf_username')\n",
    "sf_password = os.getenv('sf_password')\n",
    "sf_token = os.getenv('sf_token')\n",
    "\n",
    "\n",
    "sf = Salesforce(\n",
    "    username=sf_username,\n",
    "    password=sf_password,\n",
    "    security_token=sf_token,\n",
    "    domain=sf_domain\n",
    "   \n",
    ")"
   ]
  },
  {
   "cell_type": "markdown",
   "id": "868afafe",
   "metadata": {},
   "source": [
    "Common method to get results from the Bulk2 API, we used this in the previous notebook."
   ]
  },
  {
   "cell_type": "code",
   "execution_count": 190,
   "id": "f598f9b4",
   "metadata": {},
   "outputs": [],
   "source": [
    "def get_bulk2_results(result):\n",
    "    combined_failed = pd.DataFrame()\n",
    "    combined_success = pd.DataFrame()\n",
    "    \n",
    "    for job in result:\n",
    "        job_id = job['job_id']\n",
    "        failed = sf.bulk2.Product2.get_failed_records(job_id)\n",
    "        success = sf.bulk2.Product2.get_successful_records(job_id)\n",
    "        \n",
    "        #since the results are returned as CSV strings, we need to convert them to DataFrames\n",
    "        success = pd.read_csv(io.StringIO(success))\n",
    "        failed = pd.read_csv(io.StringIO(failed))\n",
    "        \n",
    "        failed['job_id'] = job_id\n",
    "        success['job_id'] = job_id\n",
    "        \n",
    "        combined_failed = pd.concat([combined_failed, failed], ignore_index=True)\n",
    "        combined_success = pd.concat([combined_success, success], ignore_index=True)\n",
    "        \n",
    "        \n",
    "        return combined_success, combined_failed"
   ]
  },
  {
   "cell_type": "markdown",
   "id": "0385ba44",
   "metadata": {},
   "source": [
    "## Process Data"
   ]
  },
  {
   "cell_type": "markdown",
   "id": "bc08d8d3",
   "metadata": {},
   "source": [
    "### Run GovSpend Search"
   ]
  },
  {
   "cell_type": "markdown",
   "id": "b750d6de",
   "metadata": {},
   "source": [
    "We need to gather bids to process from GovSpend and SAM.gov. We have a saved search in GovSpend that filters for the bids we care about, specifically those issued by DLA within the past day and matching our NAICS codes."
   ]
  },
  {
   "cell_type": "code",
   "execution_count": 191,
   "id": "b3bdac15",
   "metadata": {},
   "outputs": [],
   "source": [
    "govspend_result = govspend.search(search_id)\n",
    "combined_result_list = []\n",
    "manufacturer_result_list = []"
   ]
  },
  {
   "cell_type": "markdown",
   "id": "c8b418df",
   "metadata": {},
   "source": [
    "### Process Bids"
   ]
  },
  {
   "cell_type": "markdown",
   "id": "d2cc3606",
   "metadata": {},
   "source": [
    "This block loops through each bid from GovSpend and uses OpenAI to parse unstructured bid descriptions into structured fields like part number, quantity, and approved sources. It also enriches the data with part details from FLIS. If no part number is found directly, it tries to fall back to alternatives or uses a placeholder. The result is a clean dictionary of data for each bid, ready to be uploaded into Salesforce. Manufacturer details are also collected when available."
   ]
  },
  {
   "cell_type": "code",
   "execution_count": 192,
   "id": "9937228c",
   "metadata": {},
   "outputs": [
    {
     "name": "stdout",
     "output_type": "stream",
     "text": [
      "{'bid_number': 'SPE4A725T591A', 'ref_pn': 'C5B205333', 'parse_desc': 'RELEASE, MECHANISM', 'qty_requested': 9, 'num_qty_on_pb': 0, 'approved_source': '', 'lead_time': '0473 DAYS ADO', 'incumbent': '', 'multiple_award': 'no', 'approved_source_codes': [], 'date_create': '2025-07-02T12:00:00Z', 'date_due': '2025-07-10T12:00:00Z', 'psc_code': '16 - AEROSPACE CRAFT COMPONENTS AND ACCESSORIES', 'set_aside': 'SBA - Total Small Business Set-Aside (FAR 19.5)', 'NSN': '1680012305966', 'flis_pn': 'C5B205333', 'parse_pn': '', 'flis_desc': 'RELEASE, MECHANISM'}\n",
      "Number of BIDs processed 1\n",
      "{'bid_number': 'SPE4A725T591G', 'ref_pn': '9R3886', 'parse_desc': 'NRP,RESTRICTOR CHEC', 'qty_requested': 3, 'num_qty_on_pb': 0, 'approved_source': '', 'lead_time': '0114 DAYS ADO', 'incumbent': '', 'multiple_award': 'no', 'approved_source_codes': ['1WAC1 9R3886', '99240 9R3886'], 'date_create': '2025-07-02T12:00:00Z', 'date_due': '2025-07-10T12:00:00Z', 'psc_code': '16 - AEROSPACE CRAFT COMPONENTS AND ACCESSORIES', 'set_aside': 'SBA - Total Small Business Set-Aside (FAR 19.5)', 'NSN': '1680016225767', 'flis_pn': '9R3886', 'parse_pn': '', 'flis_desc': 'NRP,RESTRICTOR CHEC'}\n",
      "Number of BIDs processed 2\n",
      "{'bid_number': 'SPE4A725T590U', 'ref_pn': '5030T92P03', 'parse_desc': 'SEAL ASSEMBLY,CARBO', 'qty_requested': 18, 'num_qty_on_pb': 0, 'approved_source': '75370 5030T92P03; 99207 5030T92P03', 'lead_time': '163 Days ADO', 'incumbent': '', 'multiple_award': 'no', 'approved_source_codes': ['75370 5030T92P03', '99207 5030T92P03'], 'date_create': '2025-07-02T12:00:00Z', 'date_due': '2025-07-10T12:00:00Z', 'psc_code': '28 - ENGINES AND TURBINES AND COMPONENT', 'set_aside': 'SBA - Total Small Business Set-Aside (FAR 19.5)', 'NSN': '2840011506660', 'flis_pn': '5030T92P03,201100,10158655', 'parse_pn': '', 'flis_desc': 'SEAL ASSEMBLY,CARBO'}\n",
      "Number of BIDs processed 3\n"
     ]
    }
   ],
   "source": [
    "count = 0\n",
    "\n",
    "for bid in govspend_result['result']:\n",
    "    parse_result = rfp_parser.parse_rfp(bid['description'])\n",
    "    flis_result = flis.get_part_number_and_description(parse_result[\"niin\"])\n",
    "\n",
    "    ref_pn = (\n",
    "        parse_result.get(\"part_number\", \"\").strip()\n",
    "        or flis_result.get(\"part_number\", \"\").split(\",\")[0].strip()\n",
    "        or \"NO PART NUMBER\"\n",
    "    )\n",
    "\n",
    "    #num_pb_results = pb.get_live_qty(ref_pn) I no longer have access to the PartsBase API, so this line is commented out.\n",
    "    num_pb_results = 0  # Placeholder for PartsBase results\n",
    "\n",
    "    result = {\n",
    "        \"bid_number\": bid[\"bidNumber\"],\n",
    "        \"ref_pn\": ref_pn,\n",
    "        \"parse_desc\": parse_result[\"description\"],\n",
    "        \"qty_requested\": parse_result[\"quantity\"],\n",
    "        \"num_qty_on_pb\": num_pb_results,\n",
    "        \"approved_source\": parse_result[\"approved_source\"],\n",
    "        \"lead_time\": parse_result[\"lead_time\"],\n",
    "        \"incumbent\": parse_result[\"incumbent\"],\n",
    "        \"multiple_award\": parse_result[\"multiple_award\"],\n",
    "        \"approved_source_codes\": parse_result[\"approved_source_codes\"],\n",
    "        \"date_create\": bid[\"postedDate\"],\n",
    "        \"date_due\": bid[\"dueDate\"],\n",
    "        \"psc_code\": bid[\"PSCCode\"],\n",
    "        \"set_aside\": bid[\"setAside\"],\n",
    "        \"NSN\": parse_result[\"nsn\"],\n",
    "        \"flis_pn\": flis_result[\"part_number\"],\n",
    "        \"parse_pn\": parse_result[\"part_number\"],\n",
    "        \"flis_desc\": parse_result[\"description\"]\n",
    "    }\n",
    "\n",
    "    print(result)\n",
    "    count += 1\n",
    "    print(f\"Number of BIDs processed\", count)\n",
    "    combined_result_list.append(result)\n",
    "\n",
    "    manufacturer_data = flis.get_cage_codes_and_pricing(parse_result[\"niin\"])\n",
    "    if not manufacturer_data.empty:\n",
    "        manufacturer_result_list.append(manufacturer_data)"
   ]
  },
  {
   "cell_type": "markdown",
   "id": "4c5bad25",
   "metadata": {},
   "source": [
    "### Save the Results"
   ]
  },
  {
   "cell_type": "markdown",
   "id": "7d2bcbbd",
   "metadata": {},
   "source": [
    "Saves the parsed bid data and manufacturer information into separate CSV files for later processing or import."
   ]
  },
  {
   "cell_type": "code",
   "execution_count": 193,
   "id": "83a7b818",
   "metadata": {},
   "outputs": [
    {
     "name": "stdout",
     "output_type": "stream",
     "text": [
      "Data saved to ../datasets/demo_output/target_list.csv\n",
      "Manufacturer data saved to ../datasets/demo_output/manufacturer_information.csv\n"
     ]
    }
   ],
   "source": [
    "df = pd.DataFrame(combined_result_list)\n",
    "df.to_csv(output_file, index=False)\n",
    "print(f\"Data saved to {output_file}\")\n",
    "\n",
    "if manufacturer_result_list:\n",
    "    df_manufacturer = pd.concat(manufacturer_result_list, ignore_index=True)\n",
    "    df_manufacturer.to_csv(output_manufacturer_file, index=False)\n",
    "    print(f\"Manufacturer data saved to {output_manufacturer_file}\")"
   ]
  },
  {
   "cell_type": "markdown",
   "id": "f65fca10",
   "metadata": {},
   "source": [
    "## Bring Into Salesforce\n",
    "\n",
    "We will be adding these bids to salesforce as a customer quote for Acme Inc."
   ]
  },
  {
   "cell_type": "code",
   "execution_count": 194,
   "id": "e93fddcd",
   "metadata": {},
   "outputs": [
    {
     "name": "stdout",
     "output_type": "stream",
     "text": [
      "Total number of bids processed: 3\n"
     ]
    },
    {
     "data": {
      "text/html": [
       "<div>\n",
       "<style scoped>\n",
       "    .dataframe tbody tr th:only-of-type {\n",
       "        vertical-align: middle;\n",
       "    }\n",
       "\n",
       "    .dataframe tbody tr th {\n",
       "        vertical-align: top;\n",
       "    }\n",
       "\n",
       "    .dataframe thead th {\n",
       "        text-align: right;\n",
       "    }\n",
       "</style>\n",
       "<table border=\"1\" class=\"dataframe\">\n",
       "  <thead>\n",
       "    <tr style=\"text-align: right;\">\n",
       "      <th></th>\n",
       "      <th>bid_number</th>\n",
       "      <th>ref_pn</th>\n",
       "      <th>parse_desc</th>\n",
       "      <th>qty_requested</th>\n",
       "      <th>num_qty_on_pb</th>\n",
       "      <th>approved_source</th>\n",
       "      <th>lead_time</th>\n",
       "      <th>incumbent</th>\n",
       "      <th>multiple_award</th>\n",
       "      <th>approved_source_codes</th>\n",
       "      <th>date_create</th>\n",
       "      <th>date_due</th>\n",
       "      <th>psc_code</th>\n",
       "      <th>set_aside</th>\n",
       "      <th>NSN</th>\n",
       "      <th>flis_pn</th>\n",
       "      <th>parse_pn</th>\n",
       "      <th>flis_desc</th>\n",
       "    </tr>\n",
       "  </thead>\n",
       "  <tbody>\n",
       "    <tr>\n",
       "      <th>0</th>\n",
       "      <td>SPE4A725T591A</td>\n",
       "      <td>C5B205333</td>\n",
       "      <td>RELEASE, MECHANISM</td>\n",
       "      <td>9</td>\n",
       "      <td>0</td>\n",
       "      <td></td>\n",
       "      <td>0473 DAYS ADO</td>\n",
       "      <td></td>\n",
       "      <td>no</td>\n",
       "      <td>[]</td>\n",
       "      <td>2025-07-02T12:00:00Z</td>\n",
       "      <td>2025-07-10T12:00:00Z</td>\n",
       "      <td>16 - AEROSPACE CRAFT COMPONENTS AND ACCESSORIES</td>\n",
       "      <td>SBA - Total Small Business Set-Aside (FAR 19.5)</td>\n",
       "      <td>1680012305966</td>\n",
       "      <td>C5B205333</td>\n",
       "      <td></td>\n",
       "      <td>RELEASE, MECHANISM</td>\n",
       "    </tr>\n",
       "  </tbody>\n",
       "</table>\n",
       "</div>"
      ],
      "text/plain": [
       "      bid_number     ref_pn          parse_desc  qty_requested  num_qty_on_pb  \\\n",
       "0  SPE4A725T591A  C5B205333  RELEASE, MECHANISM              9              0   \n",
       "\n",
       "  approved_source      lead_time incumbent multiple_award  \\\n",
       "0                  0473 DAYS ADO                       no   \n",
       "\n",
       "  approved_source_codes           date_create              date_due  \\\n",
       "0                    []  2025-07-02T12:00:00Z  2025-07-10T12:00:00Z   \n",
       "\n",
       "                                          psc_code  \\\n",
       "0  16 - AEROSPACE CRAFT COMPONENTS AND ACCESSORIES   \n",
       "\n",
       "                                         set_aside            NSN    flis_pn  \\\n",
       "0  SBA - Total Small Business Set-Aside (FAR 19.5)  1680012305966  C5B205333   \n",
       "\n",
       "  parse_pn           flis_desc  \n",
       "0           RELEASE, MECHANISM  "
      ]
     },
     "execution_count": 194,
     "metadata": {},
     "output_type": "execute_result"
    }
   ],
   "source": [
    "#Look at what we are dealing with in the dataframe and count the number of bids processed\n",
    "print(f\"Total number of bids processed: {len(df)}\")\n",
    "df.head(1)"
   ]
  },
  {
   "cell_type": "markdown",
   "id": "29b4a787",
   "metadata": {},
   "source": [
    "### Wrangle the Data"
   ]
  },
  {
   "cell_type": "markdown",
   "id": "da6a6499",
   "metadata": {},
   "source": [
    "Creates a concatenated comment field, renames columns to match Salesforce field names, extracts a subset for parts with truncated keyword length, and displays a preview of the prepared quote lines."
   ]
  },
  {
   "cell_type": "code",
   "execution_count": 195,
   "id": "987dbf52",
   "metadata": {},
   "outputs": [
    {
     "data": {
      "text/html": [
       "<div>\n",
       "<style scoped>\n",
       "    .dataframe tbody tr th:only-of-type {\n",
       "        vertical-align: middle;\n",
       "    }\n",
       "\n",
       "    .dataframe tbody tr th {\n",
       "        vertical-align: top;\n",
       "    }\n",
       "\n",
       "    .dataframe thead th {\n",
       "        text-align: right;\n",
       "    }\n",
       "</style>\n",
       "<table border=\"1\" class=\"dataframe\">\n",
       "  <thead>\n",
       "    <tr style=\"text-align: right;\">\n",
       "      <th></th>\n",
       "      <th>inscor__Customer_Reference_Line__c</th>\n",
       "      <th>Name</th>\n",
       "      <th>inscor__Keyword__c</th>\n",
       "      <th>inscor__Quantity_Requested__c</th>\n",
       "      <th>Number of Quantity on PartsBase</th>\n",
       "      <th>Approved Source</th>\n",
       "      <th>inscor__Lead_Time__c</th>\n",
       "      <th>Incumbent</th>\n",
       "      <th>Multiple Award</th>\n",
       "      <th>Approved Source Codes</th>\n",
       "      <th>Date Created</th>\n",
       "      <th>inscor__Quote_Due__c</th>\n",
       "      <th>PSC Code</th>\n",
       "      <th>Set Aside</th>\n",
       "      <th>inscor__NSN1__c</th>\n",
       "      <th>FLIS Part Number</th>\n",
       "      <th>Parsed Part Number</th>\n",
       "      <th>FLIS Description</th>\n",
       "      <th>inscor__Internal_Comments_rt__c</th>\n",
       "    </tr>\n",
       "  </thead>\n",
       "  <tbody>\n",
       "    <tr>\n",
       "      <th>0</th>\n",
       "      <td>SPE4A725T591A</td>\n",
       "      <td>C5B205333</td>\n",
       "      <td>RELEASE, MECHANISM</td>\n",
       "      <td>9</td>\n",
       "      <td>0</td>\n",
       "      <td></td>\n",
       "      <td>0473 DAYS ADO</td>\n",
       "      <td></td>\n",
       "      <td>no</td>\n",
       "      <td>[]</td>\n",
       "      <td>2025-07-02T12:00:00Z</td>\n",
       "      <td>2025-07-10T12:00:00Z</td>\n",
       "      <td>16 - AEROSPACE CRAFT COMPONENTS AND ACCESSORIES</td>\n",
       "      <td>SBA - Total Small Business Set-Aside (FAR 19.5)</td>\n",
       "      <td>1680012305966</td>\n",
       "      <td>C5B205333</td>\n",
       "      <td></td>\n",
       "      <td>RELEASE, MECHANISM</td>\n",
       "      <td>SPE4A725T591A | C5B205333 | RELEASE, MECHANISM...</td>\n",
       "    </tr>\n",
       "    <tr>\n",
       "      <th>1</th>\n",
       "      <td>SPE4A725T591G</td>\n",
       "      <td>9R3886</td>\n",
       "      <td>NRP,RESTRICTOR CHEC</td>\n",
       "      <td>3</td>\n",
       "      <td>0</td>\n",
       "      <td></td>\n",
       "      <td>0114 DAYS ADO</td>\n",
       "      <td></td>\n",
       "      <td>no</td>\n",
       "      <td>[1WAC1 9R3886, 99240 9R3886]</td>\n",
       "      <td>2025-07-02T12:00:00Z</td>\n",
       "      <td>2025-07-10T12:00:00Z</td>\n",
       "      <td>16 - AEROSPACE CRAFT COMPONENTS AND ACCESSORIES</td>\n",
       "      <td>SBA - Total Small Business Set-Aside (FAR 19.5)</td>\n",
       "      <td>1680016225767</td>\n",
       "      <td>9R3886</td>\n",
       "      <td></td>\n",
       "      <td>NRP,RESTRICTOR CHEC</td>\n",
       "      <td>SPE4A725T591G | 9R3886 | NRP,RESTRICTOR CHEC |...</td>\n",
       "    </tr>\n",
       "    <tr>\n",
       "      <th>2</th>\n",
       "      <td>SPE4A725T590U</td>\n",
       "      <td>5030T92P03</td>\n",
       "      <td>SEAL ASSEMBLY,CARBO</td>\n",
       "      <td>18</td>\n",
       "      <td>0</td>\n",
       "      <td>75370 5030T92P03; 99207 5030T92P03</td>\n",
       "      <td>163 Days ADO</td>\n",
       "      <td></td>\n",
       "      <td>no</td>\n",
       "      <td>[75370 5030T92P03, 99207 5030T92P03]</td>\n",
       "      <td>2025-07-02T12:00:00Z</td>\n",
       "      <td>2025-07-10T12:00:00Z</td>\n",
       "      <td>28 - ENGINES AND TURBINES AND COMPONENT</td>\n",
       "      <td>SBA - Total Small Business Set-Aside (FAR 19.5)</td>\n",
       "      <td>2840011506660</td>\n",
       "      <td>5030T92P03,201100,10158655</td>\n",
       "      <td></td>\n",
       "      <td>SEAL ASSEMBLY,CARBO</td>\n",
       "      <td>SPE4A725T590U | 5030T92P03 | SEAL ASSEMBLY,CAR...</td>\n",
       "    </tr>\n",
       "  </tbody>\n",
       "</table>\n",
       "</div>"
      ],
      "text/plain": [
       "  inscor__Customer_Reference_Line__c        Name   inscor__Keyword__c  \\\n",
       "0                      SPE4A725T591A   C5B205333   RELEASE, MECHANISM   \n",
       "1                      SPE4A725T591G      9R3886  NRP,RESTRICTOR CHEC   \n",
       "2                      SPE4A725T590U  5030T92P03  SEAL ASSEMBLY,CARBO   \n",
       "\n",
       "   inscor__Quantity_Requested__c  Number of Quantity on PartsBase  \\\n",
       "0                              9                                0   \n",
       "1                              3                                0   \n",
       "2                             18                                0   \n",
       "\n",
       "                      Approved Source inscor__Lead_Time__c Incumbent  \\\n",
       "0                                            0473 DAYS ADO             \n",
       "1                                            0114 DAYS ADO             \n",
       "2  75370 5030T92P03; 99207 5030T92P03         163 Days ADO             \n",
       "\n",
       "  Multiple Award                 Approved Source Codes          Date Created  \\\n",
       "0             no                                    []  2025-07-02T12:00:00Z   \n",
       "1             no          [1WAC1 9R3886, 99240 9R3886]  2025-07-02T12:00:00Z   \n",
       "2             no  [75370 5030T92P03, 99207 5030T92P03]  2025-07-02T12:00:00Z   \n",
       "\n",
       "   inscor__Quote_Due__c                                         PSC Code  \\\n",
       "0  2025-07-10T12:00:00Z  16 - AEROSPACE CRAFT COMPONENTS AND ACCESSORIES   \n",
       "1  2025-07-10T12:00:00Z  16 - AEROSPACE CRAFT COMPONENTS AND ACCESSORIES   \n",
       "2  2025-07-10T12:00:00Z          28 - ENGINES AND TURBINES AND COMPONENT   \n",
       "\n",
       "                                         Set Aside inscor__NSN1__c  \\\n",
       "0  SBA - Total Small Business Set-Aside (FAR 19.5)   1680012305966   \n",
       "1  SBA - Total Small Business Set-Aside (FAR 19.5)   1680016225767   \n",
       "2  SBA - Total Small Business Set-Aside (FAR 19.5)   2840011506660   \n",
       "\n",
       "             FLIS Part Number Parsed Part Number     FLIS Description  \\\n",
       "0                   C5B205333                      RELEASE, MECHANISM   \n",
       "1                      9R3886                     NRP,RESTRICTOR CHEC   \n",
       "2  5030T92P03,201100,10158655                     SEAL ASSEMBLY,CARBO   \n",
       "\n",
       "                     inscor__Internal_Comments_rt__c  \n",
       "0  SPE4A725T591A | C5B205333 | RELEASE, MECHANISM...  \n",
       "1  SPE4A725T591G | 9R3886 | NRP,RESTRICTOR CHEC |...  \n",
       "2  SPE4A725T590U | 5030T92P03 | SEAL ASSEMBLY,CAR...  "
      ]
     },
     "execution_count": 195,
     "metadata": {},
     "output_type": "execute_result"
    }
   ],
   "source": [
    "df['inscor__Internal_Comments_rt__c'] = df.astype(str).agg(' | '.join, axis=1)\n",
    "\n",
    "df_quote_lines = df.rename(columns={\n",
    "    \"bid_number\": \"inscor__Customer_Reference_Line__c\",\n",
    "    \"ref_pn\": \"Name\",\n",
    "    \"parse_desc\": \"inscor__Keyword__c\",\n",
    "    \"qty_requested\": \"inscor__Quantity_Requested__c\",\n",
    "    \"num_qty_on_pb\": \"Number of Quantity on PartsBase\",\n",
    "    \"approved_source\": \"Approved Source\",\n",
    "    \"lead_time\": \"inscor__Lead_Time__c\",\n",
    "    \"incumbent\": \"Incumbent\",\n",
    "    \"multiple_award\": \"Multiple Award\",\n",
    "    \"approved_source_codes\": \"Approved Source Codes\",\n",
    "    \"date_create\": \"Date Created\",\n",
    "    \"date_due\": \"inscor__Quote_Due__c\",\n",
    "    \"psc_code\": \"PSC Code\",\n",
    "    \"set_aside\": \"Set Aside\",\n",
    "    \"NSN\": \"inscor__NSN1__c\",\n",
    "    \"flis_pn\": \"FLIS Part Number\",\n",
    "    \"parse_pn\": \"Parsed Part Number\",\n",
    "    \"flis_desc\": \"FLIS Description\"\n",
    "})\n",
    "\n",
    "df_parts = df_quote_lines[['Name', 'inscor__Keyword__c', 'inscor__NSN1__c']].copy() #hard copy\n",
    "df_parts['inscor__Keyword__c'] = df_parts['inscor__Keyword__c'].astype(str).str[:14] #max length salesforce will allow is 15\n",
    "\n",
    "df_quote_lines.head()"
   ]
  },
  {
   "cell_type": "markdown",
   "id": "557ad64f",
   "metadata": {},
   "source": [
    "Runs a SOQL query to download up to 2 million Product2 records using the Bulk API, saves the results to a CSV file, and loads them into a pandas DataFrame for local processing.\n",
    "\n",
    "It’s not recommended to pull down that many rows on every run, especially in production environment. Please form a caching stratagy if you have to run this frequently (delta pulling or CDC)\n"
   ]
  },
  {
   "cell_type": "code",
   "execution_count": 196,
   "id": "d48f78d8",
   "metadata": {},
   "outputs": [],
   "source": [
    "sql_query = \"\"\"\n",
    "SELECT Id, Name\n",
    "FROM Product2\n",
    "\"\"\"\n",
    "\n",
    "result = sf.bulk2.Account.download(\n",
    "    sql_query,\n",
    "    path='../datasets',\n",
    "    max_records=2000000,\n",
    ")\n",
    "\n",
    "file_path = result[0]['file']\n",
    "sf_parts = pd.read_csv(file_path)"
   ]
  },
  {
   "cell_type": "markdown",
   "id": "c2d223e4",
   "metadata": {},
   "source": [
    "Filters df_parts to include only records with part names not already present in sf_parts, preparing a list of new parts to insert."
   ]
  },
  {
   "cell_type": "code",
   "execution_count": 197,
   "id": "d587ddbe",
   "metadata": {},
   "outputs": [
    {
     "data": {
      "text/html": [
       "<div>\n",
       "<style scoped>\n",
       "    .dataframe tbody tr th:only-of-type {\n",
       "        vertical-align: middle;\n",
       "    }\n",
       "\n",
       "    .dataframe tbody tr th {\n",
       "        vertical-align: top;\n",
       "    }\n",
       "\n",
       "    .dataframe thead th {\n",
       "        text-align: right;\n",
       "    }\n",
       "</style>\n",
       "<table border=\"1\" class=\"dataframe\">\n",
       "  <thead>\n",
       "    <tr style=\"text-align: right;\">\n",
       "      <th></th>\n",
       "      <th>Name</th>\n",
       "      <th>inscor__Keyword__c</th>\n",
       "      <th>inscor__NSN1__c</th>\n",
       "    </tr>\n",
       "  </thead>\n",
       "  <tbody>\n",
       "  </tbody>\n",
       "</table>\n",
       "</div>"
      ],
      "text/plain": [
       "Empty DataFrame\n",
       "Columns: [Name, inscor__Keyword__c, inscor__NSN1__c]\n",
       "Index: []"
      ]
     },
     "execution_count": 197,
     "metadata": {},
     "output_type": "execute_result"
    }
   ],
   "source": [
    "\n",
    "df_insert = df_parts[~df_parts['Name'].isin(sf_parts['Name'])]\n",
    "df_insert.head()\n"
   ]
  },
  {
   "cell_type": "markdown",
   "id": "305d35b1",
   "metadata": {},
   "source": [
    "Checks if there are any new parts to insert by evaluating if df_insert is not empty. If there are, it performs a bulk insert, logs the results, and updates the local cache of known parts."
   ]
  },
  {
   "cell_type": "code",
   "execution_count": 198,
   "id": "ee929eec",
   "metadata": {},
   "outputs": [],
   "source": [
    "#add an if statment that if df insert has no rows, then skip the bulk insert\n",
    "if not df_insert.empty:\n",
    "    print(\"No new parts to insert. Skipping bulk insert.\")\n",
    "\n",
    "    records=df_insert.to_dict(orient='records')\n",
    "    result = sf.bulk2.Product2.insert(records=records, concurrency=100)\n",
    "    print(result)\n",
    "\n",
    "    #check the results\n",
    "    success, fail = get_bulk2_results(result)\n",
    "    print(f\"Total records inserted: {len(success)}\")\n",
    "    display(success.head(3))\n",
    "    print(f\"Total records failed: {len(fail)}\")\n",
    "    display(fail.head(3))\n",
    "\n",
    "    #Yes you could (should) certainly use the rest API for this amount of data, but I already put BulkAPI in the presentation title\n",
    "    #There is no backing out now.\n",
    "\n",
    "    #add success results to the the existing parts dataframe\n",
    "    #rename sf__Id to sf__Id for consistency\n",
    "    success = success.rename(columns={'sf__Id': 'Id'})\n",
    "    sf_parts = pd.concat([sf_parts, success[['Id', 'Name']]], ignore_index=True)\n",
    "    #Drop any duplicate part names, part numbers should be unique.\n"
   ]
  },
  {
   "cell_type": "markdown",
   "id": "04064b8c",
   "metadata": {},
   "source": [
    "Removes duplicate part names from the Salesforce parts dataset, then merges it with the quote lines to associate each line with its corresponding Salesforce Product2 ID."
   ]
  },
  {
   "cell_type": "code",
   "execution_count": 199,
   "id": "edba4d0e",
   "metadata": {},
   "outputs": [
    {
     "data": {
      "text/html": [
       "<div>\n",
       "<style scoped>\n",
       "    .dataframe tbody tr th:only-of-type {\n",
       "        vertical-align: middle;\n",
       "    }\n",
       "\n",
       "    .dataframe tbody tr th {\n",
       "        vertical-align: top;\n",
       "    }\n",
       "\n",
       "    .dataframe thead th {\n",
       "        text-align: right;\n",
       "    }\n",
       "</style>\n",
       "<table border=\"1\" class=\"dataframe\">\n",
       "  <thead>\n",
       "    <tr style=\"text-align: right;\">\n",
       "      <th></th>\n",
       "      <th>inscor__Customer_Reference_Line__c</th>\n",
       "      <th>Name</th>\n",
       "      <th>inscor__Keyword__c</th>\n",
       "      <th>inscor__Quantity_Requested__c</th>\n",
       "      <th>Number of Quantity on PartsBase</th>\n",
       "      <th>Approved Source</th>\n",
       "      <th>inscor__Lead_Time__c</th>\n",
       "      <th>Incumbent</th>\n",
       "      <th>Multiple Award</th>\n",
       "      <th>Approved Source Codes</th>\n",
       "      <th>Date Created</th>\n",
       "      <th>inscor__Quote_Due__c</th>\n",
       "      <th>PSC Code</th>\n",
       "      <th>Set Aside</th>\n",
       "      <th>inscor__NSN1__c</th>\n",
       "      <th>FLIS Part Number</th>\n",
       "      <th>Parsed Part Number</th>\n",
       "      <th>FLIS Description</th>\n",
       "      <th>inscor__Internal_Comments_rt__c</th>\n",
       "      <th>inscor__Product__c</th>\n",
       "    </tr>\n",
       "  </thead>\n",
       "  <tbody>\n",
       "    <tr>\n",
       "      <th>0</th>\n",
       "      <td>SPE4A725T591A</td>\n",
       "      <td>C5B205333</td>\n",
       "      <td>RELEASE, MECHANISM</td>\n",
       "      <td>9</td>\n",
       "      <td>0</td>\n",
       "      <td></td>\n",
       "      <td>0473 DAYS ADO</td>\n",
       "      <td></td>\n",
       "      <td>no</td>\n",
       "      <td>[]</td>\n",
       "      <td>2025-07-02T12:00:00Z</td>\n",
       "      <td>2025-07-10T12:00:00Z</td>\n",
       "      <td>16 - AEROSPACE CRAFT COMPONENTS AND ACCESSORIES</td>\n",
       "      <td>SBA - Total Small Business Set-Aside (FAR 19.5)</td>\n",
       "      <td>1680012305966</td>\n",
       "      <td>C5B205333</td>\n",
       "      <td></td>\n",
       "      <td>RELEASE, MECHANISM</td>\n",
       "      <td>SPE4A725T591A | C5B205333 | RELEASE, MECHANISM...</td>\n",
       "      <td>01tep000002OHWSAA4</td>\n",
       "    </tr>\n",
       "    <tr>\n",
       "      <th>1</th>\n",
       "      <td>SPE4A725T591G</td>\n",
       "      <td>9R3886</td>\n",
       "      <td>NRP,RESTRICTOR CHEC</td>\n",
       "      <td>3</td>\n",
       "      <td>0</td>\n",
       "      <td></td>\n",
       "      <td>0114 DAYS ADO</td>\n",
       "      <td></td>\n",
       "      <td>no</td>\n",
       "      <td>[1WAC1 9R3886, 99240 9R3886]</td>\n",
       "      <td>2025-07-02T12:00:00Z</td>\n",
       "      <td>2025-07-10T12:00:00Z</td>\n",
       "      <td>16 - AEROSPACE CRAFT COMPONENTS AND ACCESSORIES</td>\n",
       "      <td>SBA - Total Small Business Set-Aside (FAR 19.5)</td>\n",
       "      <td>1680016225767</td>\n",
       "      <td>9R3886</td>\n",
       "      <td></td>\n",
       "      <td>NRP,RESTRICTOR CHEC</td>\n",
       "      <td>SPE4A725T591G | 9R3886 | NRP,RESTRICTOR CHEC |...</td>\n",
       "      <td>01t82000000HKiFAAW</td>\n",
       "    </tr>\n",
       "    <tr>\n",
       "      <th>2</th>\n",
       "      <td>SPE4A725T590U</td>\n",
       "      <td>5030T92P03</td>\n",
       "      <td>SEAL ASSEMBLY,CARBO</td>\n",
       "      <td>18</td>\n",
       "      <td>0</td>\n",
       "      <td>75370 5030T92P03; 99207 5030T92P03</td>\n",
       "      <td>163 Days ADO</td>\n",
       "      <td></td>\n",
       "      <td>no</td>\n",
       "      <td>[75370 5030T92P03, 99207 5030T92P03]</td>\n",
       "      <td>2025-07-02T12:00:00Z</td>\n",
       "      <td>2025-07-10T12:00:00Z</td>\n",
       "      <td>28 - ENGINES AND TURBINES AND COMPONENT</td>\n",
       "      <td>SBA - Total Small Business Set-Aside (FAR 19.5)</td>\n",
       "      <td>2840011506660</td>\n",
       "      <td>5030T92P03,201100,10158655</td>\n",
       "      <td></td>\n",
       "      <td>SEAL ASSEMBLY,CARBO</td>\n",
       "      <td>SPE4A725T590U | 5030T92P03 | SEAL ASSEMBLY,CAR...</td>\n",
       "      <td>01tep000002OHWTAA4</td>\n",
       "    </tr>\n",
       "  </tbody>\n",
       "</table>\n",
       "</div>"
      ],
      "text/plain": [
       "  inscor__Customer_Reference_Line__c        Name   inscor__Keyword__c  \\\n",
       "0                      SPE4A725T591A   C5B205333   RELEASE, MECHANISM   \n",
       "1                      SPE4A725T591G      9R3886  NRP,RESTRICTOR CHEC   \n",
       "2                      SPE4A725T590U  5030T92P03  SEAL ASSEMBLY,CARBO   \n",
       "\n",
       "   inscor__Quantity_Requested__c  Number of Quantity on PartsBase  \\\n",
       "0                              9                                0   \n",
       "1                              3                                0   \n",
       "2                             18                                0   \n",
       "\n",
       "                      Approved Source inscor__Lead_Time__c Incumbent  \\\n",
       "0                                            0473 DAYS ADO             \n",
       "1                                            0114 DAYS ADO             \n",
       "2  75370 5030T92P03; 99207 5030T92P03         163 Days ADO             \n",
       "\n",
       "  Multiple Award                 Approved Source Codes          Date Created  \\\n",
       "0             no                                    []  2025-07-02T12:00:00Z   \n",
       "1             no          [1WAC1 9R3886, 99240 9R3886]  2025-07-02T12:00:00Z   \n",
       "2             no  [75370 5030T92P03, 99207 5030T92P03]  2025-07-02T12:00:00Z   \n",
       "\n",
       "   inscor__Quote_Due__c                                         PSC Code  \\\n",
       "0  2025-07-10T12:00:00Z  16 - AEROSPACE CRAFT COMPONENTS AND ACCESSORIES   \n",
       "1  2025-07-10T12:00:00Z  16 - AEROSPACE CRAFT COMPONENTS AND ACCESSORIES   \n",
       "2  2025-07-10T12:00:00Z          28 - ENGINES AND TURBINES AND COMPONENT   \n",
       "\n",
       "                                         Set Aside inscor__NSN1__c  \\\n",
       "0  SBA - Total Small Business Set-Aside (FAR 19.5)   1680012305966   \n",
       "1  SBA - Total Small Business Set-Aside (FAR 19.5)   1680016225767   \n",
       "2  SBA - Total Small Business Set-Aside (FAR 19.5)   2840011506660   \n",
       "\n",
       "             FLIS Part Number Parsed Part Number     FLIS Description  \\\n",
       "0                   C5B205333                      RELEASE, MECHANISM   \n",
       "1                      9R3886                     NRP,RESTRICTOR CHEC   \n",
       "2  5030T92P03,201100,10158655                     SEAL ASSEMBLY,CARBO   \n",
       "\n",
       "                     inscor__Internal_Comments_rt__c  inscor__Product__c  \n",
       "0  SPE4A725T591A | C5B205333 | RELEASE, MECHANISM...  01tep000002OHWSAA4  \n",
       "1  SPE4A725T591G | 9R3886 | NRP,RESTRICTOR CHEC |...  01t82000000HKiFAAW  \n",
       "2  SPE4A725T590U | 5030T92P03 | SEAL ASSEMBLY,CAR...  01tep000002OHWTAA4  "
      ]
     },
     "execution_count": 199,
     "metadata": {},
     "output_type": "execute_result"
    }
   ],
   "source": [
    "#merge sf_parts with df_parts to get salesforce IDs for the parts\n",
    "sf_parts.drop_duplicates(subset=['Name'], inplace=True) \n",
    "df_quote_lines = pd.merge(df_quote_lines, sf_parts, on='Name', how='inner')\n",
    "df_quote_lines = df_quote_lines.rename(columns={'Id': 'inscor__Product__c'})\n",
    "df_quote_lines.head()"
   ]
  },
  {
   "cell_type": "markdown",
   "id": "27fea5b3",
   "metadata": {},
   "source": [
    "Selects only the required columns for the quote line insert and truncates the lead time field to comply with the 24-character Salesforce limit."
   ]
  },
  {
   "cell_type": "code",
   "execution_count": 200,
   "id": "0ce0264c",
   "metadata": {},
   "outputs": [
    {
     "data": {
      "text/html": [
       "<div>\n",
       "<style scoped>\n",
       "    .dataframe tbody tr th:only-of-type {\n",
       "        vertical-align: middle;\n",
       "    }\n",
       "\n",
       "    .dataframe tbody tr th {\n",
       "        vertical-align: top;\n",
       "    }\n",
       "\n",
       "    .dataframe thead th {\n",
       "        text-align: right;\n",
       "    }\n",
       "</style>\n",
       "<table border=\"1\" class=\"dataframe\">\n",
       "  <thead>\n",
       "    <tr style=\"text-align: right;\">\n",
       "      <th></th>\n",
       "      <th>inscor__Customer_Reference_Line__c</th>\n",
       "      <th>inscor__Quantity_Requested__c</th>\n",
       "      <th>inscor__Lead_Time__c</th>\n",
       "      <th>inscor__Quote_Due__c</th>\n",
       "      <th>inscor__Product__c</th>\n",
       "      <th>inscor__Internal_Comments_rt__c</th>\n",
       "    </tr>\n",
       "  </thead>\n",
       "  <tbody>\n",
       "    <tr>\n",
       "      <th>0</th>\n",
       "      <td>SPE4A725T591A</td>\n",
       "      <td>9</td>\n",
       "      <td>0473 DAYS ADO</td>\n",
       "      <td>2025-07-10T12:00:00Z</td>\n",
       "      <td>01tep000002OHWSAA4</td>\n",
       "      <td>SPE4A725T591A | C5B205333 | RELEASE, MECHANISM...</td>\n",
       "    </tr>\n",
       "    <tr>\n",
       "      <th>1</th>\n",
       "      <td>SPE4A725T591G</td>\n",
       "      <td>3</td>\n",
       "      <td>0114 DAYS ADO</td>\n",
       "      <td>2025-07-10T12:00:00Z</td>\n",
       "      <td>01t82000000HKiFAAW</td>\n",
       "      <td>SPE4A725T591G | 9R3886 | NRP,RESTRICTOR CHEC |...</td>\n",
       "    </tr>\n",
       "    <tr>\n",
       "      <th>2</th>\n",
       "      <td>SPE4A725T590U</td>\n",
       "      <td>18</td>\n",
       "      <td>163 Days ADO</td>\n",
       "      <td>2025-07-10T12:00:00Z</td>\n",
       "      <td>01tep000002OHWTAA4</td>\n",
       "      <td>SPE4A725T590U | 5030T92P03 | SEAL ASSEMBLY,CAR...</td>\n",
       "    </tr>\n",
       "  </tbody>\n",
       "</table>\n",
       "</div>"
      ],
      "text/plain": [
       "  inscor__Customer_Reference_Line__c  inscor__Quantity_Requested__c  \\\n",
       "0                      SPE4A725T591A                              9   \n",
       "1                      SPE4A725T591G                              3   \n",
       "2                      SPE4A725T590U                             18   \n",
       "\n",
       "  inscor__Lead_Time__c  inscor__Quote_Due__c  inscor__Product__c  \\\n",
       "0        0473 DAYS ADO  2025-07-10T12:00:00Z  01tep000002OHWSAA4   \n",
       "1        0114 DAYS ADO  2025-07-10T12:00:00Z  01t82000000HKiFAAW   \n",
       "2         163 Days ADO  2025-07-10T12:00:00Z  01tep000002OHWTAA4   \n",
       "\n",
       "                     inscor__Internal_Comments_rt__c  \n",
       "0  SPE4A725T591A | C5B205333 | RELEASE, MECHANISM...  \n",
       "1  SPE4A725T591G | 9R3886 | NRP,RESTRICTOR CHEC |...  \n",
       "2  SPE4A725T590U | 5030T92P03 | SEAL ASSEMBLY,CAR...  "
      ]
     },
     "execution_count": 200,
     "metadata": {},
     "output_type": "execute_result"
    }
   ],
   "source": [
    "df_quote_lines = df_quote_lines[['inscor__Customer_Reference_Line__c', 'inscor__Quantity_Requested__c', 'inscor__Lead_Time__c', 'inscor__Quote_Due__c', 'inscor__Product__c', 'inscor__Internal_Comments_rt__c']].copy()\n",
    "#limit lead time to 24 characters\n",
    "df_quote_lines['inscor__Lead_Time__c'] = df_quote_lines['inscor__Lead_Time__c'].astype(str).str[:24]\n",
    "df_quote_lines.head()\n"
   ]
  },
  {
   "cell_type": "markdown",
   "id": "7b1091bc",
   "metadata": {},
   "source": [
    "Inserts a new quote header record using the REST API and stores the returned ID. "
   ]
  },
  {
   "cell_type": "code",
   "execution_count": null,
   "id": "3a73f8a4",
   "metadata": {},
   "outputs": [
    {
     "name": "stdout",
     "output_type": "stream",
     "text": [
      "Inserted Quote Header Id: a0lep000000JRkTAAW\n"
     ]
    }
   ],
   "source": [
    "quote_header = {\n",
    "    \"inscor__Customer__c\": \"001ep000007jy2PAAQ\", \n",
    "    \"inscor__Reference__c\": \"UPLOAD\",  \n",
    "    \"inscor__Contact__c\": \"003ep00000GNZaBAAX\", \n",
    "    \"Division__c\": \"Commercial\",  \n",
    "}\n",
    "# Insert quote header using Salesforce REST API and store the new Id\n",
    "quote_header_result = sf.inscor__Customer_Quote__c.create(quote_header)\n",
    "quote_header_id = quote_header_result.get('id')\n",
    "print(f\"Inserted Quote Header Id: {quote_header_id}\")  # Add the Quote Header Id to each line item\n",
    "\n",
    "# its so easy to get all the record field back with the rest api in python just do a .get passing in the id"
   ]
  },
  {
   "cell_type": "markdown",
   "id": "afba9a6c",
   "metadata": {},
   "source": [
    "Adds the quote header ID to each line item, inserts the quote lines using the Bulk API, and then prints summaries of successful and failed inserts along with any error messages returned by Salesforce."
   ]
  },
  {
   "cell_type": "code",
   "execution_count": 202,
   "id": "601d9ab5",
   "metadata": {},
   "outputs": [
    {
     "name": "stdout",
     "output_type": "stream",
     "text": [
      "[{'numberRecordsFailed': 0, 'numberRecordsProcessed': 3, 'numberRecordsTotal': 3, 'job_id': '750ep000003FpEzAAK'}]\n",
      "Total records inserted: 3\n"
     ]
    },
    {
     "data": {
      "text/html": [
       "<div>\n",
       "<style scoped>\n",
       "    .dataframe tbody tr th:only-of-type {\n",
       "        vertical-align: middle;\n",
       "    }\n",
       "\n",
       "    .dataframe tbody tr th {\n",
       "        vertical-align: top;\n",
       "    }\n",
       "\n",
       "    .dataframe thead th {\n",
       "        text-align: right;\n",
       "    }\n",
       "</style>\n",
       "<table border=\"1\" class=\"dataframe\">\n",
       "  <thead>\n",
       "    <tr style=\"text-align: right;\">\n",
       "      <th></th>\n",
       "      <th>sf__Id</th>\n",
       "      <th>sf__Created</th>\n",
       "      <th>inscor__Quantity_Requested__c</th>\n",
       "      <th>inscor__Customer_Reference_Line__c</th>\n",
       "      <th>inscor__Customer_Quote__c</th>\n",
       "      <th>inscor__Product__c</th>\n",
       "      <th>inscor__Quote_Due__c</th>\n",
       "      <th>inscor__Lead_Time__c</th>\n",
       "      <th>inscor__Internal_Comments_rt__c</th>\n",
       "      <th>job_id</th>\n",
       "    </tr>\n",
       "  </thead>\n",
       "  <tbody>\n",
       "    <tr>\n",
       "      <th>0</th>\n",
       "      <td>a0kep000000CzyzAAC</td>\n",
       "      <td>True</td>\n",
       "      <td>9.0</td>\n",
       "      <td>SPE4A725T591A</td>\n",
       "      <td>a0lep000000JRkTAAW</td>\n",
       "      <td>01tep000002OHWSAA4</td>\n",
       "      <td>2025-07-10</td>\n",
       "      <td>0473 DAYS ADO</td>\n",
       "      <td>SPE4A725T591A | C5B205333 | RELEASE, MECHANISM...</td>\n",
       "      <td>750ep000003FpEzAAK</td>\n",
       "    </tr>\n",
       "    <tr>\n",
       "      <th>1</th>\n",
       "      <td>a0kep000000Czz0AAC</td>\n",
       "      <td>True</td>\n",
       "      <td>3.0</td>\n",
       "      <td>SPE4A725T591G</td>\n",
       "      <td>a0lep000000JRkTAAW</td>\n",
       "      <td>01t82000000HKiFAAW</td>\n",
       "      <td>2025-07-10</td>\n",
       "      <td>0114 DAYS ADO</td>\n",
       "      <td>SPE4A725T591G | 9R3886 | NRP,RESTRICTOR CHEC |...</td>\n",
       "      <td>750ep000003FpEzAAK</td>\n",
       "    </tr>\n",
       "    <tr>\n",
       "      <th>2</th>\n",
       "      <td>a0kep000000Czz1AAC</td>\n",
       "      <td>True</td>\n",
       "      <td>18.0</td>\n",
       "      <td>SPE4A725T590U</td>\n",
       "      <td>a0lep000000JRkTAAW</td>\n",
       "      <td>01tep000002OHWTAA4</td>\n",
       "      <td>2025-07-10</td>\n",
       "      <td>163 Days ADO</td>\n",
       "      <td>SPE4A725T590U | 5030T92P03 | SEAL ASSEMBLY,CAR...</td>\n",
       "      <td>750ep000003FpEzAAK</td>\n",
       "    </tr>\n",
       "  </tbody>\n",
       "</table>\n",
       "</div>"
      ],
      "text/plain": [
       "               sf__Id  sf__Created  inscor__Quantity_Requested__c  \\\n",
       "0  a0kep000000CzyzAAC         True                            9.0   \n",
       "1  a0kep000000Czz0AAC         True                            3.0   \n",
       "2  a0kep000000Czz1AAC         True                           18.0   \n",
       "\n",
       "  inscor__Customer_Reference_Line__c inscor__Customer_Quote__c  \\\n",
       "0                      SPE4A725T591A        a0lep000000JRkTAAW   \n",
       "1                      SPE4A725T591G        a0lep000000JRkTAAW   \n",
       "2                      SPE4A725T590U        a0lep000000JRkTAAW   \n",
       "\n",
       "   inscor__Product__c inscor__Quote_Due__c inscor__Lead_Time__c  \\\n",
       "0  01tep000002OHWSAA4           2025-07-10        0473 DAYS ADO   \n",
       "1  01t82000000HKiFAAW           2025-07-10        0114 DAYS ADO   \n",
       "2  01tep000002OHWTAA4           2025-07-10         163 Days ADO   \n",
       "\n",
       "                     inscor__Internal_Comments_rt__c              job_id  \n",
       "0  SPE4A725T591A | C5B205333 | RELEASE, MECHANISM...  750ep000003FpEzAAK  \n",
       "1  SPE4A725T591G | 9R3886 | NRP,RESTRICTOR CHEC |...  750ep000003FpEzAAK  \n",
       "2  SPE4A725T590U | 5030T92P03 | SEAL ASSEMBLY,CAR...  750ep000003FpEzAAK  "
      ]
     },
     "metadata": {},
     "output_type": "display_data"
    },
    {
     "name": "stdout",
     "output_type": "stream",
     "text": [
      "Total records failed: 0\n"
     ]
    },
    {
     "data": {
      "text/html": [
       "<div>\n",
       "<style scoped>\n",
       "    .dataframe tbody tr th:only-of-type {\n",
       "        vertical-align: middle;\n",
       "    }\n",
       "\n",
       "    .dataframe tbody tr th {\n",
       "        vertical-align: top;\n",
       "    }\n",
       "\n",
       "    .dataframe thead th {\n",
       "        text-align: right;\n",
       "    }\n",
       "</style>\n",
       "<table border=\"1\" class=\"dataframe\">\n",
       "  <thead>\n",
       "    <tr style=\"text-align: right;\">\n",
       "      <th></th>\n",
       "      <th>sf__Id</th>\n",
       "      <th>sf__Error</th>\n",
       "      <th>inscor__Quantity_Requested__c</th>\n",
       "      <th>inscor__Customer_Reference_Line__c</th>\n",
       "      <th>inscor__Customer_Quote__c</th>\n",
       "      <th>inscor__Product__c</th>\n",
       "      <th>inscor__Quote_Due__c</th>\n",
       "      <th>inscor__Lead_Time__c</th>\n",
       "      <th>inscor__Internal_Comments_rt__c</th>\n",
       "      <th>job_id</th>\n",
       "    </tr>\n",
       "  </thead>\n",
       "  <tbody>\n",
       "  </tbody>\n",
       "</table>\n",
       "</div>"
      ],
      "text/plain": [
       "Empty DataFrame\n",
       "Columns: [sf__Id, sf__Error, inscor__Quantity_Requested__c, inscor__Customer_Reference_Line__c, inscor__Customer_Quote__c, inscor__Product__c, inscor__Quote_Due__c, inscor__Lead_Time__c, inscor__Internal_Comments_rt__c, job_id]\n",
       "Index: []"
      ]
     },
     "metadata": {},
     "output_type": "display_data"
    },
    {
     "name": "stdout",
     "output_type": "stream",
     "text": [
      "Series([], Name: sf__Error, dtype: object)\n"
     ]
    }
   ],
   "source": [
    "df_quote_lines['inscor__Customer_Quote__c'] = quote_header_id\n",
    "records=df_quote_lines.to_dict(orient='records')\n",
    "result = sf.bulk2.inscor__Customer_Quote_Line__c.insert(records=records, concurrency=100)\n",
    "print(result)\n",
    "\n",
    "#check the results\n",
    "success, fail = get_bulk2_results(result)\n",
    "print(f\"Total records inserted: {len(success)}\")\n",
    "display(success.head(3))\n",
    "print(f\"Total records failed: {len(fail)}\")\n",
    "display(fail.head(3))\n",
    "\n",
    "print(fail['sf__Error'])"
   ]
  },
  {
   "cell_type": "markdown",
   "id": "8a69a2c8",
   "metadata": {},
   "source": [
    "This pipeline transforms unstructured bid data into structured records, enriches and deduplicates parts, and inserts both quotes and line items into Salesforce using a mix of REST and Bulk APIs, showing a scalable and automation-friendly approach to external data integration."
   ]
  },
  {
   "cell_type": "code",
   "execution_count": 204,
   "id": "74d809cb",
   "metadata": {},
   "outputs": [
    {
     "name": "stderr",
     "output_type": "stream",
     "text": [
      "[NbConvertApp] Converting notebook 03_real_data_pipeline.ipynb to html\n",
      "[NbConvertApp] Writing 354641 bytes to ..\\html\\03_real_data_pipeline.html\n",
      "[NbConvertApp] Converting notebook 03_real_data_pipeline.ipynb to script\n",
      "[NbConvertApp] Writing 16463 bytes to ..\\notebook_script_exports\\03_real_data_pipeline.py\n"
     ]
    }
   ],
   "source": [
    "!jupyter nbconvert --to html \"03_real_data_pipeline.ipynb\" --output-dir=../html\n",
    "!jupyter nbconvert --to script \"03_real_data_pipeline.ipynb\" --output-dir=../notebook_script_exports"
   ]
  }
 ],
 "metadata": {
  "kernelspec": {
   "display_name": "BuckeyeDreaminDemo-UmNsEV2x",
   "language": "python",
   "name": "python3"
  },
  "language_info": {
   "codemirror_mode": {
    "name": "ipython",
    "version": 3
   },
   "file_extension": ".py",
   "mimetype": "text/x-python",
   "name": "python",
   "nbconvert_exporter": "python",
   "pygments_lexer": "ipython3",
   "version": "3.13.2"
  }
 },
 "nbformat": 4,
 "nbformat_minor": 5
}
