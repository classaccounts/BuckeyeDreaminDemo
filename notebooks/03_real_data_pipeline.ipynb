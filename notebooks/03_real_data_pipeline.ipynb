{
 "cells": [
  {
   "cell_type": "markdown",
   "id": "b67e36fc",
   "metadata": {},
   "source": [
    "# Bid Winner\n",
    "add explantation in getting messy data to the salesforce ecosystem"
   ]
  },
  {
   "cell_type": "markdown",
   "id": "d6d09de1",
   "metadata": {},
   "source": [
    "All data contained in this repository, as well as any information queried or conveyed through its use, is publicly accessible and readily available on the internet. No proprietary, confidential, or restricted data is included or utilized.\n",
    "\n",
    "This concept was created in my free time and is not used at my employer."
   ]
  },
  {
   "cell_type": "markdown",
   "id": "c6df15c0",
   "metadata": {},
   "source": [
    "## Imports\n",
    "and some configuration"
   ]
  },
  {
   "cell_type": "code",
   "execution_count": 42,
   "id": "daf9ba1c",
   "metadata": {},
   "outputs": [],
   "source": [
    "import sys\n",
    "sys.path.insert(0, '../scripts')\n",
    "from govspend_search import GoveSpendSearch\n",
    "from rfp_parser import RFPParse\n",
    "from flis_search import FlisSearch\n",
    "from parts_base import PartsBase\n",
    "from simple_salesforce import Salesforce\n",
    "import pandas as pd\n",
    "import os\n",
    "from dotenv import load_dotenv\n",
    "import io\n",
    "load_dotenv()\n",
    "\n",
    "search_id = \"679aba32c9c299c7b31ade4f\"\n",
    "PATH_TO_DLL = \"C:\\\\Users\\\\jackmchugh\\\\Downloads\\\\PublogDVD\\\\TOOLS\\\\MS12\\\\DecompDl64.dll\"\n",
    "PATH_TO_FEDLOG = \"C:\\\\Users\\\\jackmchugh\\\\Downloads\\\\PublogDVD\"\n",
    "\n",
    "output_dir = \"../datasets/demo_output/\"\n",
    "os.makedirs(output_dir, exist_ok=True)\n",
    "output_file = os.path.join(output_dir, \"target_list.csv\")\n",
    "output_manufacturer_file = os.path.join(output_dir, \"manufacturer_information.csv\")\n"
   ]
  },
  {
   "cell_type": "markdown",
   "id": "c20bdc1a",
   "metadata": {},
   "source": [
    "## Helper Classes/Methods"
   ]
  },
  {
   "cell_type": "code",
   "execution_count": 9,
   "id": "527d5386",
   "metadata": {},
   "outputs": [],
   "source": [
    "pb = PartsBase()\n",
    "govspend = GoveSpendSearch()\n",
    "flis = FlisSearch(path_to_dll=PATH_TO_DLL, path_to_fedlog=PATH_TO_FEDLOG)\n",
    "rfp_parser = RFPParse()"
   ]
  },
  {
   "cell_type": "code",
   "execution_count": 27,
   "id": "247d3554",
   "metadata": {},
   "outputs": [],
   "source": [
    "\n",
    "sf_domain = os.getenv('sf_domain')\n",
    "sf_username = os.getenv('sf_username')\n",
    "sf_password = os.getenv('sf_password')\n",
    "sf_token = os.getenv('sf_token')\n",
    "\n",
    "\n",
    "sf = Salesforce(\n",
    "    username=sf_username,\n",
    "    password=sf_password,\n",
    "    security_token=sf_token,\n",
    "    domain=sf_domain\n",
    "   \n",
    ")"
   ]
  },
  {
   "cell_type": "code",
   "execution_count": 28,
   "id": "f598f9b4",
   "metadata": {},
   "outputs": [],
   "source": [
    "def get_bulk2_results(result):\n",
    "    combined_failed = pd.DataFrame()\n",
    "    combined_success = pd.DataFrame()\n",
    "    \n",
    "    for job in result:\n",
    "        job_id = job['job_id']\n",
    "        failed = sf.bulk2.Product2.get_failed_records(job_id)\n",
    "        success = sf.bulk2.Product2.get_successful_records(job_id)\n",
    "        \n",
    "        #since the results are returned as CSV strings, we need to convert them to DataFrames\n",
    "        success = pd.read_csv(io.StringIO(success))\n",
    "        failed = pd.read_csv(io.StringIO(failed))\n",
    "        \n",
    "        failed['job_id'] = job_id\n",
    "        success['job_id'] = job_id\n",
    "        \n",
    "        combined_failed = pd.concat([combined_failed, failed], ignore_index=True)\n",
    "        combined_success = pd.concat([combined_success, success], ignore_index=True)\n",
    "        \n",
    "        \n",
    "        return combined_success, combined_failed"
   ]
  },
  {
   "cell_type": "markdown",
   "id": "0385ba44",
   "metadata": {},
   "source": [
    "## Process Data"
   ]
  },
  {
   "cell_type": "markdown",
   "id": "bc08d8d3",
   "metadata": {},
   "source": [
    "### Run GovSpend Search"
   ]
  },
  {
   "cell_type": "code",
   "execution_count": 10,
   "id": "b3bdac15",
   "metadata": {},
   "outputs": [],
   "source": [
    "govspend_result = govspend.search(search_id)\n",
    "combined_result_list = []\n",
    "manufacturer_result_list = []"
   ]
  },
  {
   "cell_type": "markdown",
   "id": "c8b418df",
   "metadata": {},
   "source": [
    "### Process Bids"
   ]
  },
  {
   "cell_type": "code",
   "execution_count": 11,
   "id": "9937228c",
   "metadata": {},
   "outputs": [
    {
     "name": "stdout",
     "output_type": "stream",
     "text": [
      "{'bid_number': 'SPE4A725T591A', 'ref_pn': 'C5B205333', 'parse_desc': 'RELEASE, MECHANISM', 'qty_requested': 8, 'num_qty_on_pb': 0, 'approved_source': '', 'lead_time': '473 DAYS ADO for Line 0001, 180 DAYS ADO for Line 0002', 'incumbent': '', 'multiple_award': 'no', 'approved_source_codes': [], 'date_create': '2025-07-02T12:00:00Z', 'date_due': '2025-07-10T12:00:00Z', 'psc_code': '16 - AEROSPACE CRAFT COMPONENTS AND ACCESSORIES', 'set_aside': 'SBA - Total Small Business Set-Aside (FAR 19.5)', 'NSN': '1680012305966', 'flis_pn': 'C5B205333', 'parse_pn': '', 'flis_desc': 'RELEASE, MECHANISM'}\n",
      "Number of BIDs processed 1\n",
      "{'bid_number': 'SPE4A725T591G', 'ref_pn': '9R3886', 'parse_desc': 'NRP, RESTRICTOR CHEC', 'qty_requested': 3, 'num_qty_on_pb': 0, 'approved_source': '1WAC1 9R3886; 99240 9R3886', 'lead_time': '114 days', 'incumbent': '', 'multiple_award': 'no', 'approved_source_codes': ['1WAC1 9R3886', '99240 9R3886'], 'date_create': '2025-07-02T12:00:00Z', 'date_due': '2025-07-10T12:00:00Z', 'psc_code': '16 - AEROSPACE CRAFT COMPONENTS AND ACCESSORIES', 'set_aside': 'SBA - Total Small Business Set-Aside (FAR 19.5)', 'NSN': '1680016225767', 'flis_pn': '9R3886', 'parse_pn': '', 'flis_desc': 'NRP, RESTRICTOR CHEC'}\n",
      "Number of BIDs processed 2\n",
      "{'bid_number': 'SPE4A725T590U', 'ref_pn': '5030T92P03', 'parse_desc': 'SEAL ASSEMBLY,CARBO', 'qty_requested': 18, 'num_qty_on_pb': 0, 'approved_source': '75370 5030T92P03; 99207 5030T92P03', 'lead_time': '163 DAYS ADO', 'incumbent': '', 'multiple_award': 'no', 'approved_source_codes': ['75370', '99207'], 'date_create': '2025-07-02T12:00:00Z', 'date_due': '2025-07-10T12:00:00Z', 'psc_code': '28 - ENGINES AND TURBINES AND COMPONENT', 'set_aside': 'SBA - Total Small Business Set-Aside (FAR 19.5)', 'NSN': '2840011506660', 'flis_pn': '5030T92P03,201100,10158655', 'parse_pn': '', 'flis_desc': 'SEAL ASSEMBLY,CARBO'}\n",
      "Number of BIDs processed 3\n"
     ]
    }
   ],
   "source": [
    "count = 0\n",
    "\n",
    "for bid in govspend_result['result']:\n",
    "    parse_result = rfp_parser.parse_rfp(bid['description'])\n",
    "    flis_result = flis.get_part_number_and_description(parse_result[\"niin\"])\n",
    "\n",
    "    ref_pn = (\n",
    "        parse_result.get(\"part_number\", \"\").strip()\n",
    "        or flis_result.get(\"part_number\", \"\").split(\",\")[0].strip()\n",
    "        or \"NO PART NUMBER\"\n",
    "    )\n",
    "\n",
    "    #num_pb_results = pb.get_live_qty(ref_pn) I no longer have access to the PartsBase API, so this line is commented out.\n",
    "    num_pb_results = 0  # Placeholder for PartsBase results\n",
    "\n",
    "    result = {\n",
    "        \"bid_number\": bid[\"bidNumber\"],\n",
    "        \"ref_pn\": ref_pn,\n",
    "        \"parse_desc\": parse_result[\"description\"],\n",
    "        \"qty_requested\": parse_result[\"quantity\"],\n",
    "        \"num_qty_on_pb\": num_pb_results,\n",
    "        \"approved_source\": parse_result[\"approved_source\"],\n",
    "        \"lead_time\": parse_result[\"lead_time\"],\n",
    "        \"incumbent\": parse_result[\"incumbent\"],\n",
    "        \"multiple_award\": parse_result[\"multiple_award\"],\n",
    "        \"approved_source_codes\": parse_result[\"approved_source_codes\"],\n",
    "        \"date_create\": bid[\"postedDate\"],\n",
    "        \"date_due\": bid[\"dueDate\"],\n",
    "        \"psc_code\": bid[\"PSCCode\"],\n",
    "        \"set_aside\": bid[\"setAside\"],\n",
    "        \"NSN\": parse_result[\"nsn\"],\n",
    "        \"flis_pn\": flis_result[\"part_number\"],\n",
    "        \"parse_pn\": parse_result[\"part_number\"],\n",
    "        \"flis_desc\": parse_result[\"description\"]\n",
    "    }\n",
    "\n",
    "    print(result)\n",
    "    count += 1\n",
    "    print(f\"Number of BIDs processed\", count)\n",
    "    combined_result_list.append(result)\n",
    "\n",
    "    manufacturer_data = flis.get_cage_codes_and_pricing(parse_result[\"niin\"])\n",
    "    if not manufacturer_data.empty:\n",
    "        manufacturer_result_list.append(manufacturer_data)"
   ]
  },
  {
   "cell_type": "markdown",
   "id": "4c5bad25",
   "metadata": {},
   "source": [
    "### Save the Results"
   ]
  },
  {
   "cell_type": "code",
   "execution_count": 46,
   "id": "83a7b818",
   "metadata": {},
   "outputs": [
    {
     "name": "stdout",
     "output_type": "stream",
     "text": [
      "Data saved to ../datasets/demo_output/target_list.csv\n",
      "Manufacturer data saved to ../datasets/demo_output/manufacturer_information.csv\n"
     ]
    }
   ],
   "source": [
    "df = pd.DataFrame(combined_result_list)\n",
    "df.to_csv(output_file, index=False)\n",
    "print(f\"Data saved to {output_file}\")\n",
    "\n",
    "if manufacturer_result_list:\n",
    "    df_manufacturer = pd.concat(manufacturer_result_list, ignore_index=True)\n",
    "    df_manufacturer.to_csv(output_manufacturer_file, index=False)\n",
    "    print(f\"Manufacturer data saved to {output_manufacturer_file}\")"
   ]
  },
  {
   "cell_type": "markdown",
   "id": "f65fca10",
   "metadata": {},
   "source": [
    "## Bring Into Salesforce\n",
    "\n",
    "We will be adding these bids to salesforce as a customer quote for Acme Inc."
   ]
  },
  {
   "cell_type": "code",
   "execution_count": 47,
   "id": "e93fddcd",
   "metadata": {},
   "outputs": [
    {
     "name": "stdout",
     "output_type": "stream",
     "text": [
      "Total number of bids processed: 3\n"
     ]
    },
    {
     "data": {
      "text/html": [
       "<div>\n",
       "<style scoped>\n",
       "    .dataframe tbody tr th:only-of-type {\n",
       "        vertical-align: middle;\n",
       "    }\n",
       "\n",
       "    .dataframe tbody tr th {\n",
       "        vertical-align: top;\n",
       "    }\n",
       "\n",
       "    .dataframe thead th {\n",
       "        text-align: right;\n",
       "    }\n",
       "</style>\n",
       "<table border=\"1\" class=\"dataframe\">\n",
       "  <thead>\n",
       "    <tr style=\"text-align: right;\">\n",
       "      <th></th>\n",
       "      <th>bid_number</th>\n",
       "      <th>ref_pn</th>\n",
       "      <th>parse_desc</th>\n",
       "      <th>qty_requested</th>\n",
       "      <th>num_qty_on_pb</th>\n",
       "      <th>approved_source</th>\n",
       "      <th>lead_time</th>\n",
       "      <th>incumbent</th>\n",
       "      <th>multiple_award</th>\n",
       "      <th>approved_source_codes</th>\n",
       "      <th>date_create</th>\n",
       "      <th>date_due</th>\n",
       "      <th>psc_code</th>\n",
       "      <th>set_aside</th>\n",
       "      <th>NSN</th>\n",
       "      <th>flis_pn</th>\n",
       "      <th>parse_pn</th>\n",
       "      <th>flis_desc</th>\n",
       "    </tr>\n",
       "  </thead>\n",
       "  <tbody>\n",
       "    <tr>\n",
       "      <th>0</th>\n",
       "      <td>SPE4A725T591A</td>\n",
       "      <td>C5B205333</td>\n",
       "      <td>RELEASE, MECHANISM</td>\n",
       "      <td>8</td>\n",
       "      <td>0</td>\n",
       "      <td></td>\n",
       "      <td>473 DAYS ADO for Line 0001, 180 DAYS ADO for L...</td>\n",
       "      <td></td>\n",
       "      <td>no</td>\n",
       "      <td>[]</td>\n",
       "      <td>2025-07-02T12:00:00Z</td>\n",
       "      <td>2025-07-10T12:00:00Z</td>\n",
       "      <td>16 - AEROSPACE CRAFT COMPONENTS AND ACCESSORIES</td>\n",
       "      <td>SBA - Total Small Business Set-Aside (FAR 19.5)</td>\n",
       "      <td>1680012305966</td>\n",
       "      <td>C5B205333</td>\n",
       "      <td></td>\n",
       "      <td>RELEASE, MECHANISM</td>\n",
       "    </tr>\n",
       "  </tbody>\n",
       "</table>\n",
       "</div>"
      ],
      "text/plain": [
       "      bid_number     ref_pn          parse_desc  qty_requested  num_qty_on_pb  \\\n",
       "0  SPE4A725T591A  C5B205333  RELEASE, MECHANISM              8              0   \n",
       "\n",
       "  approved_source                                          lead_time  \\\n",
       "0                  473 DAYS ADO for Line 0001, 180 DAYS ADO for L...   \n",
       "\n",
       "  incumbent multiple_award approved_source_codes           date_create  \\\n",
       "0                       no                    []  2025-07-02T12:00:00Z   \n",
       "\n",
       "               date_due                                         psc_code  \\\n",
       "0  2025-07-10T12:00:00Z  16 - AEROSPACE CRAFT COMPONENTS AND ACCESSORIES   \n",
       "\n",
       "                                         set_aside            NSN    flis_pn  \\\n",
       "0  SBA - Total Small Business Set-Aside (FAR 19.5)  1680012305966  C5B205333   \n",
       "\n",
       "  parse_pn           flis_desc  \n",
       "0           RELEASE, MECHANISM  "
      ]
     },
     "execution_count": 47,
     "metadata": {},
     "output_type": "execute_result"
    }
   ],
   "source": [
    "#Look at what we are dealing with in the dataframe and count the number of bids processed\n",
    "print(f\"Total number of bids processed: {len(df)}\")\n",
    "df.head(1)"
   ]
  },
  {
   "cell_type": "markdown",
   "id": "29b4a787",
   "metadata": {},
   "source": [
    "### Wrangle the Data"
   ]
  },
  {
   "cell_type": "markdown",
   "id": "da6a6499",
   "metadata": {},
   "source": [
    "We will need to create a datframe what can be used to upload into the customer quote line, let's start by renaming some of the columns"
   ]
  },
  {
   "cell_type": "code",
   "execution_count": 60,
   "id": "987dbf52",
   "metadata": {},
   "outputs": [
    {
     "data": {
      "text/html": [
       "<div>\n",
       "<style scoped>\n",
       "    .dataframe tbody tr th:only-of-type {\n",
       "        vertical-align: middle;\n",
       "    }\n",
       "\n",
       "    .dataframe tbody tr th {\n",
       "        vertical-align: top;\n",
       "    }\n",
       "\n",
       "    .dataframe thead th {\n",
       "        text-align: right;\n",
       "    }\n",
       "</style>\n",
       "<table border=\"1\" class=\"dataframe\">\n",
       "  <thead>\n",
       "    <tr style=\"text-align: right;\">\n",
       "      <th></th>\n",
       "      <th>inscor__Customer_Reference_Line__c</th>\n",
       "      <th>Name</th>\n",
       "      <th>inscor__Keyword__c</th>\n",
       "      <th>inscor__Quantity_Requested__c</th>\n",
       "      <th>Number of Quantity on PartsBase</th>\n",
       "      <th>Approved Source</th>\n",
       "      <th>inscor__Lead_Time__c</th>\n",
       "      <th>Incumbent</th>\n",
       "      <th>Multiple Award</th>\n",
       "      <th>Approved Source Codes</th>\n",
       "      <th>Date Created</th>\n",
       "      <th>inscor__Core_Due__c</th>\n",
       "      <th>PSC Code</th>\n",
       "      <th>Set Aside</th>\n",
       "      <th>inscor__NSN1__c</th>\n",
       "      <th>FLIS Part Number</th>\n",
       "      <th>Parsed Part Number</th>\n",
       "      <th>FLIS Description</th>\n",
       "      <th>combined_string</th>\n",
       "    </tr>\n",
       "  </thead>\n",
       "  <tbody>\n",
       "    <tr>\n",
       "      <th>0</th>\n",
       "      <td>SPE4A725T591A</td>\n",
       "      <td>C5B205333</td>\n",
       "      <td>RELEASE, MECHANISM</td>\n",
       "      <td>8</td>\n",
       "      <td>0</td>\n",
       "      <td></td>\n",
       "      <td>473 DAYS ADO for Line 0001, 180 DAYS ADO for L...</td>\n",
       "      <td></td>\n",
       "      <td>no</td>\n",
       "      <td>[]</td>\n",
       "      <td>2025-07-02T12:00:00Z</td>\n",
       "      <td>2025-07-10T12:00:00Z</td>\n",
       "      <td>16 - AEROSPACE CRAFT COMPONENTS AND ACCESSORIES</td>\n",
       "      <td>SBA - Total Small Business Set-Aside (FAR 19.5)</td>\n",
       "      <td>1680012305966</td>\n",
       "      <td>C5B205333</td>\n",
       "      <td></td>\n",
       "      <td>RELEASE, MECHANISM</td>\n",
       "      <td>SPE4A725T591A | C5B205333 | RELEASE, MECHANISM...</td>\n",
       "    </tr>\n",
       "    <tr>\n",
       "      <th>1</th>\n",
       "      <td>SPE4A725T591G</td>\n",
       "      <td>9R3886</td>\n",
       "      <td>NRP, RESTRICTOR CHEC</td>\n",
       "      <td>3</td>\n",
       "      <td>0</td>\n",
       "      <td>1WAC1 9R3886; 99240 9R3886</td>\n",
       "      <td>114 days</td>\n",
       "      <td></td>\n",
       "      <td>no</td>\n",
       "      <td>[1WAC1 9R3886, 99240 9R3886]</td>\n",
       "      <td>2025-07-02T12:00:00Z</td>\n",
       "      <td>2025-07-10T12:00:00Z</td>\n",
       "      <td>16 - AEROSPACE CRAFT COMPONENTS AND ACCESSORIES</td>\n",
       "      <td>SBA - Total Small Business Set-Aside (FAR 19.5)</td>\n",
       "      <td>1680016225767</td>\n",
       "      <td>9R3886</td>\n",
       "      <td></td>\n",
       "      <td>NRP, RESTRICTOR CHEC</td>\n",
       "      <td>SPE4A725T591G | 9R3886 | NRP, RESTRICTOR CHEC ...</td>\n",
       "    </tr>\n",
       "    <tr>\n",
       "      <th>2</th>\n",
       "      <td>SPE4A725T590U</td>\n",
       "      <td>5030T92P03</td>\n",
       "      <td>SEAL ASSEMBLY,CARBO</td>\n",
       "      <td>18</td>\n",
       "      <td>0</td>\n",
       "      <td>75370 5030T92P03; 99207 5030T92P03</td>\n",
       "      <td>163 DAYS ADO</td>\n",
       "      <td></td>\n",
       "      <td>no</td>\n",
       "      <td>[75370, 99207]</td>\n",
       "      <td>2025-07-02T12:00:00Z</td>\n",
       "      <td>2025-07-10T12:00:00Z</td>\n",
       "      <td>28 - ENGINES AND TURBINES AND COMPONENT</td>\n",
       "      <td>SBA - Total Small Business Set-Aside (FAR 19.5)</td>\n",
       "      <td>2840011506660</td>\n",
       "      <td>5030T92P03,201100,10158655</td>\n",
       "      <td></td>\n",
       "      <td>SEAL ASSEMBLY,CARBO</td>\n",
       "      <td>SPE4A725T590U | 5030T92P03 | SEAL ASSEMBLY,CAR...</td>\n",
       "    </tr>\n",
       "  </tbody>\n",
       "</table>\n",
       "</div>"
      ],
      "text/plain": [
       "  inscor__Customer_Reference_Line__c        Name    inscor__Keyword__c  \\\n",
       "0                      SPE4A725T591A   C5B205333    RELEASE, MECHANISM   \n",
       "1                      SPE4A725T591G      9R3886  NRP, RESTRICTOR CHEC   \n",
       "2                      SPE4A725T590U  5030T92P03   SEAL ASSEMBLY,CARBO   \n",
       "\n",
       "   inscor__Quantity_Requested__c  Number of Quantity on PartsBase  \\\n",
       "0                              8                                0   \n",
       "1                              3                                0   \n",
       "2                             18                                0   \n",
       "\n",
       "                      Approved Source  \\\n",
       "0                                       \n",
       "1          1WAC1 9R3886; 99240 9R3886   \n",
       "2  75370 5030T92P03; 99207 5030T92P03   \n",
       "\n",
       "                                inscor__Lead_Time__c Incumbent Multiple Award  \\\n",
       "0  473 DAYS ADO for Line 0001, 180 DAYS ADO for L...                       no   \n",
       "1                                           114 days                       no   \n",
       "2                                       163 DAYS ADO                       no   \n",
       "\n",
       "          Approved Source Codes          Date Created   inscor__Core_Due__c  \\\n",
       "0                            []  2025-07-02T12:00:00Z  2025-07-10T12:00:00Z   \n",
       "1  [1WAC1 9R3886, 99240 9R3886]  2025-07-02T12:00:00Z  2025-07-10T12:00:00Z   \n",
       "2                [75370, 99207]  2025-07-02T12:00:00Z  2025-07-10T12:00:00Z   \n",
       "\n",
       "                                          PSC Code  \\\n",
       "0  16 - AEROSPACE CRAFT COMPONENTS AND ACCESSORIES   \n",
       "1  16 - AEROSPACE CRAFT COMPONENTS AND ACCESSORIES   \n",
       "2          28 - ENGINES AND TURBINES AND COMPONENT   \n",
       "\n",
       "                                         Set Aside inscor__NSN1__c  \\\n",
       "0  SBA - Total Small Business Set-Aside (FAR 19.5)   1680012305966   \n",
       "1  SBA - Total Small Business Set-Aside (FAR 19.5)   1680016225767   \n",
       "2  SBA - Total Small Business Set-Aside (FAR 19.5)   2840011506660   \n",
       "\n",
       "             FLIS Part Number Parsed Part Number      FLIS Description  \\\n",
       "0                   C5B205333                       RELEASE, MECHANISM   \n",
       "1                      9R3886                     NRP, RESTRICTOR CHEC   \n",
       "2  5030T92P03,201100,10158655                      SEAL ASSEMBLY,CARBO   \n",
       "\n",
       "                                     combined_string  \n",
       "0  SPE4A725T591A | C5B205333 | RELEASE, MECHANISM...  \n",
       "1  SPE4A725T591G | 9R3886 | NRP, RESTRICTOR CHEC ...  \n",
       "2  SPE4A725T590U | 5030T92P03 | SEAL ASSEMBLY,CAR...  "
      ]
     },
     "execution_count": 60,
     "metadata": {},
     "output_type": "execute_result"
    }
   ],
   "source": [
    "df['combined_string'] = df.astype(str).agg(' | '.join, axis=1)\n",
    "\n",
    "df_quote_lines = df.rename(columns={\n",
    "    \"bid_number\": \"inscor__Customer_Reference_Line__c\",\n",
    "    \"ref_pn\": \"Name\",\n",
    "    \"parse_desc\": \"inscor__Keyword__c\",\n",
    "    \"qty_requested\": \"inscor__Quantity_Requested__c\",\n",
    "    \"num_qty_on_pb\": \"Number of Quantity on PartsBase\",\n",
    "    \"approved_source\": \"Approved Source\",\n",
    "    \"lead_time\": \"inscor__Lead_Time__c\",\n",
    "    \"incumbent\": \"Incumbent\",\n",
    "    \"multiple_award\": \"Multiple Award\",\n",
    "    \"approved_source_codes\": \"Approved Source Codes\",\n",
    "    \"date_create\": \"Date Created\",\n",
    "    \"date_due\": \"inscor__Core_Due__c\",\n",
    "    \"psc_code\": \"PSC Code\",\n",
    "    \"set_aside\": \"Set Aside\",\n",
    "    \"NSN\": \"inscor__NSN1__c\",\n",
    "    \"flis_pn\": \"FLIS Part Number\",\n",
    "    \"parse_pn\": \"Parsed Part Number\",\n",
    "    \"flis_desc\": \"FLIS Description\"\n",
    "})\n",
    "\n",
    "df_parts = df_quote_lines[['Name', 'inscor__Keyword__c', 'inscor__NSN1__c']].copy() #hard copy\n",
    "df_parts['inscor__Keyword__c'] = df_parts['inscor__Keyword__c'].astype(str).str[:14] #max length salesforce will allow is 15\n",
    "df_quote_lines.head()"
   ]
  },
  {
   "cell_type": "markdown",
   "id": "557ad64f",
   "metadata": {},
   "source": [
    "Error handling could be improved in this example, but our merging strategy involves enabling a trigger to prevent duplicate Product2 names, then pulling down the full list of Product2 IDs to merge against. While you could filter using LastModifiedDate or CreatedDate, even with two million rows.  However, it’s not recommended to pull down that many rows on every run, especially in production environment. Please form a caching stratagy if you have to run this frequently (delta pulling CDC)\n"
   ]
  },
  {
   "cell_type": "code",
   "execution_count": 44,
   "id": "d48f78d8",
   "metadata": {},
   "outputs": [],
   "source": [
    "sql_query = \"\"\"\n",
    "SELECT Id, Name\n",
    "FROM Product2\n",
    "\"\"\"\n",
    "\n",
    "result = sf.bulk2.Account.download(\n",
    "    sql_query,\n",
    "    path='../datasets',\n",
    "    max_records=2000000,\n",
    ")\n",
    "\n",
    "file_path = result[0]['file']\n",
    "sf_parts = pd.read_csv(file_path)"
   ]
  },
  {
   "cell_type": "code",
   "execution_count": 61,
   "id": "d587ddbe",
   "metadata": {},
   "outputs": [
    {
     "data": {
      "text/html": [
       "<div>\n",
       "<style scoped>\n",
       "    .dataframe tbody tr th:only-of-type {\n",
       "        vertical-align: middle;\n",
       "    }\n",
       "\n",
       "    .dataframe tbody tr th {\n",
       "        vertical-align: top;\n",
       "    }\n",
       "\n",
       "    .dataframe thead th {\n",
       "        text-align: right;\n",
       "    }\n",
       "</style>\n",
       "<table border=\"1\" class=\"dataframe\">\n",
       "  <thead>\n",
       "    <tr style=\"text-align: right;\">\n",
       "      <th></th>\n",
       "      <th>Name</th>\n",
       "      <th>inscor__Keyword__c</th>\n",
       "      <th>inscor__NSN1__c</th>\n",
       "    </tr>\n",
       "  </thead>\n",
       "  <tbody>\n",
       "    <tr>\n",
       "      <th>0</th>\n",
       "      <td>C5B205333</td>\n",
       "      <td>RELEASE, MECHA</td>\n",
       "      <td>1680012305966</td>\n",
       "    </tr>\n",
       "    <tr>\n",
       "      <th>2</th>\n",
       "      <td>5030T92P03</td>\n",
       "      <td>SEAL ASSEMBLY,</td>\n",
       "      <td>2840011506660</td>\n",
       "    </tr>\n",
       "  </tbody>\n",
       "</table>\n",
       "</div>"
      ],
      "text/plain": [
       "         Name inscor__Keyword__c inscor__NSN1__c\n",
       "0   C5B205333     RELEASE, MECHA   1680012305966\n",
       "2  5030T92P03     SEAL ASSEMBLY,   2840011506660"
      ]
     },
     "execution_count": 61,
     "metadata": {},
     "output_type": "execute_result"
    }
   ],
   "source": [
    "\n",
    "df_insert = df_parts[~df_parts['Name'].isin(sf_parts['Name'])]\n",
    "df_insert.head()\n"
   ]
  },
  {
   "cell_type": "code",
   "execution_count": null,
   "id": "ee929eec",
   "metadata": {},
   "outputs": [
    {
     "name": "stdout",
     "output_type": "stream",
     "text": [
      "[{'numberRecordsFailed': 0, 'numberRecordsProcessed': 2, 'numberRecordsTotal': 2, 'job_id': '750ep000003F8Q9AAK'}]\n",
      "Total records inserted: 2\n"
     ]
    },
    {
     "data": {
      "text/html": [
       "<div>\n",
       "<style scoped>\n",
       "    .dataframe tbody tr th:only-of-type {\n",
       "        vertical-align: middle;\n",
       "    }\n",
       "\n",
       "    .dataframe tbody tr th {\n",
       "        vertical-align: top;\n",
       "    }\n",
       "\n",
       "    .dataframe thead th {\n",
       "        text-align: right;\n",
       "    }\n",
       "</style>\n",
       "<table border=\"1\" class=\"dataframe\">\n",
       "  <thead>\n",
       "    <tr style=\"text-align: right;\">\n",
       "      <th></th>\n",
       "      <th>sf__Id</th>\n",
       "      <th>sf__Created</th>\n",
       "      <th>inscor__Keyword__c</th>\n",
       "      <th>inscor__NSN1__c</th>\n",
       "      <th>Name</th>\n",
       "      <th>job_id</th>\n",
       "    </tr>\n",
       "  </thead>\n",
       "  <tbody>\n",
       "    <tr>\n",
       "      <th>0</th>\n",
       "      <td>01tep000002OHWSAA4</td>\n",
       "      <td>True</td>\n",
       "      <td>RELEASE, MECHA</td>\n",
       "      <td>1680012305966</td>\n",
       "      <td>C5B205333</td>\n",
       "      <td>750ep000003F8Q9AAK</td>\n",
       "    </tr>\n",
       "    <tr>\n",
       "      <th>1</th>\n",
       "      <td>01tep000002OHWTAA4</td>\n",
       "      <td>True</td>\n",
       "      <td>SEAL ASSEMBLY,</td>\n",
       "      <td>2840011506660</td>\n",
       "      <td>5030T92P03</td>\n",
       "      <td>750ep000003F8Q9AAK</td>\n",
       "    </tr>\n",
       "  </tbody>\n",
       "</table>\n",
       "</div>"
      ],
      "text/plain": [
       "               sf__Id  sf__Created inscor__Keyword__c  inscor__NSN1__c  \\\n",
       "0  01tep000002OHWSAA4         True     RELEASE, MECHA    1680012305966   \n",
       "1  01tep000002OHWTAA4         True     SEAL ASSEMBLY,    2840011506660   \n",
       "\n",
       "         Name              job_id  \n",
       "0   C5B205333  750ep000003F8Q9AAK  \n",
       "1  5030T92P03  750ep000003F8Q9AAK  "
      ]
     },
     "metadata": {},
     "output_type": "display_data"
    },
    {
     "name": "stdout",
     "output_type": "stream",
     "text": [
      "Total records failed: 0\n"
     ]
    },
    {
     "data": {
      "text/html": [
       "<div>\n",
       "<style scoped>\n",
       "    .dataframe tbody tr th:only-of-type {\n",
       "        vertical-align: middle;\n",
       "    }\n",
       "\n",
       "    .dataframe tbody tr th {\n",
       "        vertical-align: top;\n",
       "    }\n",
       "\n",
       "    .dataframe thead th {\n",
       "        text-align: right;\n",
       "    }\n",
       "</style>\n",
       "<table border=\"1\" class=\"dataframe\">\n",
       "  <thead>\n",
       "    <tr style=\"text-align: right;\">\n",
       "      <th></th>\n",
       "      <th>sf__Id</th>\n",
       "      <th>sf__Error</th>\n",
       "      <th>inscor__Keyword__c</th>\n",
       "      <th>inscor__NSN1__c</th>\n",
       "      <th>Name</th>\n",
       "      <th>job_id</th>\n",
       "    </tr>\n",
       "  </thead>\n",
       "  <tbody>\n",
       "  </tbody>\n",
       "</table>\n",
       "</div>"
      ],
      "text/plain": [
       "Empty DataFrame\n",
       "Columns: [sf__Id, sf__Error, inscor__Keyword__c, inscor__NSN1__c, Name, job_id]\n",
       "Index: []"
      ]
     },
     "metadata": {},
     "output_type": "display_data"
    }
   ],
   "source": [
    "records=df_insert.to_dict(orient='records')\n",
    "result = sf.bulk2.Product2.insert(records=records, concurrency=100)\n",
    "print(result)\n",
    "\n",
    "#check the results\n",
    "success, fail = get_bulk2_results(result)\n",
    "print(f\"Total records inserted: {len(success)}\")\n",
    "display(success.head(3))\n",
    "print(f\"Total records failed: {len(fail)}\")\n",
    "display(fail.head(3))\n",
    "\n",
    "#Yes you could (should) certainly use the rest API for this amount of data, but I already put BulkAPI in the presentation title\n",
    "#There is no backing out now.\n",
    "\n",
    "#add success results to the DataFrame\n",
    "sf_parts = pd.concat([sf_parts, success['sf__Id', 'Name']], ignore_index=True)"
   ]
  },
  {
   "cell_type": "code",
   "execution_count": null,
   "id": "edba4d0e",
   "metadata": {},
   "outputs": [],
   "source": [
    "#drop dupes then merge, then remove uneeded columns"
   ]
  },
  {
   "cell_type": "code",
   "execution_count": null,
   "id": "4588656e",
   "metadata": {},
   "outputs": [],
   "source": []
  }
 ],
 "metadata": {
  "kernelspec": {
   "display_name": "BuckeyeDreaminDemo-UmNsEV2x",
   "language": "python",
   "name": "python3"
  },
  "language_info": {
   "codemirror_mode": {
    "name": "ipython",
    "version": 3
   },
   "file_extension": ".py",
   "mimetype": "text/x-python",
   "name": "python",
   "nbconvert_exporter": "python",
   "pygments_lexer": "ipython3",
   "version": "3.13.2"
  }
 },
 "nbformat": 4,
 "nbformat_minor": 5
}
